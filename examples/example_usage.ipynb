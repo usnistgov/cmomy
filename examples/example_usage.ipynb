{
 "cells": [
  {
   "cell_type": "markdown",
   "metadata": {},
   "source": [
    "# Central moments"
   ]
  },
  {
   "cell_type": "code",
   "execution_count": 3,
   "metadata": {},
   "outputs": [],
   "source": [
    "import numpy as np\n",
    "import cmomy\n",
    "\n",
    "import scipy.stats"
   ]
  },
  {
   "cell_type": "code",
   "execution_count": 4,
   "metadata": {},
   "outputs": [],
   "source": [
    "# setup some test data\n",
    "x = np.random.rand(100)\n",
    "\n",
    "# number of moments\n",
    "mom = 4\n",
    "\n",
    "raw_mom = (x[:, None] ** np.arange(mom+1)).mean(0)\n",
    "\n",
    "# cen_mom = ((x - x.mean())[:, None] ** np.arange(mom+1)).mean(0)\n",
    "# prefer scipy.stats.moments as treats mom=1 correctly\n",
    "cen_mom = scipy.stats.moment(x, moment=np.arange(mom+1))"
   ]
  },
  {
   "cell_type": "code",
   "execution_count": 11,
   "metadata": {},
   "outputs": [],
   "source": [
    "x = np.random.rand(10000)"
   ]
  },
  {
   "cell_type": "code",
   "execution_count": 26,
   "metadata": {},
   "outputs": [],
   "source": [
    "s = x.sum()"
   ]
  },
  {
   "cell_type": "code",
   "execution_count": 30,
   "metadata": {},
   "outputs": [
    {
     "name": "stdout",
     "output_type": "stream",
     "text": [
      "221 µs ± 0 ns per loop (mean ± std. dev. of 1 run, 1 loop each)\n"
     ]
    }
   ],
   "source": [
    "%timeit -n 1 -r 1 np.testing.assert_allclose(s, x.sum())"
   ]
  },
  {
   "cell_type": "code",
   "execution_count": 35,
   "metadata": {},
   "outputs": [],
   "source": [
    "# using cmomy\n",
    "s = cmomy.CentralMoments.from_vals(x, mom=mom)"
   ]
  },
  {
   "cell_type": "markdown",
   "metadata": {},
   "source": [
    "Note first time calling a method might be a bit slow.\n",
    "behind the scenes, cmomy uses numba jit compiler.\n",
    "first call to function compiles the numba function\n",
    "subsequent calls very fast"
   ]
  },
  {
   "cell_type": "code",
   "execution_count": 36,
   "metadata": {},
   "outputs": [
    {
     "name": "stdout",
     "output_type": "stream",
     "text": [
      "Help on property:\n",
      "\n",
      "    accessor to numpy underlying data\n",
      "    \n",
      "    By convention data has the following meaning for the moments indexes\n",
      "    \n",
      "    * `data[i_0=0,... i_n=0]`, if all moment indices are zero, this is the sum of weights\n",
      "    * `data[i_0=0,... i_k=1, ... i_n=0]`, if only one moment indice is one and all\n",
      "    others zero, then this is the average value of the variable with unit index.\n",
      "    \n",
      "    * all other cases, the central moments `<(x0-<x0>)**i0 * (x1 - <x1>)**i1 * ...>`\n",
      "\n"
     ]
    }
   ],
   "source": [
    "# attributes of s\n",
    "# s.data -> 'moments data'\n",
    "help(cmomy.CentralMoments.data)"
   ]
  },
  {
   "cell_type": "code",
   "execution_count": 37,
   "metadata": {},
   "outputs": [],
   "source": [
    "# access to raw moments\n",
    "np.testing.assert_allclose(s.rmom(), raw_mom)\n",
    "\n",
    "# access to central moments\n",
    "np.testing.assert_allclose(s.cmom(), cen_mom)"
   ]
  },
  {
   "cell_type": "code",
   "execution_count": 41,
   "metadata": {},
   "outputs": [],
   "source": [
    "# other attributes\n",
    "np.testing.assert_allclose(s.mean(), x.mean())\n",
    "np.testing.assert_allclose(s.var(), x.var(ddof=0))\n",
    "np.testing.assert_allclose(s.weight(), len(x))"
   ]
  },
  {
   "cell_type": "code",
   "execution_count": 47,
   "metadata": {},
   "outputs": [],
   "source": [
    "# converting raw/central\n",
    "# note that this can run into numerical stability issues\n",
    "\n",
    "raw = s.to_raw()\n",
    "cen = s.data\n",
    "\n",
    "# NOTE:  raw[i] = weight, i = 0\n",
    "#               = <x**i>, i > 0\n",
    "\n",
    "import cmomy.convert\n",
    "cen2 = cmomy.convert.to_central_moments(raw)\n",
    "raw2 = cmomy.convert.to_raw_moments(cen)\n",
    "\n",
    "\n",
    "np.testing.assert_allclose(cen, cen2)\n",
    "np.testing.assert_allclose(raw, raw2)\n",
    "\n",
    "\n"
   ]
  },
  {
   "cell_type": "code",
   "execution_count": 62,
   "metadata": {},
   "outputs": [],
   "source": [
    "# so whats the point?  The real power is in combining statistics \n",
    "# using numerically stable methods based on central moments\n",
    "\n",
    "x2 = np.random.rand(200)\n",
    "xc = np.concatenate((x, x2), axis=0)\n",
    "\n",
    "cen_mom = scipy.stats.moment(xc, moment=np.arange(mom+1))\n"
   ]
  },
  {
   "cell_type": "code",
   "execution_count": 65,
   "metadata": {},
   "outputs": [],
   "source": [
    "# note, this is just for x2\n",
    "s2 = cmomy.CentralMoments.from_vals(x2, mom=mom)\n",
    "# sum two object\n",
    "sc = s + s2"
   ]
  },
  {
   "cell_type": "code",
   "execution_count": 68,
   "metadata": {},
   "outputs": [],
   "source": [
    "np.testing.assert_allclose(sc.cmom(), cen_mom)"
   ]
  },
  {
   "cell_type": "code",
   "execution_count": 71,
   "metadata": {},
   "outputs": [],
   "source": [
    "# could also create one object and build from there\n",
    "sc = cmomy.CentralMoments.from_vals(x, mom=mom)\n",
    "sc.push_vals(x2)\n",
    "np.testing.assert_allclose(sc.cmom(), cen_mom)\n"
   ]
  },
  {
   "cell_type": "code",
   "execution_count": 95,
   "metadata": {},
   "outputs": [],
   "source": [
    "# resampling\n",
    "ndat = len(x)\n",
    "nrep = 20\n",
    "idx = np.random.choice(ndat, (nrep, ndat), replace=True)\n",
    "cen_mom = scipy.stats.moment(x[idx], axis=-1, moment=np.arange(mom+1))\n",
    "\n",
    "# Note that scipy puts moments as first axes\n",
    "# cmomy puts moments in last axes\n",
    "# so move first to last\n",
    "cen_mom = np.moveaxis(cen_mom, 0, -1)\n",
    "\n",
    "\n",
    "s = cmomy.CentralMoments.from_resample_vals(x, indices=idx, mom=mom, resample_kws=dict(parallel=True))\n",
    "np.testing.assert_allclose(s.cmom(), cen_mom)"
   ]
  },
  {
   "cell_type": "code",
   "execution_count": 126,
   "metadata": {},
   "outputs": [],
   "source": [
    "# resampling much faster for big-ish arrays\n",
    "y = np.random.rand(20000)\n",
    "ndat = len(y)\n",
    "nrep = 1000\n",
    "\n",
    "idx = np.random.choice(ndat, (nrep, ndat), replace=True)"
   ]
  },
  {
   "cell_type": "code",
   "execution_count": 127,
   "metadata": {},
   "outputs": [
    {
     "name": "stdout",
     "output_type": "stream",
     "text": [
      "672 ms ± 0 ns per loop (mean ± std. dev. of 1 run, 1 loop each)\n"
     ]
    }
   ],
   "source": [
    "%%timeit -n 1 -r 1\n",
    "cen_mom = scipy.stats.moment(y[idx], axis=-1, moment=np.arange(mom+1))\n",
    "\n",
    "# Note that scipy puts moments as first axes\n",
    "# cmomy puts moments in last axes\n",
    "# so move first to last\n",
    "cen_mom = np.moveaxis(cen_mom, 0, -1)"
   ]
  },
  {
   "cell_type": "code",
   "execution_count": 128,
   "metadata": {},
   "outputs": [
    {
     "name": "stdout",
     "output_type": "stream",
     "text": [
      "120 ms ± 0 ns per loop (mean ± std. dev. of 1 run, 1 loop each)\n"
     ]
    }
   ],
   "source": [
    "%%timeit -n 1 -r 1\n",
    "s = cmomy.CentralMoments.from_resample_vals(y, indices=idx, mom=mom, resample_kws=dict(parallel=True))"
   ]
  },
  {
   "cell_type": "markdown",
   "metadata": {},
   "source": [
    "## Arbitrary weights"
   ]
  },
  {
   "cell_type": "code",
   "execution_count": 130,
   "metadata": {},
   "outputs": [],
   "source": [
    "x = np.random.rand(100)\n",
    "w = np.random.rand(100)\n",
    "\n",
    "s = cmomy.CentralMoments.from_vals(x=x, w=w, mom=mom)"
   ]
  },
  {
   "cell_type": "code",
   "execution_count": 134,
   "metadata": {},
   "outputs": [],
   "source": [
    "cen_mom = np.average((x[:, None] - np.average(x, weights=w))**np.arange(mom+1), weights=w, axis=0)\n",
    "cen_mom[1] = 0"
   ]
  },
  {
   "cell_type": "code",
   "execution_count": 136,
   "metadata": {},
   "outputs": [],
   "source": [
    "np.testing.assert_allclose(cen_mom, s.cmom())"
   ]
  },
  {
   "cell_type": "markdown",
   "metadata": {},
   "source": [
    "# Arbitrary shapes"
   ]
  },
  {
   "cell_type": "code",
   "execution_count": 146,
   "metadata": {},
   "outputs": [],
   "source": [
    "x = np.random.rand(100, 20, 3)\n",
    "\n",
    "cen_mom = scipy.stats.moment(x, moment=np.arange(mom+1), axis=0)\n",
    "cen_mom = np.moveaxis(cen_mom, 0, -1)\n",
    "\n",
    "s = cmomy.CentralMoments.from_vals(x, mom=mom)\n",
    "np.testing.assert_allclose(cen_mom, s.cmom())"
   ]
  },
  {
   "cell_type": "code",
   "execution_count": 156,
   "metadata": {},
   "outputs": [],
   "source": [
    "# and now we can take advantage of some stuff\n",
    "# reduce along an axis\n",
    "sr = s.reduce(axis=0)\n",
    "\n",
    "test = scipy.stats.moment(x.reshape(-1, 3), moment=np.arange(mom+1), axis=0)\n",
    "test = np.moveaxis(test, 0, -1)\n"
   ]
  },
  {
   "cell_type": "code",
   "execution_count": 160,
   "metadata": {},
   "outputs": [],
   "source": [
    "np.testing.assert_allclose(sr.cmom(),test)"
   ]
  },
  {
   "cell_type": "code",
   "execution_count": 181,
   "metadata": {},
   "outputs": [],
   "source": [
    "# resample s along axis=0\n",
    "ndat = s.shape[0]\n",
    "nrep = 50\n",
    "idx = np.random.choice(ndat, (nrep, ndat), True)\n",
    "\n",
    "sr = s.resample_and_reduce(indices=idx, axis=0, resample_kws=dict(parallel=True))\n",
    "\n",
    "# some nasty rearranging to do the same with scipy.stat.moment\n",
    "xx = np.take(x, idx.T, axis=1).reshape(-1, nrep, 3)\n",
    "test = scipy.stats.moment(xx, moment=np.arange(mom+1), axis=0)\n",
    "test = np.moveaxis(test, 0, -1)\n",
    "\n",
    "\n",
    "np.testing.assert_allclose(test,sr.cmom())"
   ]
  },
  {
   "cell_type": "code",
   "execution_count": 182,
   "metadata": {},
   "outputs": [
    {
     "name": "stdout",
     "output_type": "stream",
     "text": [
      "479 µs ± 0 ns per loop (mean ± std. dev. of 1 run, 1 loop each)\n"
     ]
    }
   ],
   "source": [
    "%%timeit -n 1 -r 1\n",
    "# also much faster\n",
    "sr = s.resample_and_reduce(indices=idx, axis=0, resample_kws=dict(parallel=True))"
   ]
  },
  {
   "cell_type": "code",
   "execution_count": 183,
   "metadata": {},
   "outputs": [
    {
     "name": "stdout",
     "output_type": "stream",
     "text": [
      "5.27 ms ± 0 ns per loop (mean ± std. dev. of 1 run, 1 loop each)\n"
     ]
    }
   ],
   "source": [
    "%%timeit -n 1 -r 1\n",
    "# some nasty rearranging to do the same with scipy.stat.moment\n",
    "xx = np.take(x, idx.T, axis=1).reshape(-1, nrep, 3)\n",
    "test = scipy.stats.moment(xx, moment=np.arange(mom+1), axis=0)\n",
    "test = np.moveaxis(test, 0, -1)"
   ]
  },
  {
   "cell_type": "markdown",
   "metadata": {},
   "source": [
    "# Wrapping things with xarray\n",
    "\n",
    "xarray gives a beautiful interface for woring with multidimensional data"
   ]
  },
  {
   "cell_type": "code",
   "execution_count": 184,
   "metadata": {},
   "outputs": [],
   "source": [
    "import xarray as xr"
   ]
  },
  {
   "cell_type": "code",
   "execution_count": 186,
   "metadata": {},
   "outputs": [],
   "source": [
    "x = np.random.rand(100, 2, 3, 4)\n",
    "xx = xr.DataArray(x, dims=['rec', 'a','b','c'])\n",
    "\n",
    "mom = 4"
   ]
  },
  {
   "cell_type": "code",
   "execution_count": 193,
   "metadata": {},
   "outputs": [],
   "source": [
    "s = cmomy.CentralMoments.from_vals(x, mom=mom, axis=0)\n",
    "sx = cmomy.xCentralMoments.from_vals(xx, mom=mom, axis='rec')"
   ]
  },
  {
   "cell_type": "code",
   "execution_count": 194,
   "metadata": {},
   "outputs": [],
   "source": [
    "np.testing.assert_allclose(s.data,sx.data)"
   ]
  },
  {
   "cell_type": "code",
   "execution_count": 196,
   "metadata": {},
   "outputs": [
    {
     "data": {
      "text/html": [
       "<div><svg style=\"position: absolute; width: 0; height: 0; overflow: hidden\">\n",
       "<defs>\n",
       "<symbol id=\"icon-database\" viewBox=\"0 0 32 32\">\n",
       "<path d=\"M16 0c-8.837 0-16 2.239-16 5v4c0 2.761 7.163 5 16 5s16-2.239 16-5v-4c0-2.761-7.163-5-16-5z\"></path>\n",
       "<path d=\"M16 17c-8.837 0-16-2.239-16-5v6c0 2.761 7.163 5 16 5s16-2.239 16-5v-6c0 2.761-7.163 5-16 5z\"></path>\n",
       "<path d=\"M16 26c-8.837 0-16-2.239-16-5v6c0 2.761 7.163 5 16 5s16-2.239 16-5v-6c0 2.761-7.163 5-16 5z\"></path>\n",
       "</symbol>\n",
       "<symbol id=\"icon-file-text2\" viewBox=\"0 0 32 32\">\n",
       "<path d=\"M28.681 7.159c-0.694-0.947-1.662-2.053-2.724-3.116s-2.169-2.030-3.116-2.724c-1.612-1.182-2.393-1.319-2.841-1.319h-15.5c-1.378 0-2.5 1.121-2.5 2.5v27c0 1.378 1.122 2.5 2.5 2.5h23c1.378 0 2.5-1.122 2.5-2.5v-19.5c0-0.448-0.137-1.23-1.319-2.841zM24.543 5.457c0.959 0.959 1.712 1.825 2.268 2.543h-4.811v-4.811c0.718 0.556 1.584 1.309 2.543 2.268zM28 29.5c0 0.271-0.229 0.5-0.5 0.5h-23c-0.271 0-0.5-0.229-0.5-0.5v-27c0-0.271 0.229-0.5 0.5-0.5 0 0 15.499-0 15.5 0v7c0 0.552 0.448 1 1 1h7v19.5z\"></path>\n",
       "<path d=\"M23 26h-14c-0.552 0-1-0.448-1-1s0.448-1 1-1h14c0.552 0 1 0.448 1 1s-0.448 1-1 1z\"></path>\n",
       "<path d=\"M23 22h-14c-0.552 0-1-0.448-1-1s0.448-1 1-1h14c0.552 0 1 0.448 1 1s-0.448 1-1 1z\"></path>\n",
       "<path d=\"M23 18h-14c-0.552 0-1-0.448-1-1s0.448-1 1-1h14c0.552 0 1 0.448 1 1s-0.448 1-1 1z\"></path>\n",
       "</symbol>\n",
       "</defs>\n",
       "</svg>\n",
       "<style>/* CSS stylesheet for displaying xarray objects in jupyterlab.\n",
       " *\n",
       " */\n",
       "\n",
       ":root {\n",
       "  --xr-font-color0: var(--jp-content-font-color0, rgba(0, 0, 0, 1));\n",
       "  --xr-font-color2: var(--jp-content-font-color2, rgba(0, 0, 0, 0.54));\n",
       "  --xr-font-color3: var(--jp-content-font-color3, rgba(0, 0, 0, 0.38));\n",
       "  --xr-border-color: var(--jp-border-color2, #e0e0e0);\n",
       "  --xr-disabled-color: var(--jp-layout-color3, #bdbdbd);\n",
       "  --xr-background-color: var(--jp-layout-color0, white);\n",
       "  --xr-background-color-row-even: var(--jp-layout-color1, white);\n",
       "  --xr-background-color-row-odd: var(--jp-layout-color2, #eeeeee);\n",
       "}\n",
       "\n",
       "html[theme=dark],\n",
       "body.vscode-dark {\n",
       "  --xr-font-color0: rgba(255, 255, 255, 1);\n",
       "  --xr-font-color2: rgba(255, 255, 255, 0.54);\n",
       "  --xr-font-color3: rgba(255, 255, 255, 0.38);\n",
       "  --xr-border-color: #1F1F1F;\n",
       "  --xr-disabled-color: #515151;\n",
       "  --xr-background-color: #111111;\n",
       "  --xr-background-color-row-even: #111111;\n",
       "  --xr-background-color-row-odd: #313131;\n",
       "}\n",
       "\n",
       ".xr-wrap {\n",
       "  display: block;\n",
       "  min-width: 300px;\n",
       "  max-width: 700px;\n",
       "}\n",
       "\n",
       ".xr-text-repr-fallback {\n",
       "  /* fallback to plain text repr when CSS is not injected (untrusted notebook) */\n",
       "  display: none;\n",
       "}\n",
       "\n",
       ".xr-header {\n",
       "  padding-top: 6px;\n",
       "  padding-bottom: 6px;\n",
       "  margin-bottom: 4px;\n",
       "  border-bottom: solid 1px var(--xr-border-color);\n",
       "}\n",
       "\n",
       ".xr-header > div,\n",
       ".xr-header > ul {\n",
       "  display: inline;\n",
       "  margin-top: 0;\n",
       "  margin-bottom: 0;\n",
       "}\n",
       "\n",
       ".xr-obj-type,\n",
       ".xr-array-name {\n",
       "  margin-left: 2px;\n",
       "  margin-right: 10px;\n",
       "}\n",
       "\n",
       ".xr-obj-type {\n",
       "  color: var(--xr-font-color2);\n",
       "}\n",
       "\n",
       ".xr-sections {\n",
       "  padding-left: 0 !important;\n",
       "  display: grid;\n",
       "  grid-template-columns: 150px auto auto 1fr 20px 20px;\n",
       "}\n",
       "\n",
       ".xr-section-item {\n",
       "  display: contents;\n",
       "}\n",
       "\n",
       ".xr-section-item input {\n",
       "  display: none;\n",
       "}\n",
       "\n",
       ".xr-section-item input + label {\n",
       "  color: var(--xr-disabled-color);\n",
       "}\n",
       "\n",
       ".xr-section-item input:enabled + label {\n",
       "  cursor: pointer;\n",
       "  color: var(--xr-font-color2);\n",
       "}\n",
       "\n",
       ".xr-section-item input:enabled + label:hover {\n",
       "  color: var(--xr-font-color0);\n",
       "}\n",
       "\n",
       ".xr-section-summary {\n",
       "  grid-column: 1;\n",
       "  color: var(--xr-font-color2);\n",
       "  font-weight: 500;\n",
       "}\n",
       "\n",
       ".xr-section-summary > span {\n",
       "  display: inline-block;\n",
       "  padding-left: 0.5em;\n",
       "}\n",
       "\n",
       ".xr-section-summary-in:disabled + label {\n",
       "  color: var(--xr-font-color2);\n",
       "}\n",
       "\n",
       ".xr-section-summary-in + label:before {\n",
       "  display: inline-block;\n",
       "  content: '►';\n",
       "  font-size: 11px;\n",
       "  width: 15px;\n",
       "  text-align: center;\n",
       "}\n",
       "\n",
       ".xr-section-summary-in:disabled + label:before {\n",
       "  color: var(--xr-disabled-color);\n",
       "}\n",
       "\n",
       ".xr-section-summary-in:checked + label:before {\n",
       "  content: '▼';\n",
       "}\n",
       "\n",
       ".xr-section-summary-in:checked + label > span {\n",
       "  display: none;\n",
       "}\n",
       "\n",
       ".xr-section-summary,\n",
       ".xr-section-inline-details {\n",
       "  padding-top: 4px;\n",
       "  padding-bottom: 4px;\n",
       "}\n",
       "\n",
       ".xr-section-inline-details {\n",
       "  grid-column: 2 / -1;\n",
       "}\n",
       "\n",
       ".xr-section-details {\n",
       "  display: none;\n",
       "  grid-column: 1 / -1;\n",
       "  margin-bottom: 5px;\n",
       "}\n",
       "\n",
       ".xr-section-summary-in:checked ~ .xr-section-details {\n",
       "  display: contents;\n",
       "}\n",
       "\n",
       ".xr-array-wrap {\n",
       "  grid-column: 1 / -1;\n",
       "  display: grid;\n",
       "  grid-template-columns: 20px auto;\n",
       "}\n",
       "\n",
       ".xr-array-wrap > label {\n",
       "  grid-column: 1;\n",
       "  vertical-align: top;\n",
       "}\n",
       "\n",
       ".xr-preview {\n",
       "  color: var(--xr-font-color3);\n",
       "}\n",
       "\n",
       ".xr-array-preview,\n",
       ".xr-array-data {\n",
       "  padding: 0 5px !important;\n",
       "  grid-column: 2;\n",
       "}\n",
       "\n",
       ".xr-array-data,\n",
       ".xr-array-in:checked ~ .xr-array-preview {\n",
       "  display: none;\n",
       "}\n",
       "\n",
       ".xr-array-in:checked ~ .xr-array-data,\n",
       ".xr-array-preview {\n",
       "  display: inline-block;\n",
       "}\n",
       "\n",
       ".xr-dim-list {\n",
       "  display: inline-block !important;\n",
       "  list-style: none;\n",
       "  padding: 0 !important;\n",
       "  margin: 0;\n",
       "}\n",
       "\n",
       ".xr-dim-list li {\n",
       "  display: inline-block;\n",
       "  padding: 0;\n",
       "  margin: 0;\n",
       "}\n",
       "\n",
       ".xr-dim-list:before {\n",
       "  content: '(';\n",
       "}\n",
       "\n",
       ".xr-dim-list:after {\n",
       "  content: ')';\n",
       "}\n",
       "\n",
       ".xr-dim-list li:not(:last-child):after {\n",
       "  content: ',';\n",
       "  padding-right: 5px;\n",
       "}\n",
       "\n",
       ".xr-has-index {\n",
       "  font-weight: bold;\n",
       "}\n",
       "\n",
       ".xr-var-list,\n",
       ".xr-var-item {\n",
       "  display: contents;\n",
       "}\n",
       "\n",
       ".xr-var-item > div,\n",
       ".xr-var-item label,\n",
       ".xr-var-item > .xr-var-name span {\n",
       "  background-color: var(--xr-background-color-row-even);\n",
       "  margin-bottom: 0;\n",
       "}\n",
       "\n",
       ".xr-var-item > .xr-var-name:hover span {\n",
       "  padding-right: 5px;\n",
       "}\n",
       "\n",
       ".xr-var-list > li:nth-child(odd) > div,\n",
       ".xr-var-list > li:nth-child(odd) > label,\n",
       ".xr-var-list > li:nth-child(odd) > .xr-var-name span {\n",
       "  background-color: var(--xr-background-color-row-odd);\n",
       "}\n",
       "\n",
       ".xr-var-name {\n",
       "  grid-column: 1;\n",
       "}\n",
       "\n",
       ".xr-var-dims {\n",
       "  grid-column: 2;\n",
       "}\n",
       "\n",
       ".xr-var-dtype {\n",
       "  grid-column: 3;\n",
       "  text-align: right;\n",
       "  color: var(--xr-font-color2);\n",
       "}\n",
       "\n",
       ".xr-var-preview {\n",
       "  grid-column: 4;\n",
       "}\n",
       "\n",
       ".xr-var-name,\n",
       ".xr-var-dims,\n",
       ".xr-var-dtype,\n",
       ".xr-preview,\n",
       ".xr-attrs dt {\n",
       "  white-space: nowrap;\n",
       "  overflow: hidden;\n",
       "  text-overflow: ellipsis;\n",
       "  padding-right: 10px;\n",
       "}\n",
       "\n",
       ".xr-var-name:hover,\n",
       ".xr-var-dims:hover,\n",
       ".xr-var-dtype:hover,\n",
       ".xr-attrs dt:hover {\n",
       "  overflow: visible;\n",
       "  width: auto;\n",
       "  z-index: 1;\n",
       "}\n",
       "\n",
       ".xr-var-attrs,\n",
       ".xr-var-data {\n",
       "  display: none;\n",
       "  background-color: var(--xr-background-color) !important;\n",
       "  padding-bottom: 5px !important;\n",
       "}\n",
       "\n",
       ".xr-var-attrs-in:checked ~ .xr-var-attrs,\n",
       ".xr-var-data-in:checked ~ .xr-var-data {\n",
       "  display: block;\n",
       "}\n",
       "\n",
       ".xr-var-data > table {\n",
       "  float: right;\n",
       "}\n",
       "\n",
       ".xr-var-name span,\n",
       ".xr-var-data,\n",
       ".xr-attrs {\n",
       "  padding-left: 25px !important;\n",
       "}\n",
       "\n",
       ".xr-attrs,\n",
       ".xr-var-attrs,\n",
       ".xr-var-data {\n",
       "  grid-column: 1 / -1;\n",
       "}\n",
       "\n",
       "dl.xr-attrs {\n",
       "  padding: 0;\n",
       "  margin: 0;\n",
       "  display: grid;\n",
       "  grid-template-columns: 125px auto;\n",
       "}\n",
       "\n",
       ".xr-attrs dt, dd {\n",
       "  padding: 0;\n",
       "  margin: 0;\n",
       "  float: left;\n",
       "  padding-right: 10px;\n",
       "  width: auto;\n",
       "}\n",
       "\n",
       ".xr-attrs dt {\n",
       "  font-weight: normal;\n",
       "  grid-column: 1;\n",
       "}\n",
       "\n",
       ".xr-attrs dt:hover span {\n",
       "  display: inline-block;\n",
       "  background: var(--xr-background-color);\n",
       "  padding-right: 10px;\n",
       "}\n",
       "\n",
       ".xr-attrs dd {\n",
       "  grid-column: 2;\n",
       "  white-space: pre-wrap;\n",
       "  word-break: break-all;\n",
       "}\n",
       "\n",
       ".xr-icon-database,\n",
       ".xr-icon-file-text2 {\n",
       "  display: inline-block;\n",
       "  vertical-align: middle;\n",
       "  width: 1em;\n",
       "  height: 1.5em !important;\n",
       "  stroke-width: 0;\n",
       "  stroke: currentColor;\n",
       "  fill: currentColor;\n",
       "}\n",
       "</style><pre class='xr-text-repr-fallback'>&lt;xarray.DataArray (a: 2, b: 3, c: 4, mom_0: 5)&gt;\n",
       "array([[[[ 1.00000000e+02,  5.22928470e-01,  8.10922787e-02,\n",
       "          -3.87429223e-03,  1.22037638e-02],\n",
       "         [ 1.00000000e+02,  4.82147560e-01,  9.23895644e-02,\n",
       "           2.30066514e-03,  1.40901144e-02],\n",
       "         [ 1.00000000e+02,  4.40126452e-01,  8.72910854e-02,\n",
       "           1.02323600e-02,  1.49570831e-02],\n",
       "         [ 1.00000000e+02,  5.47977521e-01,  7.20903556e-02,\n",
       "          -1.79085618e-04,  9.66249309e-03]],\n",
       "\n",
       "        [[ 1.00000000e+02,  4.94693838e-01,  8.28014254e-02,\n",
       "          -1.61248706e-03,  1.18812706e-02],\n",
       "         [ 1.00000000e+02,  5.24124804e-01,  8.78407943e-02,\n",
       "          -3.77429004e-03,  1.26239545e-02],\n",
       "         [ 1.00000000e+02,  4.76841822e-01,  7.42559438e-02,\n",
       "           3.42372904e-04,  1.00108199e-02],\n",
       "         [ 1.00000000e+02,  5.56096595e-01,  7.77101129e-02,\n",
       "          -2.02411446e-03,  1.10893831e-02]],\n",
       "\n",
       "        [[ 1.00000000e+02,  4.71403781e-01,  9.70898925e-02,\n",
       "           4.27228994e-03,  1.52953345e-02],\n",
       "...\n",
       "         [ 1.00000000e+02,  4.99641607e-01,  7.32423543e-02,\n",
       "           1.27143537e-03,  1.10928000e-02]],\n",
       "\n",
       "        [[ 1.00000000e+02,  5.47054666e-01,  8.76555386e-02,\n",
       "          -5.77450785e-03,  1.29268626e-02],\n",
       "         [ 1.00000000e+02,  5.91868693e-01,  7.74131802e-02,\n",
       "          -7.38802008e-03,  1.16182429e-02],\n",
       "         [ 1.00000000e+02,  4.65567417e-01,  8.85726638e-02,\n",
       "           6.39523575e-03,  1.34152640e-02],\n",
       "         [ 1.00000000e+02,  4.56078856e-01,  1.02777743e-01,\n",
       "           5.66368551e-03,  1.68612769e-02]],\n",
       "\n",
       "        [[ 1.00000000e+02,  4.95579523e-01,  7.57675513e-02,\n",
       "           2.57833510e-03,  1.11040470e-02],\n",
       "         [ 1.00000000e+02,  4.92130173e-01,  7.82638393e-02,\n",
       "           4.43361550e-03,  1.13362838e-02],\n",
       "         [ 1.00000000e+02,  5.01595071e-01,  8.52583579e-02,\n",
       "           2.29920778e-03,  1.28353683e-02],\n",
       "         [ 1.00000000e+02,  5.20820889e-01,  8.37776495e-02,\n",
       "           8.78129180e-04,  1.21244782e-02]]]])\n",
       "Dimensions without coordinates: a, b, c, mom_0</pre><div class='xr-wrap' hidden><div class='xr-header'><div class='xr-obj-type'>xarray.DataArray</div><div class='xr-array-name'></div><ul class='xr-dim-list'><li><span>a</span>: 2</li><li><span>b</span>: 3</li><li><span>c</span>: 4</li><li><span>mom_0</span>: 5</li></ul></div><ul class='xr-sections'><li class='xr-section-item'><div class='xr-array-wrap'><input id='section-6ee15e93-392f-4af6-bd69-86f128ae5b57' class='xr-array-in' type='checkbox' checked><label for='section-6ee15e93-392f-4af6-bd69-86f128ae5b57' title='Show/hide data repr'><svg class='icon xr-icon-database'><use xlink:href='#icon-database'></use></svg></label><div class='xr-array-preview xr-preview'><span>100.0 0.5229 0.08109 -0.003874 ... 0.5208 0.08378 0.0008781 0.01212</span></div><div class='xr-array-data'><pre>array([[[[ 1.00000000e+02,  5.22928470e-01,  8.10922787e-02,\n",
       "          -3.87429223e-03,  1.22037638e-02],\n",
       "         [ 1.00000000e+02,  4.82147560e-01,  9.23895644e-02,\n",
       "           2.30066514e-03,  1.40901144e-02],\n",
       "         [ 1.00000000e+02,  4.40126452e-01,  8.72910854e-02,\n",
       "           1.02323600e-02,  1.49570831e-02],\n",
       "         [ 1.00000000e+02,  5.47977521e-01,  7.20903556e-02,\n",
       "          -1.79085618e-04,  9.66249309e-03]],\n",
       "\n",
       "        [[ 1.00000000e+02,  4.94693838e-01,  8.28014254e-02,\n",
       "          -1.61248706e-03,  1.18812706e-02],\n",
       "         [ 1.00000000e+02,  5.24124804e-01,  8.78407943e-02,\n",
       "          -3.77429004e-03,  1.26239545e-02],\n",
       "         [ 1.00000000e+02,  4.76841822e-01,  7.42559438e-02,\n",
       "           3.42372904e-04,  1.00108199e-02],\n",
       "         [ 1.00000000e+02,  5.56096595e-01,  7.77101129e-02,\n",
       "          -2.02411446e-03,  1.10893831e-02]],\n",
       "\n",
       "        [[ 1.00000000e+02,  4.71403781e-01,  9.70898925e-02,\n",
       "           4.27228994e-03,  1.52953345e-02],\n",
       "...\n",
       "         [ 1.00000000e+02,  4.99641607e-01,  7.32423543e-02,\n",
       "           1.27143537e-03,  1.10928000e-02]],\n",
       "\n",
       "        [[ 1.00000000e+02,  5.47054666e-01,  8.76555386e-02,\n",
       "          -5.77450785e-03,  1.29268626e-02],\n",
       "         [ 1.00000000e+02,  5.91868693e-01,  7.74131802e-02,\n",
       "          -7.38802008e-03,  1.16182429e-02],\n",
       "         [ 1.00000000e+02,  4.65567417e-01,  8.85726638e-02,\n",
       "           6.39523575e-03,  1.34152640e-02],\n",
       "         [ 1.00000000e+02,  4.56078856e-01,  1.02777743e-01,\n",
       "           5.66368551e-03,  1.68612769e-02]],\n",
       "\n",
       "        [[ 1.00000000e+02,  4.95579523e-01,  7.57675513e-02,\n",
       "           2.57833510e-03,  1.11040470e-02],\n",
       "         [ 1.00000000e+02,  4.92130173e-01,  7.82638393e-02,\n",
       "           4.43361550e-03,  1.13362838e-02],\n",
       "         [ 1.00000000e+02,  5.01595071e-01,  8.52583579e-02,\n",
       "           2.29920778e-03,  1.28353683e-02],\n",
       "         [ 1.00000000e+02,  5.20820889e-01,  8.37776495e-02,\n",
       "           8.78129180e-04,  1.21244782e-02]]]])</pre></div></div></li><li class='xr-section-item'><input id='section-60746a53-992d-4b79-a184-e5fbdabee36c' class='xr-section-summary-in' type='checkbox' disabled ><label for='section-60746a53-992d-4b79-a184-e5fbdabee36c' class='xr-section-summary'  title='Expand/collapse section'>Coordinates: <span>(0)</span></label><div class='xr-section-inline-details'></div><div class='xr-section-details'><ul class='xr-var-list'></ul></div></li><li class='xr-section-item'><input id='section-9c993f6e-9430-4624-a92c-f661edd55057' class='xr-section-summary-in' type='checkbox' disabled ><label for='section-9c993f6e-9430-4624-a92c-f661edd55057' class='xr-section-summary'  title='Expand/collapse section'>Attributes: <span>(0)</span></label><div class='xr-section-inline-details'></div><div class='xr-section-details'><dl class='xr-attrs'></dl></div></li></ul></div></div>"
      ],
      "text/plain": [
       "<xarray.DataArray (a: 2, b: 3, c: 4, mom_0: 5)>\n",
       "array([[[[ 1.00000000e+02,  5.22928470e-01,  8.10922787e-02,\n",
       "          -3.87429223e-03,  1.22037638e-02],\n",
       "         [ 1.00000000e+02,  4.82147560e-01,  9.23895644e-02,\n",
       "           2.30066514e-03,  1.40901144e-02],\n",
       "         [ 1.00000000e+02,  4.40126452e-01,  8.72910854e-02,\n",
       "           1.02323600e-02,  1.49570831e-02],\n",
       "         [ 1.00000000e+02,  5.47977521e-01,  7.20903556e-02,\n",
       "          -1.79085618e-04,  9.66249309e-03]],\n",
       "\n",
       "        [[ 1.00000000e+02,  4.94693838e-01,  8.28014254e-02,\n",
       "          -1.61248706e-03,  1.18812706e-02],\n",
       "         [ 1.00000000e+02,  5.24124804e-01,  8.78407943e-02,\n",
       "          -3.77429004e-03,  1.26239545e-02],\n",
       "         [ 1.00000000e+02,  4.76841822e-01,  7.42559438e-02,\n",
       "           3.42372904e-04,  1.00108199e-02],\n",
       "         [ 1.00000000e+02,  5.56096595e-01,  7.77101129e-02,\n",
       "          -2.02411446e-03,  1.10893831e-02]],\n",
       "\n",
       "        [[ 1.00000000e+02,  4.71403781e-01,  9.70898925e-02,\n",
       "           4.27228994e-03,  1.52953345e-02],\n",
       "...\n",
       "         [ 1.00000000e+02,  4.99641607e-01,  7.32423543e-02,\n",
       "           1.27143537e-03,  1.10928000e-02]],\n",
       "\n",
       "        [[ 1.00000000e+02,  5.47054666e-01,  8.76555386e-02,\n",
       "          -5.77450785e-03,  1.29268626e-02],\n",
       "         [ 1.00000000e+02,  5.91868693e-01,  7.74131802e-02,\n",
       "          -7.38802008e-03,  1.16182429e-02],\n",
       "         [ 1.00000000e+02,  4.65567417e-01,  8.85726638e-02,\n",
       "           6.39523575e-03,  1.34152640e-02],\n",
       "         [ 1.00000000e+02,  4.56078856e-01,  1.02777743e-01,\n",
       "           5.66368551e-03,  1.68612769e-02]],\n",
       "\n",
       "        [[ 1.00000000e+02,  4.95579523e-01,  7.57675513e-02,\n",
       "           2.57833510e-03,  1.11040470e-02],\n",
       "         [ 1.00000000e+02,  4.92130173e-01,  7.82638393e-02,\n",
       "           4.43361550e-03,  1.13362838e-02],\n",
       "         [ 1.00000000e+02,  5.01595071e-01,  8.52583579e-02,\n",
       "           2.29920778e-03,  1.28353683e-02],\n",
       "         [ 1.00000000e+02,  5.20820889e-01,  8.37776495e-02,\n",
       "           8.78129180e-04,  1.21244782e-02]]]])\n",
       "Dimensions without coordinates: a, b, c, mom_0"
      ]
     },
     "execution_count": 196,
     "metadata": {},
     "output_type": "execute_result"
    }
   ],
   "source": [
    "# values property gives access to xarray object\n",
    "sx.values"
   ]
  },
  {
   "cell_type": "code",
   "execution_count": 203,
   "metadata": {},
   "outputs": [
    {
     "data": {
      "text/plain": [
       "<CentralMoments(val_shape=(2, 4), mom=(4,))>\n",
       "<xarray.DataArray (a: 2, c: 4, mom_0: 5)>\n",
       "array([[[ 3.00000000e+02,  4.96342030e-01,  8.74383561e-02,\n",
       "         -8.05506472e-04,  1.30870844e-02],\n",
       "        [ 3.00000000e+02,  5.09432790e-01,  8.51099685e-02,\n",
       "         -1.52008518e-03,  1.24518930e-02],\n",
       "        [ 3.00000000e+02,  4.63350459e-01,  7.76084712e-02,\n",
       "          4.17696248e-03,  1.16270518e-02],\n",
       "        [ 3.00000000e+02,  5.43134491e-01,  7.70857232e-02,\n",
       "         -9.42877642e-04,  1.09813226e-02]],\n",
       "\n",
       "       [[ 3.00000000e+02,  5.35590373e-01,  8.16685376e-02,\n",
       "         -3.52729098e-03,  1.19769382e-02],\n",
       "        [ 3.00000000e+02,  5.26272952e-01,  7.82368728e-02,\n",
       "         -6.22937712e-04,  1.12757812e-02],\n",
       "        [ 3.00000000e+02,  4.89474416e-01,  8.37243432e-02,\n",
       "          2.81916286e-03,  1.23038060e-02],\n",
       "        [ 3.00000000e+02,  4.92180451e-01,  8.73256720e-02,\n",
       "          1.83216293e-03,  1.35473693e-02]]])\n",
       "Dimensions without coordinates: a, c, mom_0"
      ]
     },
     "execution_count": 203,
     "metadata": {},
     "output_type": "execute_result"
    }
   ],
   "source": [
    "# do things with xarray\n",
    "sx.reduce(axis='b')"
   ]
  },
  {
   "cell_type": "code",
   "execution_count": 205,
   "metadata": {},
   "outputs": [
    {
     "data": {
      "text/plain": [
       "<CentralMoments(val_shape=(2, 2, 4), mom=(4,))>\n",
       "<xarray.DataArray (a: 2, b: 2, c: 4, mom_0: 5)>\n",
       "array([[[[ 1.00000000e+02,  5.22928470e-01,  8.10922787e-02,\n",
       "          -3.87429223e-03,  1.22037638e-02],\n",
       "         [ 1.00000000e+02,  4.82147560e-01,  9.23895644e-02,\n",
       "           2.30066514e-03,  1.40901144e-02],\n",
       "         [ 1.00000000e+02,  4.40126452e-01,  8.72910854e-02,\n",
       "           1.02323600e-02,  1.49570831e-02],\n",
       "         [ 1.00000000e+02,  5.47977521e-01,  7.20903556e-02,\n",
       "          -1.79085618e-04,  9.66249309e-03]],\n",
       "\n",
       "        [[ 1.00000000e+02,  4.94693838e-01,  8.28014254e-02,\n",
       "          -1.61248706e-03,  1.18812706e-02],\n",
       "         [ 1.00000000e+02,  5.24124804e-01,  8.78407943e-02,\n",
       "          -3.77429004e-03,  1.26239545e-02],\n",
       "         [ 1.00000000e+02,  4.76841822e-01,  7.42559438e-02,\n",
       "           3.42372904e-04,  1.00108199e-02],\n",
       "         [ 1.00000000e+02,  5.56096595e-01,  7.77101129e-02,\n",
       "          -2.02411446e-03,  1.10893831e-02]]],\n",
       "\n",
       "\n",
       "       [[[ 1.00000000e+02,  5.64136930e-01,  7.90353188e-02,\n",
       "          -8.03513026e-03,  1.23082855e-02],\n",
       "         [ 1.00000000e+02,  4.94819991e-01,  7.25757797e-02,\n",
       "           5.04943205e-04,  1.04827290e-02],\n",
       "         [ 1.00000000e+02,  5.01260759e-01,  7.64846351e-02,\n",
       "           3.21226649e-04,  1.07027237e-02],\n",
       "         [ 1.00000000e+02,  4.99641607e-01,  7.32423543e-02,\n",
       "           1.27143537e-03,  1.10928000e-02]],\n",
       "\n",
       "        [[ 1.00000000e+02,  5.47054666e-01,  8.76555386e-02,\n",
       "          -5.77450785e-03,  1.29268626e-02],\n",
       "         [ 1.00000000e+02,  5.91868693e-01,  7.74131802e-02,\n",
       "          -7.38802008e-03,  1.16182429e-02],\n",
       "         [ 1.00000000e+02,  4.65567417e-01,  8.85726638e-02,\n",
       "           6.39523575e-03,  1.34152640e-02],\n",
       "         [ 1.00000000e+02,  4.56078856e-01,  1.02777743e-01,\n",
       "           5.66368551e-03,  1.68612769e-02]]]])\n",
       "Dimensions without coordinates: a, b, c, mom_0"
      ]
     },
     "execution_count": 205,
     "metadata": {},
     "output_type": "execute_result"
    }
   ],
   "source": [
    "# do selection\n",
    "sx.sel(b=[0,1])"
   ]
  },
  {
   "cell_type": "markdown",
   "metadata": {},
   "source": [
    "# comoments\n",
    "\n",
    "all the routines work with comoments as well\n",
    "just pass mom=(mom_0, mom_1)"
   ]
  },
  {
   "cell_type": "code",
   "execution_count": 1,
   "metadata": {},
   "outputs": [],
   "source": [
    "mom = (3, 3)"
   ]
  },
  {
   "cell_type": "code",
   "execution_count": 2,
   "metadata": {},
   "outputs": [
    {
     "ename": "NameError",
     "evalue": "name 'np' is not defined",
     "output_type": "error",
     "traceback": [
      "\u001b[0;31m---------------------------------------------------------------------------\u001b[0m",
      "\u001b[0;31mNameError\u001b[0m                                 Traceback (most recent call last)",
      "\u001b[0;32m<ipython-input-2-cb2c150a2b61>\u001b[0m in \u001b[0;36m<module>\u001b[0;34m\u001b[0m\n\u001b[0;32m----> 1\u001b[0;31m \u001b[0mx\u001b[0m \u001b[0;34m=\u001b[0m \u001b[0mnp\u001b[0m\u001b[0;34m.\u001b[0m\u001b[0mrandom\u001b[0m\u001b[0;34m.\u001b[0m\u001b[0mrand\u001b[0m\u001b[0;34m(\u001b[0m\u001b[0;36m100\u001b[0m\u001b[0;34m)\u001b[0m\u001b[0;34m\u001b[0m\u001b[0;34m\u001b[0m\u001b[0m\n\u001b[0m\u001b[1;32m      2\u001b[0m \u001b[0my\u001b[0m \u001b[0;34m=\u001b[0m \u001b[0mnp\u001b[0m\u001b[0;34m.\u001b[0m\u001b[0mrandom\u001b[0m\u001b[0;34m.\u001b[0m\u001b[0mrand\u001b[0m\u001b[0;34m(\u001b[0m\u001b[0;36m100\u001b[0m\u001b[0;34m)\u001b[0m\u001b[0;34m\u001b[0m\u001b[0;34m\u001b[0m\u001b[0m\n\u001b[1;32m      3\u001b[0m \u001b[0mw\u001b[0m \u001b[0;34m=\u001b[0m \u001b[0mnp\u001b[0m\u001b[0;34m.\u001b[0m\u001b[0mrandom\u001b[0m\u001b[0;34m.\u001b[0m\u001b[0mrand\u001b[0m\u001b[0;34m(\u001b[0m\u001b[0;36m100\u001b[0m\u001b[0;34m)\u001b[0m\u001b[0;34m\u001b[0m\u001b[0;34m\u001b[0m\u001b[0m\n\u001b[1;32m      4\u001b[0m \u001b[0;34m\u001b[0m\u001b[0m\n\u001b[1;32m      5\u001b[0m \u001b[0;31m# NOTE: for co moments, pass in two variables as tuple (x, y)\u001b[0m\u001b[0;34m\u001b[0m\u001b[0;34m\u001b[0m\u001b[0;34m\u001b[0m\u001b[0m\n",
      "\u001b[0;31mNameError\u001b[0m: name 'np' is not defined"
     ]
    }
   ],
   "source": [
    "x = np.random.rand(100)\n",
    "y = np.random.rand(100)\n",
    "w = np.random.rand(100)\n",
    "\n",
    "# NOTE: for co moments, pass in two variables as tuple (x, y)\n",
    "\n",
    "s = cmomy.CentralMoments.from_vals((x, y), w=w, mom=mom)"
   ]
  },
  {
   "cell_type": "code",
   "execution_count": 239,
   "metadata": {},
   "outputs": [],
   "source": [
    "# smart broadcasting\n",
    "x = np.random.rand(100, 2, 3)\n",
    "y = np.random.rand(100)\n",
    "\n",
    "# this would throw an error\n",
    "#s = cmomy.CentralMoments.from_vals((x, y), mom=mom)\n",
    "yy = np.broadcast_to(y[:, None, None], x.shape)\n",
    "s0 = cmomy.CentralMoments.from_vals((x, yy), mom=mom)\n",
    "\n",
    "# or just do this\n",
    "s1 = cmomy.CentralMoments.from_vals((x, y), mom=mom, broadcast=True)\n",
    "\n",
    "np.testing.assert_allclose(s0.data, s1.data)"
   ]
  },
  {
   "cell_type": "code",
   "execution_count": 249,
   "metadata": {},
   "outputs": [],
   "source": [
    "# super convinient to use xarray for this\n",
    "\n",
    "xx = xr.DataArray(x, dims=['rec','a','b'])\n",
    "yy = xr.DataArray(y, dims=['rec'])\n",
    "\n",
    "# supose things in wrong order\n",
    "xx = xx.transpose('a','b','rec')\n",
    "\n",
    "sx = cmomy.xCentralMoments.from_vals((xx, yy), \n",
    "                                     mom=mom, \n",
    "                                     axis='rec', \n",
    "                                     # control moment dim naames\n",
    "                                     mom_dims=['mom_x','mom_y'],\n",
    "                                     broadcast=True)\n",
    "\n"
   ]
  },
  {
   "cell_type": "code",
   "execution_count": 246,
   "metadata": {},
   "outputs": [],
   "source": [
    "np.testing.assert_allclose(sx.data, s0.data)"
   ]
  },
  {
   "cell_type": "code",
   "execution_count": 251,
   "metadata": {},
   "outputs": [],
   "source": [
    "# note, can also just pass arrays to xCentral\n",
    "sx1 = cmomy.xCentralMoments.from_vals((x,y), mom=mom, axis=0, \n",
    "                                      # dims of \"value\" part of arrays\n",
    "                                      # i.e., x less reduced dimension\n",
    "                                      dims=['a','b'],\n",
    "                                      mom_dims=['mom_x','mom_y'],\n",
    "                                      broadcast=True\n",
    "                                     )"
   ]
  },
  {
   "cell_type": "code",
   "execution_count": 253,
   "metadata": {},
   "outputs": [],
   "source": [
    "xr.testing.assert_allclose(sx.values, sx1.values)"
   ]
  },
  {
   "cell_type": "code",
   "execution_count": 255,
   "metadata": {},
   "outputs": [
    {
     "data": {
      "text/plain": [
       "<CentralMoments(val_shape=(20, 2), mom=(3, 3))>\n",
       "<xarray.DataArray (rep: 20, a: 2, mom_x: 4, mom_y: 4)>\n",
       "array([[[[ 3.00000000e+02,  5.32398835e-01,  9.67907858e-02,\n",
       "          -6.26704586e-03],\n",
       "         [ 5.17548149e-01,  7.45814115e-03, -6.83581433e-04,\n",
       "           7.18028882e-04],\n",
       "         [ 8.76377665e-02, -5.75884709e-04,  8.10572069e-03,\n",
       "          -5.90222021e-04],\n",
       "         [-1.14926653e-03,  2.00187872e-03, -2.50679327e-04,\n",
       "           2.61460928e-04]],\n",
       "\n",
       "        [[ 3.00000000e+02,  5.32398835e-01,  9.67907858e-02,\n",
       "          -6.26704586e-03],\n",
       "         [ 5.34106505e-01,  3.32911820e-03,  9.84209780e-04,\n",
       "           6.53252757e-04],\n",
       "         [ 8.36672040e-02, -6.17310471e-04,  8.34781180e-03,\n",
       "          -7.48160727e-04],\n",
       "         [-5.88788041e-03,  2.84477843e-04, -4.69525814e-04,\n",
       "           1.32618740e-04]]],\n",
       "\n",
       "\n",
       "       [[[ 3.00000000e+02,  5.32398835e-01,  9.67907858e-02,\n",
       "...\n",
       "           1.32618740e-04]]],\n",
       "\n",
       "\n",
       "       [[[ 3.00000000e+02,  5.32398835e-01,  9.67907858e-02,\n",
       "          -6.26704586e-03],\n",
       "         [ 5.21500112e-01,  4.22717883e-03, -7.74495978e-04,\n",
       "          -1.38430836e-04],\n",
       "         [ 8.40937250e-02, -1.52098342e-03,  7.92849880e-03,\n",
       "          -7.88473291e-04],\n",
       "         [-2.01045820e-03,  1.70977018e-03, -4.04039688e-04,\n",
       "           1.73843433e-04]],\n",
       "\n",
       "        [[ 3.00000000e+02,  5.32398835e-01,  9.67907858e-02,\n",
       "          -6.26704586e-03],\n",
       "         [ 5.09213913e-01,  2.00680513e-03,  2.01404421e-03,\n",
       "           3.89624315e-04],\n",
       "         [ 9.08077631e-02,  1.17068156e-03,  9.32882192e-03,\n",
       "          -5.69426727e-04],\n",
       "         [-3.64767045e-03, -1.18909336e-04,  4.80609201e-06,\n",
       "           3.54163005e-05]]]])\n",
       "Dimensions without coordinates: rep, a, mom_x, mom_y"
      ]
     },
     "execution_count": 255,
     "metadata": {},
     "output_type": "execute_result"
    }
   ],
   "source": [
    "# and of course, can do whatever now\n",
    "sx.resample_and_reduce(nrep=20, axis='b')"
   ]
  }
 ],
 "metadata": {
  "kernelspec": {
   "display_name": "Python [conda env:.conda-py37]",
   "language": "python",
   "name": "conda-env-.conda-py37-py"
  },
  "language_info": {
   "codemirror_mode": {
    "name": "ipython",
    "version": 3
   },
   "file_extension": ".py",
   "mimetype": "text/x-python",
   "name": "python",
   "nbconvert_exporter": "python",
   "pygments_lexer": "ipython3",
   "version": "3.7.9"
  },
  "toc": {
   "base_numbering": 1,
   "nav_menu": {},
   "number_sections": true,
   "sideBar": true,
   "skip_h1_title": false,
   "title_cell": "Table of Contents",
   "title_sidebar": "Contents",
   "toc_cell": false,
   "toc_position": {},
   "toc_section_display": true,
   "toc_window_display": true
  }
 },
 "nbformat": 4,
 "nbformat_minor": 4
}
