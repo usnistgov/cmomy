{
 "cells": [
  {
   "cell_type": "code",
   "execution_count": 1,
   "metadata": {},
   "outputs": [],
   "source": [
    "import numba"
   ]
  },
  {
   "cell_type": "code",
   "execution_count": 4,
   "metadata": {},
   "outputs": [],
   "source": [
    "import numpy as np\n",
    "\n",
    "import accumulator as Accum\n",
    "import accumulator2 as Accum2\n",
    "\n",
    "from importlib import reload"
   ]
  },
  {
   "cell_type": "code",
   "execution_count": 5,
   "metadata": {},
   "outputs": [
    {
     "data": {
      "text/plain": [
       "<module 'accumulator2' from '/Users/wpk/Documents/python/projects/python_dropin_files/accumulator2.py'>"
      ]
     },
     "execution_count": 5,
     "metadata": {},
     "output_type": "execute_result"
    }
   ],
   "source": [
    "reload(Accum)\n",
    "reload(Accum2)"
   ]
  },
  {
   "cell_type": "code",
   "execution_count": 6,
   "metadata": {},
   "outputs": [],
   "source": [
    "x = np.random.rand(1000)\n",
    "\n",
    "data = np.zeros(3)\n",
    "for xx in x:\n",
    "    Accum._push_stat(data, 1.0, xx, 0.0)\n",
    "\n",
    "np.testing.assert_allclose(data[1] , x.mean())\n",
    "np.testing.assert_allclose(data[2] , x.var(ddof=0))\n",
    "\n",
    "idx = np.cumsum(np.random.randint(1, 20, 1000))\n",
    "idx = idx[idx < len(x)]\n",
    "X = np.split(x, idx)\n",
    "\n",
    "A = [xx.mean() for xx in X]\n",
    "V = [xx.var() for xx in X]\n",
    "W = [len(xx) for xx in X]\n",
    "\n",
    "data = np.zeros(3)\n",
    "L = []\n",
    "for a, v, w in zip(A, V, W):\n",
    "    Accum._push_stat(data, a=a, v=v, w=w)\n",
    "    L.append(data)\n",
    "\n",
    "np.testing.assert_allclose(data[1], x.mean())\n",
    "np.testing.assert_allclose(data[2], x.var(ddof=0))\n",
    "\n",
    "L = np.array(L)"
   ]
  },
  {
   "cell_type": "code",
   "execution_count": null,
   "metadata": {},
   "outputs": [],
   "source": []
  },
  {
   "cell_type": "code",
   "execution_count": 10,
   "metadata": {},
   "outputs": [
    {
     "name": "stdout",
     "output_type": "stream",
     "text": [
      "520 µs ± 116 µs per loop (mean ± std. dev. of 7 runs, 1 loop each)\n"
     ]
    }
   ],
   "source": [
    "%%timeit -n 1\n",
    "g = Accum.StatsAccum.from_stats(np.array(A), np.array(V), np.array(W))\n",
    "\n",
    "np.testing.assert_allclose(g.mean(), x.mean())\n",
    "np.testing.assert_allclose(g.var(), x.var(ddof=0))\n",
    "np.testing.assert_allclose(g.weight(), len(x))\n"
   ]
  },
  {
   "cell_type": "code",
   "execution_count": 13,
   "metadata": {},
   "outputs": [
    {
     "name": "stdout",
     "output_type": "stream",
     "text": [
      "481 µs ± 135 µs per loop (mean ± std. dev. of 7 runs, 1 loop each)\n"
     ]
    }
   ],
   "source": [
    "%%timeit -n 1\n",
    "g = Accum2.StatsAccum.from_stats(np.array(A), np.array(V), np.array(W))\n",
    "\n",
    "np.testing.assert_allclose(g.mean(), x.mean())\n",
    "np.testing.assert_allclose(g.var(), x.var(ddof=0))\n",
    "np.testing.assert_allclose(g.weight(), len(x))\n"
   ]
  },
  {
   "cell_type": "code",
   "execution_count": 14,
   "metadata": {},
   "outputs": [],
   "source": [
    "x = np.random.rand(5000, 100)\n",
    "\n",
    "\n",
    "idx = np.cumsum(np.random.randint(1, 20, 1000))\n",
    "idx = idx[idx < len(x)]\n",
    "X = np.split(x, idx)\n",
    "\n",
    "LA = [xx.mean(axis=0) for xx in X]\n",
    "LV = [xx.var(axis=0, ddof=0) for xx in X]\n",
    "LW = [xx.shape[0] for xx in X]\n",
    "\n",
    "LA = np.array(LA)\n",
    "LV = np.array(LV)\n",
    "LW = np.array(LW)\n",
    "\n",
    "\n",
    "\n",
    "s = (slice(None),) + (None,) * (x.ndim - 1)\n",
    "LW = np.broadcast_to(LW[s], LA.shape)"
   ]
  },
  {
   "cell_type": "code",
   "execution_count": 15,
   "metadata": {},
   "outputs": [],
   "source": [
    "g = Accum.StatsAccumVec.from_stats(A=LA, V=LV, W=LW)\n",
    "\n",
    "np.testing.assert_allclose(g.mean(), x.mean(axis=0))\n",
    "np.testing.assert_allclose(g.var(), x.var(axis=0, ddof=0))\n",
    "np.testing.assert_allclose(g.weight(), np.count_nonzero(x, axis=0))\n",
    "\n",
    "\n",
    "g = Accum2.StatsAccumVec.from_stats(A=LA, V=LV, W=LW)\n",
    "\n",
    "np.testing.assert_allclose(g.mean(), x.mean(axis=0))\n",
    "np.testing.assert_allclose(g.var(), x.var(axis=0, ddof=0))\n",
    "np.testing.assert_allclose(g.weight(), np.count_nonzero(x, axis=0))"
   ]
  },
  {
   "cell_type": "code",
   "execution_count": 20,
   "metadata": {},
   "outputs": [
    {
     "name": "stdout",
     "output_type": "stream",
     "text": [
      "998 µs ± 27.1 µs per loop (mean ± std. dev. of 3 runs, 10 loops each)\n",
      "770 µs ± 48.5 µs per loop (mean ± std. dev. of 3 runs, 10 loops each)\n"
     ]
    }
   ],
   "source": [
    "%timeit -n 10 -r 3 Accum.StatsAccumVec.from_stats(A=LA, V=LV, W=LW)\n",
    "%timeit -n 10 -r 3 Accum2.StatsAccumVec.from_stats(A=LA, V=LV, W=LW)\n"
   ]
  },
  {
   "cell_type": "code",
   "execution_count": 21,
   "metadata": {},
   "outputs": [],
   "source": [
    "# by value "
   ]
  },
  {
   "cell_type": "code",
   "execution_count": 22,
   "metadata": {},
   "outputs": [],
   "source": [
    "X = np.random.rand(10000, 100)\n",
    "W = np.random.rand(10000, 1)\n",
    "#W = np.ones((1000, 1), dtype=X.dtype)\n",
    "W = np.broadcast_to(W, X.shape)"
   ]
  },
  {
   "cell_type": "code",
   "execution_count": 23,
   "metadata": {},
   "outputs": [],
   "source": [
    "g = Accum.StatsAccumVec.from_vals(X, W=W)"
   ]
  },
  {
   "cell_type": "code",
   "execution_count": 24,
   "metadata": {},
   "outputs": [],
   "source": [
    "data = np.zeros_like(g._datar)"
   ]
  },
  {
   "cell_type": "code",
   "execution_count": 25,
   "metadata": {},
   "outputs": [],
   "source": [
    "data.fill(0.0)\n",
    "Accum._push_vals_vec(data, W, X)\n",
    "np.testing.assert_allclose(data, g.data)"
   ]
  },
  {
   "cell_type": "code",
   "execution_count": 26,
   "metadata": {},
   "outputs": [],
   "source": [
    "data.fill(0.0)\n",
    "Accum2._push_vals_vec(data, W, X)\n",
    "np.testing.assert_allclose(data, g.data)"
   ]
  },
  {
   "cell_type": "code",
   "execution_count": 30,
   "metadata": {},
   "outputs": [
    {
     "name": "stdout",
     "output_type": "stream",
     "text": [
      "13.3 ms ± 964 µs per loop (mean ± std. dev. of 3 runs, 10 loops each)\n",
      "2.45 ms ± 49.9 µs per loop (mean ± std. dev. of 3 runs, 10 loops each)\n"
     ]
    }
   ],
   "source": [
    "%timeit -n 10 -r 3 Accum._push_vals_vec(data, W, X)\n",
    "%timeit -n 10 -r 3 Accum2._push_vals_vec(data, W, X)\n"
   ]
  },
  {
   "cell_type": "code",
   "execution_count": 41,
   "metadata": {},
   "outputs": [],
   "source": [
    "# numba\n",
    "from numba import njit, prange, jit\n",
    "\n",
    "_PARALLEL = True\n",
    "@njit(parallel=True)\n",
    "def _push_vals_vec(data, W, X):\n",
    "    nmeta = data.shape[0]\n",
    "    nsamp = X.shape[0]\n",
    "\n",
    "    for s in prange(nsamp):\n",
    "        for m in range(nmeta):\n",
    "            _w = W[s,m]\n",
    "            if _w == 0.0:\n",
    "                return\n",
    "\n",
    "            data[m, 0] += _w\n",
    "            alpha = _w / data[m, 0]\n",
    "\n",
    "            delta = (X[s,m] - data[m, 1])\n",
    "            incr = delta * alpha\n",
    "\n",
    "            data[m, 1] += incr\n",
    "            data[m, 2] += (1.0 - alpha) * (delta * incr) - alpha * data[m, 2]\n"
   ]
  },
  {
   "cell_type": "code",
   "execution_count": 44,
   "metadata": {},
   "outputs": [
    {
     "name": "stdout",
     "output_type": "stream",
     "text": [
      "3.02 ms ± 340 µs per loop (mean ± std. dev. of 3 runs, 10 loops each)\n"
     ]
    }
   ],
   "source": [
    "data.fill(0.0)\n",
    "_push_vals_vec(data, W, X)\n",
    "np.testing.assert_allclose(data, g.data)\n",
    "\n",
    "%timeit -n 10 -r 3  _push_vals_vec(data, W, X)\n"
   ]
  },
  {
   "cell_type": "code",
   "execution_count": 39,
   "metadata": {},
   "outputs": [
    {
     "name": "stdout",
     "output_type": "stream",
     "text": [
      "2.86 ms ± 176 µs per loop (mean ± std. dev. of 3 runs, 10 loops each)\n"
     ]
    }
   ],
   "source": [
    "data.fill(0.0)\n",
    "_push_vals_vec(data, W, X)\n",
    "np.testing.assert_allclose(data, g.data)\n",
    "\n",
    "%timeit -n 10 -r 3  _push_vals_vec(data, W, X)\n"
   ]
  },
  {
   "cell_type": "code",
   "execution_count": 240,
   "metadata": {},
   "outputs": [
    {
     "data": {
      "text/plain": [
       "CPUDispatcher(<function _push_vals_vec at 0x615dd16a8>)"
      ]
     },
     "execution_count": 240,
     "metadata": {},
     "output_type": "execute_result"
    }
   ],
   "source": [
    "_push_vals_vec.py_func"
   ]
  },
  {
   "cell_type": "code",
   "execution_count": 235,
   "metadata": {},
   "outputs": [],
   "source": [
    "# @njit\n",
    "# def _push_val(data, w, x):\n",
    "#     if w == 0.0:\n",
    "#         return\n",
    "\n",
    "#     data[0] += w\n",
    "#     alpha = w / data[0]\n",
    "\n",
    "#     delta = (x - data[1])\n",
    "#     incr = delta * alpha\n",
    "\n",
    "#     data[1] += incr\n",
    "#     data[2] += (1.0 - alpha) * (delta * incr) - alpha * data[2]\n",
    "    \n",
    "@njit\n",
    "def _push_val_inc(data, w, x):\n",
    "    if w == 0.0:\n",
    "        return\n",
    "\n",
    "    alpha = w / (data[0] + w)\n",
    "\n",
    "    delta = (x - data[1])\n",
    "    incr = delta * alpha\n",
    "    \n",
    "    out = np.zeros(3, dtype=data.dtype)\n",
    "    out[0] = w\n",
    "    out[1] = incr\n",
    "    out[2] = (1.0 - alpha) * (delta * incr) - alpha * data[2]\n",
    "    return out\n",
    "    \n",
    "_PARALLEL = False\n",
    "#@njit(parallel=_PARALLEL)\n",
    "@jit\n",
    "def _push_vals_vec2(data, W, X):\n",
    "    nmeta = data.shape[0]\n",
    "    nsamp = X.shape[0]\n",
    "\n",
    "    for s in range(nsamp):\n",
    "        for m in range(nmeta):\n",
    "            out = _push_val_inc(data[m, :], W[s, m], X[s, m])\n",
    "            data[m,:] += out #_push_val_inc(data[m, :], W[s, m], X[s, m])\n"
   ]
  },
  {
   "cell_type": "code",
   "execution_count": 237,
   "metadata": {},
   "outputs": [],
   "source": [
    "data.fill(0.0)\n",
    "_push_vals_vec2(data, W, X)"
   ]
  },
  {
   "cell_type": "code",
   "execution_count": 232,
   "metadata": {},
   "outputs": [],
   "source": [
    "a[0, :] += b"
   ]
  },
  {
   "cell_type": "code",
   "execution_count": 219,
   "metadata": {},
   "outputs": [],
   "source": [
    "np.testing.assert_allclose(data, g.data)\n",
    "\n",
    "#%timeit -n 10 -r 3  _push_vals_vec2(data, W, X)"
   ]
  },
  {
   "cell_type": "code",
   "execution_count": 45,
   "metadata": {},
   "outputs": [],
   "source": [
    "# random data\n",
    "Data = np.random.rand(100, 5, 3)"
   ]
  },
  {
   "cell_type": "code",
   "execution_count": 55,
   "metadata": {},
   "outputs": [],
   "source": [
    "g = Accum.StatsAccumVec.from_datas(Data=Data, axis=0)"
   ]
  },
  {
   "cell_type": "code",
   "execution_count": 56,
   "metadata": {},
   "outputs": [],
   "source": [
    "data = np.zeros_like(g._datar)\n",
    "Accum._push_stats_data_vec(data, Data)"
   ]
  },
  {
   "cell_type": "code",
   "execution_count": 59,
   "metadata": {},
   "outputs": [],
   "source": [
    "np.testing.assert_allclose(data, g.data)"
   ]
  },
  {
   "cell_type": "code",
   "execution_count": null,
   "metadata": {},
   "outputs": [],
   "source": []
  }
 ],
 "metadata": {
  "kernelspec": {
   "display_name": "Python [conda env:idp35]",
   "language": "python",
   "name": "conda-env-idp35-py"
  },
  "language_info": {
   "codemirror_mode": {
    "name": "ipython",
    "version": 3
   },
   "file_extension": ".py",
   "mimetype": "text/x-python",
   "name": "python",
   "nbconvert_exporter": "python",
   "pygments_lexer": "ipython3",
   "version": "3.6.3"
  },
  "toc": {
   "base_numbering": 1,
   "nav_menu": {},
   "number_sections": true,
   "sideBar": true,
   "skip_h1_title": false,
   "title_cell": "Table of Contents",
   "title_sidebar": "Contents",
   "toc_cell": false,
   "toc_position": {},
   "toc_section_display": true,
   "toc_window_display": false
  }
 },
 "nbformat": 4,
 "nbformat_minor": 2
}
