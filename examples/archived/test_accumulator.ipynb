{
 "cells": [
  {
   "cell_type": "code",
   "execution_count": 1,
   "metadata": {},
   "outputs": [],
   "source": [
    "import numpy as np\n",
    "import accumulator as Accum\n",
    "from numba import njit"
   ]
  },
  {
   "cell_type": "code",
   "execution_count": 2,
   "metadata": {},
   "outputs": [],
   "source": [
    "from importlib import reload"
   ]
  },
  {
   "cell_type": "markdown",
   "metadata": {},
   "source": [
    "# Scalar data"
   ]
  },
  {
   "cell_type": "code",
   "execution_count": 3,
   "metadata": {},
   "outputs": [
    {
     "data": {
      "text/plain": [
       "<module 'accumulator' from '/Users/wpk/Documents/python/projects/python_dropin_files/accumulator.py'>"
      ]
     },
     "execution_count": 3,
     "metadata": {},
     "output_type": "execute_result"
    }
   ],
   "source": [
    "reload(Accum)"
   ]
  },
  {
   "cell_type": "code",
   "execution_count": 4,
   "metadata": {},
   "outputs": [],
   "source": [
    "x = np.random.rand(1000)"
   ]
  },
  {
   "cell_type": "code",
   "execution_count": 5,
   "metadata": {},
   "outputs": [],
   "source": [
    "s = Accum.StatsAccum.from_vals(x)"
   ]
  },
  {
   "cell_type": "code",
   "execution_count": 6,
   "metadata": {},
   "outputs": [],
   "source": [
    "np.testing.assert_allclose(s.mean(), x.mean())\n",
    "np.testing.assert_allclose(s.var(), x.var(ddof=0))"
   ]
  },
  {
   "cell_type": "code",
   "execution_count": 7,
   "metadata": {},
   "outputs": [],
   "source": [
    "s = Accum.StatsAccum.from_stat(x.mean(), x.var(ddof=0), len(x))"
   ]
  },
  {
   "cell_type": "code",
   "execution_count": 8,
   "metadata": {},
   "outputs": [],
   "source": [
    "sa = Accum.StatsArray.from_stats(x)"
   ]
  },
  {
   "cell_type": "code",
   "execution_count": 9,
   "metadata": {},
   "outputs": [
    {
     "data": {
      "text/plain": [
       "<accumulator.StatsAccum at 0x7ff7508a00d0>"
      ]
     },
     "execution_count": 9,
     "metadata": {},
     "output_type": "execute_result"
    }
   ],
   "source": [
    "s"
   ]
  },
  {
   "cell_type": "code",
   "execution_count": 10,
   "metadata": {},
   "outputs": [],
   "source": [
    "f = sa.to_xarray()"
   ]
  },
  {
   "cell_type": "code",
   "execution_count": 11,
   "metadata": {},
   "outputs": [
    {
     "data": {
      "text/html": [
       "<pre>&lt;xarray.DataArray (rec: 1000, val: 3)&gt;\n",
       "array([[1.        , 0.38241961, 0.        ],\n",
       "       [1.        , 0.97699214, 0.        ],\n",
       "       [1.        , 0.86117119, 0.        ],\n",
       "       ...,\n",
       "       [1.        , 0.35976153, 0.        ],\n",
       "       [1.        , 0.6610002 , 0.        ],\n",
       "       [1.        , 0.59220549, 0.        ]])\n",
       "Coordinates:\n",
       "  * val      (val) &lt;U3 &#x27;cnt&#x27; &#x27;ave&#x27; &#x27;var&#x27;\n",
       "Dimensions without coordinates: rec</pre>"
      ],
      "text/plain": [
       "<xarray.DataArray (rec: 1000, val: 3)>\n",
       "array([[1.        , 0.38241961, 0.        ],\n",
       "       [1.        , 0.97699214, 0.        ],\n",
       "       [1.        , 0.86117119, 0.        ],\n",
       "       ...,\n",
       "       [1.        , 0.35976153, 0.        ],\n",
       "       [1.        , 0.6610002 , 0.        ],\n",
       "       [1.        , 0.59220549, 0.        ]])\n",
       "Coordinates:\n",
       "  * val      (val) <U3 'cnt' 'ave' 'var'\n",
       "Dimensions without coordinates: rec"
      ]
     },
     "execution_count": 11,
     "metadata": {},
     "output_type": "execute_result"
    }
   ],
   "source": [
    "f"
   ]
  },
  {
   "cell_type": "code",
   "execution_count": 12,
   "metadata": {},
   "outputs": [],
   "source": [
    "import xarray as xr"
   ]
  },
  {
   "cell_type": "code",
   "execution_count": 13,
   "metadata": {},
   "outputs": [
    {
     "data": {
      "text/html": [
       "<pre>&lt;xarray.DataArray (val: 3)&gt;\n",
       "array([1.00000000e+03, 4.91282729e-01, 8.53000249e-02])\n",
       "Coordinates:\n",
       "  * val      (val) &lt;U3 &#x27;cnt&#x27; &#x27;ave&#x27; &#x27;var&#x27;</pre>"
      ],
      "text/plain": [
       "<xarray.DataArray (val: 3)>\n",
       "array([1.00000000e+03, 4.91282729e-01, 8.53000249e-02])\n",
       "Coordinates:\n",
       "  * val      (val) <U3 'cnt' 'ave' 'var'"
      ]
     },
     "execution_count": 13,
     "metadata": {},
     "output_type": "execute_result"
    }
   ],
   "source": [
    "xr.DataArray(s._data, dims=\"val\", coords={\"val\": [\"cnt\", \"ave\", \"var\"]})"
   ]
  },
  {
   "cell_type": "code",
   "execution_count": 14,
   "metadata": {},
   "outputs": [],
   "source": [
    "np.testing.assert_allclose(np.cumsum(x) / (np.arange(len(x)) + 1.0), sa.cummean())"
   ]
  },
  {
   "cell_type": "code",
   "execution_count": 15,
   "metadata": {},
   "outputs": [
    {
     "data": {
      "text/plain": [
       "array([1.00000000e+03, 4.91282729e-01, 8.53000249e-02])"
      ]
     },
     "execution_count": 15,
     "metadata": {},
     "output_type": "execute_result"
    }
   ],
   "source": [
    "sa.cumdata_last"
   ]
  },
  {
   "cell_type": "code",
   "execution_count": 16,
   "metadata": {},
   "outputs": [
    {
     "data": {
      "text/plain": [
       "1.0"
      ]
     },
     "execution_count": 16,
     "metadata": {},
     "output_type": "execute_result"
    }
   ],
   "source": [
    "np.prod(s.shape)"
   ]
  },
  {
   "cell_type": "code",
   "execution_count": 17,
   "metadata": {},
   "outputs": [
    {
     "data": {
      "text/plain": [
       "{'a': 1}"
      ]
     },
     "execution_count": 17,
     "metadata": {},
     "output_type": "execute_result"
    }
   ],
   "source": [
    "a = {\"a\": 1}\n",
    "b = {}\n",
    "d = {}\n",
    "d.update(a)\n",
    "d.update(b)\n",
    "d"
   ]
  },
  {
   "cell_type": "code",
   "execution_count": 18,
   "metadata": {},
   "outputs": [],
   "source": [
    "import xarray as xr"
   ]
  },
  {
   "cell_type": "code",
   "execution_count": 19,
   "metadata": {},
   "outputs": [],
   "source": [
    "f = xr.DataArray(sa.data, dims=[\"rec\", \"val\"])"
   ]
  },
  {
   "cell_type": "code",
   "execution_count": 20,
   "metadata": {},
   "outputs": [],
   "source": [
    "f.coords.update({\"val\": [\"a\", \"b\", \"c\"]})"
   ]
  },
  {
   "cell_type": "code",
   "execution_count": 21,
   "metadata": {},
   "outputs": [],
   "source": [
    "f.coords[\"val\"] = list(\"abc\")"
   ]
  },
  {
   "cell_type": "code",
   "execution_count": 22,
   "metadata": {},
   "outputs": [
    {
     "data": {
      "text/html": [
       "<pre>&lt;xarray.DataArray (rec: 1000, val: 3)&gt;\n",
       "array([[1.        , 0.38241961, 0.        ],\n",
       "       [1.        , 0.97699214, 0.        ],\n",
       "       [1.        , 0.86117119, 0.        ],\n",
       "       ...,\n",
       "       [1.        , 0.35976153, 0.        ],\n",
       "       [1.        , 0.6610002 , 0.        ],\n",
       "       [1.        , 0.59220549, 0.        ]])\n",
       "Coordinates:\n",
       "  * val      (val) &lt;U1 &#x27;a&#x27; &#x27;b&#x27; &#x27;c&#x27;\n",
       "Dimensions without coordinates: rec</pre>"
      ],
      "text/plain": [
       "<xarray.DataArray (rec: 1000, val: 3)>\n",
       "array([[1.        , 0.38241961, 0.        ],\n",
       "       [1.        , 0.97699214, 0.        ],\n",
       "       [1.        , 0.86117119, 0.        ],\n",
       "       ...,\n",
       "       [1.        , 0.35976153, 0.        ],\n",
       "       [1.        , 0.6610002 , 0.        ],\n",
       "       [1.        , 0.59220549, 0.        ]])\n",
       "Coordinates:\n",
       "  * val      (val) <U1 'a' 'b' 'c'\n",
       "Dimensions without coordinates: rec"
      ]
     },
     "execution_count": 22,
     "metadata": {},
     "output_type": "execute_result"
    }
   ],
   "source": [
    "f"
   ]
  },
  {
   "cell_type": "code",
   "execution_count": 23,
   "metadata": {},
   "outputs": [],
   "source": [
    "# addition"
   ]
  },
  {
   "cell_type": "code",
   "execution_count": 24,
   "metadata": {},
   "outputs": [],
   "source": [
    "# x1 = np.random.rand(1000)\n",
    "# x2 = np.random.rand(2000)\n",
    "x1 = x[:500]\n",
    "x2 = x[500:]"
   ]
  },
  {
   "cell_type": "code",
   "execution_count": 25,
   "metadata": {},
   "outputs": [],
   "source": [
    "s1 = Accum.StatsAccum.from_vals(x1)\n",
    "s2 = Accum.StatsAccum.from_vals(x2)"
   ]
  },
  {
   "cell_type": "code",
   "execution_count": 26,
   "metadata": {},
   "outputs": [],
   "source": [
    "s12 = s1 + s2"
   ]
  },
  {
   "cell_type": "code",
   "execution_count": 27,
   "metadata": {},
   "outputs": [
    {
     "data": {
      "text/plain": [
       "array([0.00000000e+00, 2.22044605e-16, 1.11022302e-16])"
      ]
     },
     "execution_count": 27,
     "metadata": {},
     "output_type": "execute_result"
    }
   ],
   "source": [
    "s12._data - s._data"
   ]
  },
  {
   "cell_type": "code",
   "execution_count": 28,
   "metadata": {},
   "outputs": [
    {
     "data": {
      "text/plain": [
       "array([ 0.00000000e+00, -4.44089210e-16, -2.22044605e-16])"
      ]
     },
     "execution_count": 28,
     "metadata": {},
     "output_type": "execute_result"
    }
   ],
   "source": [
    "ss = s - s2\n",
    "ss._data - s1._data"
   ]
  },
  {
   "cell_type": "code",
   "execution_count": 29,
   "metadata": {},
   "outputs": [
    {
     "data": {
      "text/plain": [
       "array([ 0.00000000e+00, -4.44089210e-16, -2.22044605e-16])"
      ]
     },
     "execution_count": 29,
     "metadata": {},
     "output_type": "execute_result"
    }
   ],
   "source": [
    "ss = s - s1\n",
    "ss._data - s2._data"
   ]
  },
  {
   "cell_type": "code",
   "execution_count": 30,
   "metadata": {},
   "outputs": [],
   "source": [
    "s = Accum.StatsAccum.from_stat(x.mean(), x.var(ddof=0), len(x))"
   ]
  },
  {
   "cell_type": "code",
   "execution_count": 31,
   "metadata": {},
   "outputs": [],
   "source": [
    "np.testing.assert_allclose(s.mean(), x.mean())\n",
    "np.testing.assert_allclose(s.var(), x.var(ddof=0))"
   ]
  },
  {
   "cell_type": "markdown",
   "metadata": {},
   "source": [
    "# vector"
   ]
  },
  {
   "cell_type": "code",
   "execution_count": 32,
   "metadata": {},
   "outputs": [
    {
     "data": {
      "text/plain": [
       "<module 'accumulator' from '/Users/wpk/Documents/python/projects/python_dropin_files/accumulator.py'>"
      ]
     },
     "execution_count": 32,
     "metadata": {},
     "output_type": "execute_result"
    }
   ],
   "source": [
    "reload(Accum)"
   ]
  },
  {
   "cell_type": "code",
   "execution_count": 33,
   "metadata": {},
   "outputs": [],
   "source": [
    "xs = np.random.rand(5000, 5)\n",
    "\n",
    "xs1 = xs[:2500, ...]\n",
    "xs2 = xs[2500:, ...]\n",
    "\n",
    "x = xs.reshape(xs.shape[0], -1)\n",
    "\n",
    "idx = np.cumsum(np.random.randint(1, 20, 1000))\n",
    "idx = idx[idx < len(x)]\n",
    "X = np.split(x, idx)\n",
    "Xs = np.split(xs, idx, axis=0)\n",
    "\n",
    "LA = [xx.mean(axis=0) for xx in X]\n",
    "LV = [xx.var(axis=0, ddof=0) for xx in X]\n",
    "LW = [xx.shape[0] for xx in X]\n",
    "\n",
    "LA = np.array(LA)\n",
    "LV = np.array(LV)\n",
    "LW = np.array(LW)\n",
    "\n",
    "LAs = [xx.mean(axis=0) for xx in Xs]\n",
    "LVs = [xx.var(axis=0, ddof=0) for xx in Xs]\n",
    "LWs = [xx.shape[0] for xx in Xs]\n",
    "\n",
    "LAs = np.array(LAs)\n",
    "LVs = np.array(LVs)\n",
    "LWs = np.array(LWs)"
   ]
  },
  {
   "cell_type": "code",
   "execution_count": 34,
   "metadata": {},
   "outputs": [],
   "source": [
    "s = Accum.StatsAccumVec.from_vals(xs)"
   ]
  },
  {
   "cell_type": "raw",
   "metadata": {},
   "source": [
    "s.zero()"
   ]
  },
  {
   "cell_type": "code",
   "execution_count": 35,
   "metadata": {},
   "outputs": [],
   "source": [
    "w = Accum.StatsArray(shape=s.shape, child=Accum.StatsAccumVec)"
   ]
  },
  {
   "cell_type": "code",
   "execution_count": 36,
   "metadata": {},
   "outputs": [],
   "source": [
    "w.push_stats(LA, LV, np.broadcast_to(LW[:, None], LA.shape))"
   ]
  },
  {
   "cell_type": "code",
   "execution_count": 37,
   "metadata": {},
   "outputs": [
    {
     "data": {
      "text/plain": [
       "(507, 5)"
      ]
     },
     "execution_count": 37,
     "metadata": {},
     "output_type": "execute_result"
    }
   ],
   "source": [
    "LA.shape"
   ]
  },
  {
   "cell_type": "code",
   "execution_count": 38,
   "metadata": {},
   "outputs": [],
   "source": [
    "np.testing.assert_allclose(LA, w.mean())\n",
    "np.testing.assert_allclose(LV, w.var())"
   ]
  },
  {
   "cell_type": "code",
   "execution_count": 39,
   "metadata": {},
   "outputs": [
    {
     "data": {
      "text/plain": [
       "array([0.5036704 , 0.49838795, 0.50379665, 0.50258301, 0.50365975])"
      ]
     },
     "execution_count": 39,
     "metadata": {},
     "output_type": "execute_result"
    }
   ],
   "source": [
    "s.mean()"
   ]
  },
  {
   "cell_type": "code",
   "execution_count": 40,
   "metadata": {},
   "outputs": [
    {
     "data": {
      "text/plain": [
       "array([0.5036704 , 0.49838795, 0.50379665, 0.50258301, 0.50365975])"
      ]
     },
     "execution_count": 40,
     "metadata": {},
     "output_type": "execute_result"
    }
   ],
   "source": [
    "w.cummean()[-1]"
   ]
  },
  {
   "cell_type": "code",
   "execution_count": 41,
   "metadata": {},
   "outputs": [
    {
     "data": {
      "text/plain": [
       "array([0.08316448, 0.08375163, 0.08252745, 0.08294445, 0.08403148])"
      ]
     },
     "execution_count": 41,
     "metadata": {},
     "output_type": "execute_result"
    }
   ],
   "source": [
    "w.cumvar_last()"
   ]
  },
  {
   "cell_type": "code",
   "execution_count": 42,
   "metadata": {},
   "outputs": [
    {
     "data": {
      "text/plain": [
       "array([0.28838252, 0.28939874, 0.28727591, 0.28800078, 0.28988184])"
      ]
     },
     "execution_count": 42,
     "metadata": {},
     "output_type": "execute_result"
    }
   ],
   "source": [
    "w.cumstd_last()"
   ]
  },
  {
   "cell_type": "code",
   "execution_count": 43,
   "metadata": {},
   "outputs": [
    {
     "data": {
      "text/plain": [
       "array([0.08316448, 0.08375163, 0.08252745, 0.08294445, 0.08403148])"
      ]
     },
     "execution_count": 43,
     "metadata": {},
     "output_type": "execute_result"
    }
   ],
   "source": [
    "s.var()"
   ]
  },
  {
   "cell_type": "code",
   "execution_count": 44,
   "metadata": {},
   "outputs": [
    {
     "data": {
      "text/plain": [
       "array([0.5036704 , 0.49838795, 0.50379665, 0.50258301, 0.50365975])"
      ]
     },
     "execution_count": 44,
     "metadata": {},
     "output_type": "execute_result"
    }
   ],
   "source": [
    "s.mean()"
   ]
  },
  {
   "cell_type": "code",
   "execution_count": 45,
   "metadata": {},
   "outputs": [
    {
     "data": {
      "text/plain": [
       "(507, 5)"
      ]
     },
     "execution_count": 45,
     "metadata": {},
     "output_type": "execute_result"
    }
   ],
   "source": [
    "LAs.shape"
   ]
  },
  {
   "cell_type": "code",
   "execution_count": 46,
   "metadata": {},
   "outputs": [
    {
     "data": {
      "text/plain": [
       "(507,)"
      ]
     },
     "execution_count": 46,
     "metadata": {},
     "output_type": "execute_result"
    }
   ],
   "source": [
    "LWs.shape"
   ]
  },
  {
   "cell_type": "code",
   "execution_count": 47,
   "metadata": {},
   "outputs": [
    {
     "data": {
      "text/plain": [
       "(507, 5)"
      ]
     },
     "execution_count": 47,
     "metadata": {},
     "output_type": "execute_result"
    }
   ],
   "source": [
    "LAs.shape"
   ]
  },
  {
   "cell_type": "code",
   "execution_count": 48,
   "metadata": {},
   "outputs": [],
   "source": [
    "w = np.broadcast_to(LWs[:, None], LAs.shape)"
   ]
  },
  {
   "cell_type": "code",
   "execution_count": 49,
   "metadata": {},
   "outputs": [],
   "source": [
    "f = Accum.StatsArray.from_stats(\n",
    "    LAs, LVs, w, child=Accum.StatsAccumVec, shape=xs.shape[1:]\n",
    ")"
   ]
  },
  {
   "cell_type": "code",
   "execution_count": 50,
   "metadata": {},
   "outputs": [],
   "source": [
    "np.testing.assert_allclose(s.mean(), xs.mean(axis=0))\n",
    "np.testing.assert_allclose(s.var(), xs.var(ddof=0, axis=0))\n",
    "np.testing.assert_allclose(s.weight(), xs.shape[0])"
   ]
  },
  {
   "cell_type": "code",
   "execution_count": 51,
   "metadata": {},
   "outputs": [],
   "source": [
    "s = Accum.StatsAccumVec.from_stat(xs.mean(axis=0), xs.var(axis=0, ddof=0), xs.shape[0])"
   ]
  },
  {
   "cell_type": "code",
   "execution_count": 52,
   "metadata": {},
   "outputs": [],
   "source": [
    "np.testing.assert_allclose(s.mean(), xs.mean(axis=0))\n",
    "np.testing.assert_allclose(s.var(), xs.var(ddof=0, axis=0))\n",
    "np.testing.assert_allclose(s.weight(), xs.shape[0])"
   ]
  },
  {
   "cell_type": "code",
   "execution_count": 53,
   "metadata": {},
   "outputs": [],
   "source": [
    "s = Accum.StatsAccumVec.from_stats(LAs, LVs, LWs[:, None])"
   ]
  },
  {
   "cell_type": "code",
   "execution_count": 54,
   "metadata": {},
   "outputs": [],
   "source": [
    "np.testing.assert_allclose(s.mean(), xs.mean(axis=0))\n",
    "np.testing.assert_allclose(s.var(), xs.var(ddof=0, axis=0))\n",
    "np.testing.assert_allclose(s.weight(), xs.shape[0])"
   ]
  },
  {
   "cell_type": "code",
   "execution_count": 55,
   "metadata": {},
   "outputs": [
    {
     "data": {
      "text/plain": [
       "((507, 5), (507, 5), (507,))"
      ]
     },
     "execution_count": 55,
     "metadata": {},
     "output_type": "execute_result"
    }
   ],
   "source": [
    "LAs.shape, LVs.shape, LWs.shape"
   ]
  },
  {
   "cell_type": "code",
   "execution_count": 56,
   "metadata": {},
   "outputs": [],
   "source": [
    "s = Accum.StatsAccumVec(shape=xs.shape[1:])\n",
    "for a, v, w in zip(LAs, LVs, LWs):\n",
    "    s.push_stat(a, v, w)"
   ]
  },
  {
   "cell_type": "code",
   "execution_count": 57,
   "metadata": {},
   "outputs": [],
   "source": [
    "np.testing.assert_allclose(s.mean(), xs.mean(axis=0))\n",
    "np.testing.assert_allclose(s.var(), xs.var(ddof=0, axis=0))\n",
    "np.testing.assert_allclose(s.weight(), xs.shape[0])"
   ]
  },
  {
   "cell_type": "code",
   "execution_count": 58,
   "metadata": {},
   "outputs": [],
   "source": [
    "s1 = Accum.StatsAccumVec.from_vals(xs1, axis=0)\n",
    "s2 = Accum.StatsAccumVec.from_vals(xs2, axis=0)"
   ]
  },
  {
   "cell_type": "code",
   "execution_count": 59,
   "metadata": {},
   "outputs": [],
   "source": [
    "s = s1 + s2"
   ]
  },
  {
   "cell_type": "code",
   "execution_count": 60,
   "metadata": {},
   "outputs": [],
   "source": [
    "np.testing.assert_allclose(s.mean(), xs.mean(axis=0))\n",
    "np.testing.assert_allclose(s.var(), xs.var(ddof=0, axis=0))\n",
    "np.testing.assert_allclose(s.weight(), xs.shape[0])"
   ]
  },
  {
   "cell_type": "code",
   "execution_count": 61,
   "metadata": {},
   "outputs": [],
   "source": [
    "ss = s - s1\n",
    "np.testing.assert_allclose(ss.mean(), xs2.mean(axis=0))\n",
    "np.testing.assert_allclose(ss.var(), xs2.var(ddof=0, axis=0))\n",
    "np.testing.assert_allclose(ss.weight(), xs2.shape[0])"
   ]
  },
  {
   "cell_type": "code",
   "execution_count": 62,
   "metadata": {},
   "outputs": [],
   "source": [
    "ss = s - s2\n",
    "np.testing.assert_allclose(ss.mean(), xs1.mean(axis=0))\n",
    "np.testing.assert_allclose(ss.var(), xs1.var(ddof=0, axis=0))\n",
    "np.testing.assert_allclose(ss.weight(), xs1.shape[0])"
   ]
  },
  {
   "cell_type": "markdown",
   "metadata": {},
   "source": [
    "## covariance unequal weight:"
   ]
  },
  {
   "cell_type": "code",
   "execution_count": null,
   "metadata": {},
   "outputs": [],
   "source": []
  },
  {
   "cell_type": "code",
   "execution_count": 63,
   "metadata": {},
   "outputs": [
    {
     "data": {
      "text/plain": [
       "(array([1766, 2903,  679, 2476, 3646, 4624, 2056,  491, 2649, 1216, 1075,\n",
       "        1195,  928, 4702, 4162,  873, 2508, 3922, 3760, 1220, 4604, 4613,\n",
       "        3423, 2560, 1171, 3083,  827, 4915, 2389, 1378,  481,  156, 4463,\n",
       "         572, 1441, 2553, 3916,  206, 4729, 3084, 1323, 4113, 1892, 1000,\n",
       "         880, 1026, 2394, 2351, 1237, 4522]),\n",
       " array([0, 4, 1, 2, 1, 0, 3, 2, 1, 3, 1, 3, 3, 3, 0, 2, 2, 1, 2, 0, 2, 2,\n",
       "        4, 0, 4, 3, 2, 0, 0, 0, 4, 3, 0, 3, 1, 2, 1, 0, 4, 0, 0, 0, 4, 2,\n",
       "        2, 2, 3, 3, 3, 0]))"
      ]
     },
     "execution_count": 63,
     "metadata": {},
     "output_type": "execute_result"
    }
   ],
   "source": [
    "np.unravel_index(np.random.choice(np.arange(np.prod(x.shape)), 50), x.shape)"
   ]
  },
  {
   "cell_type": "code",
   "execution_count": 64,
   "metadata": {},
   "outputs": [],
   "source": [
    "x = np.random.rand(1000, 3, 2)\n",
    "xr = x.reshape(1000, -1)\n",
    "\n",
    "n_nan = 100\n",
    "idx = np.unravel_index(np.random.choice(np.arange(np.prod(x.shape)), size=50), x.shape)\n",
    "x[idx] = np.nan\n",
    "\n",
    "# a[0,1] = np.nan\n",
    "# a[1,2] = np.nan\n",
    "# a[2,3] = np.nan\n",
    "\n",
    "# a[0,500+1]= np.nan\n",
    "# a[1,500+2] = np.nan\n",
    "# a[2,500+3] = np.nan\n",
    "\n",
    "x1 = x[:500, ...]\n",
    "x2 = x[500:, ...]\n",
    "\n",
    "x1r = x1.reshape(x1.shape[0], -1)\n",
    "x2r = x2.reshape(x2.shape[0], -1)"
   ]
  },
  {
   "cell_type": "code",
   "execution_count": 65,
   "metadata": {},
   "outputs": [],
   "source": [
    "# %%timeit -n 3\n",
    "ns = x.shape[1:] * 2\n",
    "c = np.cov(xr.T, ddof=0).reshape(ns)\n",
    "c1 = np.cov(x1r.T, ddof=0).reshape(ns)\n",
    "c2 = np.cov(x2r.T, ddof=0).reshape(ns)"
   ]
  },
  {
   "cell_type": "code",
   "execution_count": 66,
   "metadata": {},
   "outputs": [
    {
     "data": {
      "text/plain": [
       "<module 'accumulator' from '/Users/wpk/Documents/python/projects/python_dropin_files/accumulator.py'>"
      ]
     },
     "execution_count": 66,
     "metadata": {},
     "output_type": "execute_result"
    }
   ],
   "source": [
    "reload(Accum)"
   ]
  },
  {
   "cell_type": "code",
   "execution_count": 67,
   "metadata": {},
   "outputs": [],
   "source": [
    "s = Accum.StatsAccumCov(x.shape[1:])"
   ]
  },
  {
   "cell_type": "code",
   "execution_count": 68,
   "metadata": {},
   "outputs": [],
   "source": [
    "for xx in x:\n",
    "    s.push_val(xx)"
   ]
  },
  {
   "cell_type": "code",
   "execution_count": 69,
   "metadata": {},
   "outputs": [],
   "source": [
    "np.testing.assert_allclose(s.mean_diag(), x.mean(axis=0))\n",
    "np.testing.assert_allclose(s.var_diag(), x.var(ddof=0, axis=0))\n",
    "np.testing.assert_allclose(s.var(), c)"
   ]
  },
  {
   "cell_type": "code",
   "execution_count": 70,
   "metadata": {},
   "outputs": [],
   "source": [
    "s = Accum.StatsAccumCov(x.shape[1:])\n",
    "\n",
    "s.push_vals(x, W=1.0)\n",
    "\n",
    "np.testing.assert_allclose(s.mean_diag(), x.mean(axis=0))\n",
    "np.testing.assert_allclose(s.var_diag(), x.var(ddof=0, axis=0))\n",
    "np.testing.assert_allclose(s.var(), c)"
   ]
  },
  {
   "cell_type": "code",
   "execution_count": 71,
   "metadata": {},
   "outputs": [],
   "source": [
    "s = Accum.StatsAccumCov.from_vals(x)\n",
    "\n",
    "np.testing.assert_allclose(s.mean_diag(), x.mean(axis=0))\n",
    "np.testing.assert_allclose(s.var_diag(), x.var(ddof=0, axis=0))\n",
    "np.testing.assert_allclose(s.var(), c)"
   ]
  },
  {
   "cell_type": "code",
   "execution_count": 72,
   "metadata": {},
   "outputs": [],
   "source": [
    "s1 = Accum.StatsAccumCov.from_vals(x1, W=1.0, axis=0)\n",
    "s2 = Accum.StatsAccumCov.from_vals(x2, W=1.0, axis=0)\n",
    "\n",
    "s = s1 + s2\n",
    "\n",
    "np.testing.assert_allclose(s.mean_diag(), x.mean(axis=0))\n",
    "np.testing.assert_allclose(s.var_diag(), x.var(ddof=0, axis=0))\n",
    "np.testing.assert_allclose(s.var(), c)\n",
    "\n",
    "s112 = s1 + s1 + s2\n",
    "\n",
    "s = s112 - s1\n",
    "\n",
    "np.testing.assert_allclose(s.mean_diag(), x.mean(axis=0))\n",
    "np.testing.assert_allclose(s.var_diag(), x.var(ddof=0, axis=0))\n",
    "np.testing.assert_allclose(s.var(), c)"
   ]
  },
  {
   "cell_type": "code",
   "execution_count": 73,
   "metadata": {},
   "outputs": [],
   "source": [
    "s = Accum.StatsAccumCov(x.shape[1:])\n",
    "s.push_stat(x.mean(axis=0), c, w=x.shape[0])\n",
    "np.testing.assert_allclose(s.mean_diag(), x.mean(axis=0))\n",
    "np.testing.assert_allclose(s.var_diag(), x.var(ddof=0, axis=0))\n",
    "np.testing.assert_allclose(s.var(), c)"
   ]
  },
  {
   "cell_type": "code",
   "execution_count": 74,
   "metadata": {},
   "outputs": [],
   "source": [
    "s = Accum.StatsAccumCov.from_stat(x.mean(axis=0), c, w=x.shape[0])\n",
    "np.testing.assert_allclose(s.mean_diag(), x.mean(axis=0))\n",
    "np.testing.assert_allclose(s.var_diag(), x.var(ddof=0, axis=0))\n",
    "np.testing.assert_allclose(s.var(), c)"
   ]
  },
  {
   "cell_type": "code",
   "execution_count": 75,
   "metadata": {},
   "outputs": [],
   "source": [
    "def get_cov(a, ns):\n",
    "    ave = np.nanmean(a, axis=1)\n",
    "    ave_ij = np.zeros((a.shape[0],) * 2)\n",
    "\n",
    "    cov = np.zeros((a.shape[0],) * 2)\n",
    "    cnt = np.zeros_like(cov)\n",
    "    for var0 in range(a.shape[0]):\n",
    "        for var1 in range(a.shape[0]):\n",
    "            s = (a[var0, :] - ave[var0]) * (a[var1, :] - ave[var1])\n",
    "            cnt[var0, var1] = np.isfinite(s).sum()\n",
    "            cov[var0, var1] = np.nansum(\n",
    "                s\n",
    "            )  # (a[var0, :] - ave[var0]) * (a[var1,:] - ave[var1]))\n",
    "    if ns is None:\n",
    "        ns = cnt.shape\n",
    "    return (cov / cnt).reshape(ns), cnt.reshape(ns)\n",
    "\n",
    "\n",
    "ns = x.shape[1:] * 2\n",
    "a = xr.T\n",
    "a1 = x1r.T\n",
    "a2 = x2r.T\n",
    "cov, cnt = get_cov(a, ns)\n",
    "cov1, cnt1 = get_cov(a1, ns)\n",
    "cov2, cnt2 = get_cov(a2, ns)"
   ]
  },
  {
   "cell_type": "code",
   "execution_count": 76,
   "metadata": {},
   "outputs": [
    {
     "data": {
      "text/plain": [
       "<module 'accumulator' from '/Users/wpk/Documents/python/projects/python_dropin_files/accumulator.py'>"
      ]
     },
     "execution_count": 76,
     "metadata": {},
     "output_type": "execute_result"
    }
   ],
   "source": [
    "reload(Accum)"
   ]
  },
  {
   "cell_type": "code",
   "execution_count": 77,
   "metadata": {},
   "outputs": [],
   "source": [
    "s = Accum.StatsAccumCov(shape=x.shape[1:])\n",
    "\n",
    "W = np.isfinite(x).astype(np.float)\n",
    "W = W[..., None, None] * W[:, None, None, ...]\n",
    "\n",
    "s.push_vals(x, W, axis=0)\n",
    "\n",
    "np.testing.assert_allclose(s.mean_diag(), np.nanmean(x, axis=0))\n",
    "np.testing.assert_allclose(s.weight(), cnt)\n",
    "np.testing.assert_allclose(s.cov_corrected(), cov)"
   ]
  },
  {
   "cell_type": "code",
   "execution_count": 78,
   "metadata": {},
   "outputs": [],
   "source": [
    "s = Accum.StatsAccumCov.from_vals(x, W)"
   ]
  },
  {
   "cell_type": "code",
   "execution_count": 79,
   "metadata": {},
   "outputs": [],
   "source": [
    "np.testing.assert_allclose(s.mean_diag(), np.nanmean(x, axis=0))\n",
    "np.testing.assert_allclose(s.weight(), cnt)\n",
    "np.testing.assert_allclose(s.cov_corrected(), cov)\n",
    "np.testing.assert_allclose(s.var_diag(), np.nanvar(x, ddof=0, axis=0))"
   ]
  },
  {
   "cell_type": "code",
   "execution_count": 80,
   "metadata": {},
   "outputs": [],
   "source": [
    "Wi = []\n",
    "for xx in [x1, x2]:\n",
    "    w = np.isfinite(xx).astype(np.float)\n",
    "    w = w[..., None, None] * w[:, None, None, ...]\n",
    "    Wi.append(w)"
   ]
  },
  {
   "cell_type": "code",
   "execution_count": 81,
   "metadata": {},
   "outputs": [],
   "source": [
    "s1 = Accum.StatsAccumCov.from_vals(x1, W=Wi[0])\n",
    "s2 = Accum.StatsAccumCov.from_vals(x2, W=Wi[1])"
   ]
  },
  {
   "cell_type": "code",
   "execution_count": 82,
   "metadata": {},
   "outputs": [],
   "source": [
    "s = s1 + s2"
   ]
  },
  {
   "cell_type": "code",
   "execution_count": 83,
   "metadata": {},
   "outputs": [],
   "source": [
    "np.testing.assert_allclose(s.mean_diag(), np.nanmean(x, axis=0))\n",
    "np.testing.assert_allclose(s.weight(), cnt)\n",
    "np.testing.assert_allclose(s.cov_corrected(), cov)\n",
    "np.testing.assert_allclose(s.var_diag(), np.nanvar(x, ddof=0, axis=0))"
   ]
  },
  {
   "cell_type": "code",
   "execution_count": null,
   "metadata": {},
   "outputs": [],
   "source": []
  },
  {
   "cell_type": "code",
   "execution_count": 84,
   "metadata": {},
   "outputs": [
    {
     "data": {
      "text/plain": [
       "(3,)"
      ]
     },
     "execution_count": 84,
     "metadata": {},
     "output_type": "execute_result"
    }
   ],
   "source": [
    "np.stack([1, 2, 3], axis=-1).shape"
   ]
  },
  {
   "cell_type": "code",
   "execution_count": 85,
   "metadata": {},
   "outputs": [],
   "source": [
    "W = np.array([s.weight(), s.weight()])\n",
    "A = np.array([s.mean(), s.mean()])\n",
    "V = np.array([s.var(), s.var()])"
   ]
  },
  {
   "cell_type": "code",
   "execution_count": 86,
   "metadata": {},
   "outputs": [
    {
     "data": {
      "text/plain": [
       "(2, 3, 2, 3, 2)"
      ]
     },
     "execution_count": 86,
     "metadata": {},
     "output_type": "execute_result"
    }
   ],
   "source": [
    "W.shape"
   ]
  },
  {
   "cell_type": "code",
   "execution_count": 87,
   "metadata": {},
   "outputs": [
    {
     "data": {
      "text/plain": [
       "(2, 3, 2, 3, 2, 3)"
      ]
     },
     "execution_count": 87,
     "metadata": {},
     "output_type": "execute_result"
    }
   ],
   "source": [
    "np.stack([W, A, V], axis=-1).shape"
   ]
  },
  {
   "cell_type": "code",
   "execution_count": 88,
   "metadata": {},
   "outputs": [
    {
     "data": {
      "text/plain": [
       "array([[[[[ 9.95000000e+02,  4.87198080e-01,  7.84195861e-02],\n",
       "          [ 9.85000000e+02,  4.86397687e-01,  2.93751787e-03]],\n",
       "\n",
       "         [[ 9.91000000e+02,  4.87629875e-01,  6.14997532e-04],\n",
       "          [ 9.83000000e+02,  4.87242595e-01, -2.34767649e-03]],\n",
       "\n",
       "         [[ 9.89000000e+02,  4.86498854e-01, -1.01954396e-03],\n",
       "          [ 9.82000000e+02,  4.88255170e-01, -1.01649386e-03]]],\n",
       "\n",
       "\n",
       "        [[[ 9.85000000e+02,  5.06512410e-01,  2.93751787e-03],\n",
       "          [ 9.90000000e+02,  5.06617039e-01,  8.43801609e-02]],\n",
       "\n",
       "         [[ 9.86000000e+02,  5.06315144e-01, -5.79218616e-03],\n",
       "          [ 9.78000000e+02,  5.05190189e-01,  4.41051733e-05]],\n",
       "\n",
       "         [[ 9.84000000e+02,  5.06460322e-01, -4.67430630e-03],\n",
       "          [ 9.77000000e+02,  5.06567381e-01,  2.75317105e-03]]]],\n",
       "\n",
       "\n",
       "\n",
       "       [[[[ 9.91000000e+02,  4.83166734e-01,  6.14997532e-04],\n",
       "          [ 9.86000000e+02,  4.83610670e-01, -5.79218616e-03]],\n",
       "\n",
       "         [[ 9.96000000e+02,  4.83086364e-01,  7.91301627e-02],\n",
       "          [ 9.84000000e+02,  4.81846258e-01,  2.29549723e-03]],\n",
       "\n",
       "         [[ 9.90000000e+02,  4.82321323e-01, -4.59491660e-04],\n",
       "          [ 9.83000000e+02,  4.84215951e-01,  3.86197368e-03]]],\n",
       "\n",
       "\n",
       "        [[[ 9.83000000e+02,  5.05269489e-01, -2.34767649e-03],\n",
       "          [ 9.78000000e+02,  5.05639863e-01,  4.41051733e-05]],\n",
       "\n",
       "         [[ 9.84000000e+02,  5.04747958e-01,  2.29549723e-03],\n",
       "          [ 9.88000000e+02,  5.05097399e-01,  8.30531298e-02]],\n",
       "\n",
       "         [[ 9.82000000e+02,  5.05789386e-01,  9.51782140e-04],\n",
       "          [ 9.75000000e+02,  5.05142411e-01,  1.33996650e-03]]]],\n",
       "\n",
       "\n",
       "\n",
       "       [[[[ 9.89000000e+02,  4.80186507e-01, -1.01954396e-03],\n",
       "          [ 9.84000000e+02,  4.81289561e-01, -4.67430630e-03]],\n",
       "\n",
       "         [[ 9.90000000e+02,  4.78743527e-01, -4.59491660e-04],\n",
       "          [ 9.82000000e+02,  4.78335714e-01,  9.51782140e-04]],\n",
       "\n",
       "         [[ 9.94000000e+02,  4.79601757e-01,  8.30360487e-02],\n",
       "          [ 9.81000000e+02,  4.80707161e-01,  1.14628007e-03]]],\n",
       "\n",
       "\n",
       "        [[[ 9.82000000e+02,  4.99451022e-01, -1.01649386e-03],\n",
       "          [ 9.77000000e+02,  5.02292029e-01,  2.75317105e-03]],\n",
       "\n",
       "         [[ 9.83000000e+02,  5.00243763e-01,  3.86197368e-03],\n",
       "          [ 9.75000000e+02,  5.00183032e-01,  1.33996650e-03]],\n",
       "\n",
       "         [[ 9.81000000e+02,  5.00807373e-01,  1.14628007e-03],\n",
       "          [ 9.87000000e+02,  4.99695367e-01,  8.15205187e-02]]]]])"
      ]
     },
     "execution_count": 88,
     "metadata": {},
     "output_type": "execute_result"
    }
   ],
   "source": [
    "np.stack([s.weight(), s.mean(), s.var()], axis=-1)"
   ]
  },
  {
   "cell_type": "code",
   "execution_count": 89,
   "metadata": {},
   "outputs": [
    {
     "data": {
      "text/plain": [
       "array([[[[[ 9.95000000e+02,  9.85000000e+02],\n",
       "          [ 9.91000000e+02,  9.83000000e+02],\n",
       "          [ 9.89000000e+02,  9.82000000e+02]],\n",
       "\n",
       "         [[ 9.85000000e+02,  9.90000000e+02],\n",
       "          [ 9.86000000e+02,  9.78000000e+02],\n",
       "          [ 9.84000000e+02,  9.77000000e+02]]],\n",
       "\n",
       "\n",
       "        [[[ 9.91000000e+02,  9.86000000e+02],\n",
       "          [ 9.96000000e+02,  9.84000000e+02],\n",
       "          [ 9.90000000e+02,  9.83000000e+02]],\n",
       "\n",
       "         [[ 9.83000000e+02,  9.78000000e+02],\n",
       "          [ 9.84000000e+02,  9.88000000e+02],\n",
       "          [ 9.82000000e+02,  9.75000000e+02]]],\n",
       "\n",
       "\n",
       "        [[[ 9.89000000e+02,  9.84000000e+02],\n",
       "          [ 9.90000000e+02,  9.82000000e+02],\n",
       "          [ 9.94000000e+02,  9.81000000e+02]],\n",
       "\n",
       "         [[ 9.82000000e+02,  9.77000000e+02],\n",
       "          [ 9.83000000e+02,  9.75000000e+02],\n",
       "          [ 9.81000000e+02,  9.87000000e+02]]]],\n",
       "\n",
       "\n",
       "\n",
       "       [[[[ 4.87198080e-01,  4.86397687e-01],\n",
       "          [ 4.87629875e-01,  4.87242595e-01],\n",
       "          [ 4.86498854e-01,  4.88255170e-01]],\n",
       "\n",
       "         [[ 5.06512410e-01,  5.06617039e-01],\n",
       "          [ 5.06315144e-01,  5.05190189e-01],\n",
       "          [ 5.06460322e-01,  5.06567381e-01]]],\n",
       "\n",
       "\n",
       "        [[[ 4.83166734e-01,  4.83610670e-01],\n",
       "          [ 4.83086364e-01,  4.81846258e-01],\n",
       "          [ 4.82321323e-01,  4.84215951e-01]],\n",
       "\n",
       "         [[ 5.05269489e-01,  5.05639863e-01],\n",
       "          [ 5.04747958e-01,  5.05097399e-01],\n",
       "          [ 5.05789386e-01,  5.05142411e-01]]],\n",
       "\n",
       "\n",
       "        [[[ 4.80186507e-01,  4.81289561e-01],\n",
       "          [ 4.78743527e-01,  4.78335714e-01],\n",
       "          [ 4.79601757e-01,  4.80707161e-01]],\n",
       "\n",
       "         [[ 4.99451022e-01,  5.02292029e-01],\n",
       "          [ 5.00243763e-01,  5.00183032e-01],\n",
       "          [ 5.00807373e-01,  4.99695367e-01]]]],\n",
       "\n",
       "\n",
       "\n",
       "       [[[[ 7.84195861e-02,  2.93751787e-03],\n",
       "          [ 6.14997532e-04, -2.34767649e-03],\n",
       "          [-1.01954396e-03, -1.01649386e-03]],\n",
       "\n",
       "         [[ 2.93751787e-03,  8.43801609e-02],\n",
       "          [-5.79218616e-03,  4.41051733e-05],\n",
       "          [-4.67430630e-03,  2.75317105e-03]]],\n",
       "\n",
       "\n",
       "        [[[ 6.14997532e-04, -5.79218616e-03],\n",
       "          [ 7.91301627e-02,  2.29549723e-03],\n",
       "          [-4.59491660e-04,  3.86197368e-03]],\n",
       "\n",
       "         [[-2.34767649e-03,  4.41051733e-05],\n",
       "          [ 2.29549723e-03,  8.30531298e-02],\n",
       "          [ 9.51782140e-04,  1.33996650e-03]]],\n",
       "\n",
       "\n",
       "        [[[-1.01954396e-03, -4.67430630e-03],\n",
       "          [-4.59491660e-04,  9.51782140e-04],\n",
       "          [ 8.30360487e-02,  1.14628007e-03]],\n",
       "\n",
       "         [[-1.01649386e-03,  2.75317105e-03],\n",
       "          [ 3.86197368e-03,  1.33996650e-03],\n",
       "          [ 1.14628007e-03,  8.15205187e-02]]]]])"
      ]
     },
     "execution_count": 89,
     "metadata": {},
     "output_type": "execute_result"
    }
   ],
   "source": [
    "np.array([s.weight(), s.mean(), s.var()])"
   ]
  },
  {
   "cell_type": "code",
   "execution_count": null,
   "metadata": {},
   "outputs": [],
   "source": []
  },
  {
   "cell_type": "code",
   "execution_count": null,
   "metadata": {},
   "outputs": [],
   "source": []
  },
  {
   "cell_type": "code",
   "execution_count": 96,
   "metadata": {},
   "outputs": [],
   "source": [
    "@njit\n",
    "def _push_val_cov_data_general(data, w, x):\n",
    "    # data[i,j,0] = weight[i,j]\n",
    "    # data[i,j,1] = ave[i,j]\n",
    "    # data[i,j,2] = cov_prime[i,j]\n",
    "    # cov[i,j] = cov_prime[i, j] + (ave[i,i] - ave[i,j]) * (ave[j,j] - ave[j,i])\n",
    "\n",
    "    n = x.shape[0]\n",
    "    for i in range(n):\n",
    "        xi = x[i]\n",
    "        if np.isnan(xi):\n",
    "            continue\n",
    "\n",
    "        # i = j\n",
    "        weight = data[i, i, 0] + w\n",
    "        alpha = w / weight\n",
    "        delta = xi - data[i, i, 1]\n",
    "        incr = delta * alpha\n",
    "\n",
    "        data[i, i, 0] = weight\n",
    "        data[i, i, 1] += incr\n",
    "        data[i, i, 2] = (1.0 - alpha) * (data[i, i, 2] + delta * incr)\n",
    "\n",
    "        for j in range(i + 1, n):\n",
    "            xj = x[j]\n",
    "            if np.isnan(xj):\n",
    "                continue\n",
    "\n",
    "            weight = data[i, j, 0] + w\n",
    "            alpha = w / weight\n",
    "            avei = data[i, j, 1]\n",
    "            deltai = xi - avei\n",
    "            incri = deltai * alpha\n",
    "            data[i, j, 0] = weight\n",
    "            data[i, j, 1] = avei + incri\n",
    "\n",
    "            avej = data[j, i, 1]\n",
    "            deltaj = xj - avej\n",
    "            incrj = deltaj * alpha\n",
    "            data[j, i, 0] = weight\n",
    "            data[j, i, 1] = avej + incrj\n",
    "\n",
    "            # cov_prime\n",
    "            v = (1.0 - alpha) * (data[i, j, 2] + incri * deltaj)\n",
    "\n",
    "            data[i, j, 2] = v\n",
    "            data[j, i, 2] = v\n",
    "\n",
    "\n",
    "@njit\n",
    "def _push_val_cov(data, w, x):\n",
    "    # data[i,j,0] = weight[i,j]\n",
    "    # data[i,j,1] = ave[i,j]\n",
    "    # data[i,j,2] = cov_prime[i,j]\n",
    "    # cov[i,j] = cov_prime[i, j] + (ave[i,i] - ave[i,j]) * (ave[j,j] - ave[j,i])\n",
    "\n",
    "    n = x.shape[0]\n",
    "    for i in range(n):\n",
    "        xi = x[i]\n",
    "        for j in range(i, n):\n",
    "            wij = w[i, j]\n",
    "            if wij == 0:\n",
    "                continue\n",
    "\n",
    "            weight = data[i, j, 0] + wij\n",
    "            alpha = wij / weight\n",
    "\n",
    "            avei = data[i, j, 1]\n",
    "            deltai = xi - avei\n",
    "            incri = deltai * alpha\n",
    "            data[i, j, 0] = weight\n",
    "            data[i, j, 1] = avei + incri\n",
    "\n",
    "            if j == i:\n",
    "                # same\n",
    "                data[i, j, 2] = (1.0 - alpha) * (data[i, j, 2] + deltai * incri)\n",
    "            else:\n",
    "                avej = data[j, i, 1]\n",
    "                deltaj = x[j] - avej\n",
    "                incrj = deltaj * alpha\n",
    "\n",
    "                data[j, i, 0] = weight\n",
    "                data[j, i, 1] = avej + incrj\n",
    "\n",
    "                # cov_prime\n",
    "                v = (1.0 - alpha) * (data[i, j, 2] + incri * deltaj)\n",
    "\n",
    "                data[i, j, 2] = v\n",
    "                data[j, i, 2] = v"
   ]
  },
  {
   "cell_type": "code",
   "execution_count": 97,
   "metadata": {},
   "outputs": [
    {
     "ename": "NameError",
     "evalue": "name '_push_val_cov_data' is not defined",
     "output_type": "error",
     "traceback": [
      "\u001b[0;31m---------------------------------------------------------------------------\u001b[0m",
      "\u001b[0;31mNameError\u001b[0m                                 Traceback (most recent call last)",
      "\u001b[0;32m<ipython-input-97-824f36c15f72>\u001b[0m in \u001b[0;36m<module>\u001b[0;34m\u001b[0m\n\u001b[1;32m      4\u001b[0m \u001b[0mdata\u001b[0m \u001b[0;34m=\u001b[0m \u001b[0mnp\u001b[0m\u001b[0;34m.\u001b[0m\u001b[0mzeros\u001b[0m\u001b[0;34m(\u001b[0m\u001b[0;34m(\u001b[0m\u001b[0mn\u001b[0m\u001b[0;34m,\u001b[0m\u001b[0;36m2\u001b[0m\u001b[0;34m+\u001b[0m\u001b[0mn\u001b[0m\u001b[0;34m)\u001b[0m\u001b[0;34m)\u001b[0m\u001b[0;34m\u001b[0m\u001b[0;34m\u001b[0m\u001b[0m\n\u001b[1;32m      5\u001b[0m \u001b[0;32mfor\u001b[0m \u001b[0mxx\u001b[0m \u001b[0;32min\u001b[0m \u001b[0ma\u001b[0m\u001b[0;34m.\u001b[0m\u001b[0mT\u001b[0m\u001b[0;34m:\u001b[0m\u001b[0;34m\u001b[0m\u001b[0;34m\u001b[0m\u001b[0m\n\u001b[0;32m----> 6\u001b[0;31m     \u001b[0m_push_val_cov_data\u001b[0m\u001b[0;34m(\u001b[0m\u001b[0mdata\u001b[0m\u001b[0;34m,\u001b[0m \u001b[0;36m1.0\u001b[0m\u001b[0;34m,\u001b[0m \u001b[0mxx\u001b[0m\u001b[0;34m)\u001b[0m\u001b[0;34m\u001b[0m\u001b[0;34m\u001b[0m\u001b[0m\n\u001b[0m",
      "\u001b[0;31mNameError\u001b[0m: name '_push_val_cov_data' is not defined"
     ]
    }
   ],
   "source": [
    "# %%timeit -n 3 -r 3\n",
    "# old way\n",
    "n = a.shape[0]\n",
    "data = np.zeros((n, 2 + n))\n",
    "for xx in a.T:\n",
    "    _push_val_cov_data(data, 1.0, xx)"
   ]
  },
  {
   "cell_type": "code",
   "execution_count": null,
   "metadata": {},
   "outputs": [],
   "source": [
    "# %%timeit -n 1 -r 1\n",
    "n = a.shape[0]\n",
    "data = np.zeros((n, n, 3))\n",
    "\n",
    "for xx in a.T:\n",
    "    _push_val_cov_data_general(data, 1.0, xx)"
   ]
  },
  {
   "cell_type": "code",
   "execution_count": 92,
   "metadata": {},
   "outputs": [
    {
     "ename": "AssertionError",
     "evalue": "\nNot equal to tolerance rtol=1e-07, atol=0\n\n(shapes (6,), (3, 2, 3, 2) mismatch)\n x: array([0., 0., 0., 0., 0., 0.])\n y: array([[[[995., 985.],\n         [991., 983.],\n         [989., 982.]],...",
     "output_type": "error",
     "traceback": [
      "\u001b[0;31m---------------------------------------------------------------------------\u001b[0m",
      "\u001b[0;31mAssertionError\u001b[0m                            Traceback (most recent call last)",
      "\u001b[0;32m<ipython-input-92-d7bc74088717>\u001b[0m in \u001b[0;36m<module>\u001b[0;34m\u001b[0m\n\u001b[0;32m----> 1\u001b[0;31m \u001b[0mnp\u001b[0m\u001b[0;34m.\u001b[0m\u001b[0mtesting\u001b[0m\u001b[0;34m.\u001b[0m\u001b[0massert_allclose\u001b[0m\u001b[0;34m(\u001b[0m\u001b[0mdata\u001b[0m\u001b[0;34m[\u001b[0m\u001b[0;34m...\u001b[0m\u001b[0;34m,\u001b[0m\u001b[0;36m0\u001b[0m\u001b[0;34m]\u001b[0m\u001b[0;34m,\u001b[0m \u001b[0mcnt\u001b[0m\u001b[0;34m)\u001b[0m\u001b[0;34m\u001b[0m\u001b[0;34m\u001b[0m\u001b[0m\n\u001b[0m\u001b[1;32m      2\u001b[0m \u001b[0mnp\u001b[0m\u001b[0;34m.\u001b[0m\u001b[0mtesting\u001b[0m\u001b[0;34m.\u001b[0m\u001b[0massert_allclose\u001b[0m\u001b[0;34m(\u001b[0m\u001b[0mdata\u001b[0m\u001b[0;34m[\u001b[0m\u001b[0;34m...\u001b[0m\u001b[0;34m,\u001b[0m\u001b[0;36m1\u001b[0m\u001b[0;34m]\u001b[0m\u001b[0;34m.\u001b[0m\u001b[0mdiagonal\u001b[0m\u001b[0;34m(\u001b[0m\u001b[0;34m)\u001b[0m\u001b[0;34m,\u001b[0m \u001b[0mnp\u001b[0m\u001b[0;34m.\u001b[0m\u001b[0mnanmean\u001b[0m\u001b[0;34m(\u001b[0m\u001b[0ma\u001b[0m\u001b[0;34m,\u001b[0m \u001b[0maxis\u001b[0m\u001b[0;34m=\u001b[0m\u001b[0;34m-\u001b[0m\u001b[0;36m1\u001b[0m\u001b[0;34m)\u001b[0m\u001b[0;34m)\u001b[0m\u001b[0;34m\u001b[0m\u001b[0;34m\u001b[0m\u001b[0m\n\u001b[1;32m      3\u001b[0m \u001b[0;34m\u001b[0m\u001b[0m\n\u001b[1;32m      4\u001b[0m \u001b[0;34m\u001b[0m\u001b[0m\n\u001b[1;32m      5\u001b[0m \u001b[0;31m# cov_xy = cov_prime_xy + (x_mean_x - x_mean_xy) * (y_mean_y - y_mean_xy)\u001b[0m\u001b[0;34m\u001b[0m\u001b[0;34m\u001b[0m\u001b[0;34m\u001b[0m\u001b[0m\n",
      "\u001b[0;32m~/.conda/envs/py37/lib/python3.7/site-packages/numpy/testing/_private/utils.py\u001b[0m in \u001b[0;36massert_allclose\u001b[0;34m(actual, desired, rtol, atol, equal_nan, err_msg, verbose)\u001b[0m\n\u001b[1;32m   1531\u001b[0m     \u001b[0mheader\u001b[0m \u001b[0;34m=\u001b[0m \u001b[0;34m'Not equal to tolerance rtol=%g, atol=%g'\u001b[0m \u001b[0;34m%\u001b[0m \u001b[0;34m(\u001b[0m\u001b[0mrtol\u001b[0m\u001b[0;34m,\u001b[0m \u001b[0matol\u001b[0m\u001b[0;34m)\u001b[0m\u001b[0;34m\u001b[0m\u001b[0;34m\u001b[0m\u001b[0m\n\u001b[1;32m   1532\u001b[0m     assert_array_compare(compare, actual, desired, err_msg=str(err_msg),\n\u001b[0;32m-> 1533\u001b[0;31m                          verbose=verbose, header=header, equal_nan=equal_nan)\n\u001b[0m\u001b[1;32m   1534\u001b[0m \u001b[0;34m\u001b[0m\u001b[0m\n\u001b[1;32m   1535\u001b[0m \u001b[0;34m\u001b[0m\u001b[0m\n",
      "\u001b[0;32m~/.conda/envs/py37/lib/python3.7/site-packages/numpy/testing/_private/utils.py\u001b[0m in \u001b[0;36massert_array_compare\u001b[0;34m(comparison, x, y, err_msg, verbose, header, precision, equal_nan, equal_inf)\u001b[0m\n\u001b[1;32m    763\u001b[0m                                 \u001b[0mverbose\u001b[0m\u001b[0;34m=\u001b[0m\u001b[0mverbose\u001b[0m\u001b[0;34m,\u001b[0m \u001b[0mheader\u001b[0m\u001b[0;34m=\u001b[0m\u001b[0mheader\u001b[0m\u001b[0;34m,\u001b[0m\u001b[0;34m\u001b[0m\u001b[0;34m\u001b[0m\u001b[0m\n\u001b[1;32m    764\u001b[0m                                 names=('x', 'y'), precision=precision)\n\u001b[0;32m--> 765\u001b[0;31m             \u001b[0;32mraise\u001b[0m \u001b[0mAssertionError\u001b[0m\u001b[0;34m(\u001b[0m\u001b[0mmsg\u001b[0m\u001b[0;34m)\u001b[0m\u001b[0;34m\u001b[0m\u001b[0;34m\u001b[0m\u001b[0m\n\u001b[0m\u001b[1;32m    766\u001b[0m \u001b[0;34m\u001b[0m\u001b[0m\n\u001b[1;32m    767\u001b[0m         \u001b[0mflagged\u001b[0m \u001b[0;34m=\u001b[0m \u001b[0mbool_\u001b[0m\u001b[0;34m(\u001b[0m\u001b[0;32mFalse\u001b[0m\u001b[0;34m)\u001b[0m\u001b[0;34m\u001b[0m\u001b[0;34m\u001b[0m\u001b[0m\n",
      "\u001b[0;31mAssertionError\u001b[0m: \nNot equal to tolerance rtol=1e-07, atol=0\n\n(shapes (6,), (3, 2, 3, 2) mismatch)\n x: array([0., 0., 0., 0., 0., 0.])\n y: array([[[[995., 985.],\n         [991., 983.],\n         [989., 982.]],..."
     ]
    }
   ],
   "source": [
    "np.testing.assert_allclose(data[..., 0], cnt)\n",
    "np.testing.assert_allclose(data[..., 1].diagonal(), np.nanmean(a, axis=-1))\n",
    "\n",
    "\n",
    "# cov_xy = cov_prime_xy + (x_mean_x - x_mean_xy) * (y_mean_y - y_mean_xy)\n",
    "\n",
    "mean = data[:, :, 1].diagonal()\n",
    "cross = mean[:, None] - data[:, :, 1]\n",
    "cross = cross * cross.T\n",
    "\n",
    "c = data[:, :, 2] + cross\n",
    "\n",
    "np.testing.assert_allclose(c, cov)"
   ]
  },
  {
   "cell_type": "code",
   "execution_count": 93,
   "metadata": {},
   "outputs": [
    {
     "name": "stdout",
     "output_type": "stream",
     "text": [
      "229 ms ± 0 ns per loop (mean ± std. dev. of 1 run, 1 loop each)\n"
     ]
    }
   ],
   "source": [
    "%%timeit -n 1 -r 1\n",
    "# another way\n",
    "n = a.shape[0]\n",
    "data = np.zeros((n, n, 3))\n",
    "for xx in a.T:\n",
    "    w = np.isfinite(xx).astype(np.float)\n",
    "    w = w * w[:, None]\n",
    "    _push_val_cov(data, w, xx)"
   ]
  },
  {
   "cell_type": "code",
   "execution_count": 94,
   "metadata": {},
   "outputs": [],
   "source": [
    "# %%timeit -n 1 -r 1\n",
    "# another way\n",
    "n = a.shape[0]\n",
    "data = np.zeros((n, n, 3))\n",
    "for xx in a.T:\n",
    "    w = np.isfinite(xx).astype(np.float)\n",
    "    w = w * w[:, None]\n",
    "    _push_val_cov(data, w, xx)"
   ]
  },
  {
   "cell_type": "code",
   "execution_count": 95,
   "metadata": {},
   "outputs": [
    {
     "ename": "AssertionError",
     "evalue": "\nNot equal to tolerance rtol=1e-07, atol=0\n\n(shapes (6, 6), (3, 2, 3, 2) mismatch)\n x: array([[995., 985., 991., 983., 989., 982.],\n       [985., 990., 986., 978., 984., 977.],\n       [991., 986., 996., 984., 990., 983.],...\n y: array([[[[995., 985.],\n         [991., 983.],\n         [989., 982.]],...",
     "output_type": "error",
     "traceback": [
      "\u001b[0;31m---------------------------------------------------------------------------\u001b[0m",
      "\u001b[0;31mAssertionError\u001b[0m                            Traceback (most recent call last)",
      "\u001b[0;32m<ipython-input-95-d7bc74088717>\u001b[0m in \u001b[0;36m<module>\u001b[0;34m\u001b[0m\n\u001b[0;32m----> 1\u001b[0;31m \u001b[0mnp\u001b[0m\u001b[0;34m.\u001b[0m\u001b[0mtesting\u001b[0m\u001b[0;34m.\u001b[0m\u001b[0massert_allclose\u001b[0m\u001b[0;34m(\u001b[0m\u001b[0mdata\u001b[0m\u001b[0;34m[\u001b[0m\u001b[0;34m...\u001b[0m\u001b[0;34m,\u001b[0m\u001b[0;36m0\u001b[0m\u001b[0;34m]\u001b[0m\u001b[0;34m,\u001b[0m \u001b[0mcnt\u001b[0m\u001b[0;34m)\u001b[0m\u001b[0;34m\u001b[0m\u001b[0;34m\u001b[0m\u001b[0m\n\u001b[0m\u001b[1;32m      2\u001b[0m \u001b[0mnp\u001b[0m\u001b[0;34m.\u001b[0m\u001b[0mtesting\u001b[0m\u001b[0;34m.\u001b[0m\u001b[0massert_allclose\u001b[0m\u001b[0;34m(\u001b[0m\u001b[0mdata\u001b[0m\u001b[0;34m[\u001b[0m\u001b[0;34m...\u001b[0m\u001b[0;34m,\u001b[0m\u001b[0;36m1\u001b[0m\u001b[0;34m]\u001b[0m\u001b[0;34m.\u001b[0m\u001b[0mdiagonal\u001b[0m\u001b[0;34m(\u001b[0m\u001b[0;34m)\u001b[0m\u001b[0;34m,\u001b[0m \u001b[0mnp\u001b[0m\u001b[0;34m.\u001b[0m\u001b[0mnanmean\u001b[0m\u001b[0;34m(\u001b[0m\u001b[0ma\u001b[0m\u001b[0;34m,\u001b[0m \u001b[0maxis\u001b[0m\u001b[0;34m=\u001b[0m\u001b[0;34m-\u001b[0m\u001b[0;36m1\u001b[0m\u001b[0;34m)\u001b[0m\u001b[0;34m)\u001b[0m\u001b[0;34m\u001b[0m\u001b[0;34m\u001b[0m\u001b[0m\n\u001b[1;32m      3\u001b[0m \u001b[0;34m\u001b[0m\u001b[0m\n\u001b[1;32m      4\u001b[0m \u001b[0;34m\u001b[0m\u001b[0m\n\u001b[1;32m      5\u001b[0m \u001b[0;31m# cov_xy = cov_prime_xy + (x_mean_x - x_mean_xy) * (y_mean_y - y_mean_xy)\u001b[0m\u001b[0;34m\u001b[0m\u001b[0;34m\u001b[0m\u001b[0;34m\u001b[0m\u001b[0m\n",
      "\u001b[0;32m~/.conda/envs/py37/lib/python3.7/site-packages/numpy/testing/_private/utils.py\u001b[0m in \u001b[0;36massert_allclose\u001b[0;34m(actual, desired, rtol, atol, equal_nan, err_msg, verbose)\u001b[0m\n\u001b[1;32m   1531\u001b[0m     \u001b[0mheader\u001b[0m \u001b[0;34m=\u001b[0m \u001b[0;34m'Not equal to tolerance rtol=%g, atol=%g'\u001b[0m \u001b[0;34m%\u001b[0m \u001b[0;34m(\u001b[0m\u001b[0mrtol\u001b[0m\u001b[0;34m,\u001b[0m \u001b[0matol\u001b[0m\u001b[0;34m)\u001b[0m\u001b[0;34m\u001b[0m\u001b[0;34m\u001b[0m\u001b[0m\n\u001b[1;32m   1532\u001b[0m     assert_array_compare(compare, actual, desired, err_msg=str(err_msg),\n\u001b[0;32m-> 1533\u001b[0;31m                          verbose=verbose, header=header, equal_nan=equal_nan)\n\u001b[0m\u001b[1;32m   1534\u001b[0m \u001b[0;34m\u001b[0m\u001b[0m\n\u001b[1;32m   1535\u001b[0m \u001b[0;34m\u001b[0m\u001b[0m\n",
      "\u001b[0;32m~/.conda/envs/py37/lib/python3.7/site-packages/numpy/testing/_private/utils.py\u001b[0m in \u001b[0;36massert_array_compare\u001b[0;34m(comparison, x, y, err_msg, verbose, header, precision, equal_nan, equal_inf)\u001b[0m\n\u001b[1;32m    763\u001b[0m                                 \u001b[0mverbose\u001b[0m\u001b[0;34m=\u001b[0m\u001b[0mverbose\u001b[0m\u001b[0;34m,\u001b[0m \u001b[0mheader\u001b[0m\u001b[0;34m=\u001b[0m\u001b[0mheader\u001b[0m\u001b[0;34m,\u001b[0m\u001b[0;34m\u001b[0m\u001b[0;34m\u001b[0m\u001b[0m\n\u001b[1;32m    764\u001b[0m                                 names=('x', 'y'), precision=precision)\n\u001b[0;32m--> 765\u001b[0;31m             \u001b[0;32mraise\u001b[0m \u001b[0mAssertionError\u001b[0m\u001b[0;34m(\u001b[0m\u001b[0mmsg\u001b[0m\u001b[0;34m)\u001b[0m\u001b[0;34m\u001b[0m\u001b[0;34m\u001b[0m\u001b[0m\n\u001b[0m\u001b[1;32m    766\u001b[0m \u001b[0;34m\u001b[0m\u001b[0m\n\u001b[1;32m    767\u001b[0m         \u001b[0mflagged\u001b[0m \u001b[0;34m=\u001b[0m \u001b[0mbool_\u001b[0m\u001b[0;34m(\u001b[0m\u001b[0;32mFalse\u001b[0m\u001b[0;34m)\u001b[0m\u001b[0;34m\u001b[0m\u001b[0;34m\u001b[0m\u001b[0m\n",
      "\u001b[0;31mAssertionError\u001b[0m: \nNot equal to tolerance rtol=1e-07, atol=0\n\n(shapes (6, 6), (3, 2, 3, 2) mismatch)\n x: array([[995., 985., 991., 983., 989., 982.],\n       [985., 990., 986., 978., 984., 977.],\n       [991., 986., 996., 984., 990., 983.],...\n y: array([[[[995., 985.],\n         [991., 983.],\n         [989., 982.]],..."
     ]
    }
   ],
   "source": [
    "np.testing.assert_allclose(data[..., 0], cnt)\n",
    "np.testing.assert_allclose(data[..., 1].diagonal(), np.nanmean(a, axis=-1))\n",
    "\n",
    "\n",
    "# cov_xy = cov_prime_xy + (x_mean_x - x_mean_xy) * (y_mean_y - y_mean_xy)\n",
    "\n",
    "mean = data[:, :, 1].diagonal()\n",
    "cross = mean[:, None] - data[:, :, 1]\n",
    "cross = cross * cross.T\n",
    "\n",
    "c = data[:, :, 2] + cross\n",
    "\n",
    "np.testing.assert_allclose(c, cov)"
   ]
  },
  {
   "cell_type": "code",
   "execution_count": 36,
   "metadata": {},
   "outputs": [
    {
     "data": {
      "text/plain": [
       "(1, 2, 3, 1, 2, 3)"
      ]
     },
     "execution_count": 36,
     "metadata": {},
     "output_type": "execute_result"
    }
   ],
   "source": [
    "(1, 2, 3) * 2"
   ]
  },
  {
   "cell_type": "code",
   "execution_count": 31,
   "metadata": {},
   "outputs": [],
   "source": [
    "@njit\n",
    "def _push_stat_cov(data, w, a, v):\n",
    "    n = a.shape[0]\n",
    "    for i in range(n):\n",
    "        for j in range(i, n):\n",
    "            wij = w[i, j]\n",
    "            if wij == 0:\n",
    "                continue\n",
    "\n",
    "            weight = data[i, j, 0] + wij\n",
    "            alpha = wij / weight\n",
    "\n",
    "            avei = data[i, j, 1]\n",
    "            deltai = a[i, j] - avei\n",
    "            incri = deltai * alpha\n",
    "            data[i, j, 0] = weight\n",
    "            data[i, j, 1] = avei + incri\n",
    "\n",
    "            if j == i:\n",
    "                # same\n",
    "                data[i, j, 2] = v[i, j] * alpha + (1.0 - alpha) * (\n",
    "                    data[i, j, 2] + deltai * incri\n",
    "                )\n",
    "            else:\n",
    "                avej = data[j, i, 1]\n",
    "                deltaj = a[j, i] - avej\n",
    "                incrj = deltaj * alpha\n",
    "\n",
    "                data[j, i, 0] = weight\n",
    "                data[j, i, 1] = avej + incrj\n",
    "\n",
    "                # cov_prime\n",
    "                c = v[i, j] * alpha + (1.0 - alpha) * (data[i, j, 2] + incri * deltaj)\n",
    "\n",
    "                data[i, j, 2] = c\n",
    "                data[j, i, 2] = c"
   ]
  },
  {
   "cell_type": "code",
   "execution_count": 32,
   "metadata": {},
   "outputs": [],
   "source": [
    "n = a.shape[0]\n",
    "data1 = np.zeros((n, n, 3))\n",
    "data2 = np.zeros((n, n, 3))\n",
    "\n",
    "for xx in a1.T:\n",
    "    w = np.isfinite(xx).astype(np.float)\n",
    "    w = w * w[:, None]\n",
    "    _push_val_cov(data1, w, xx)\n",
    "\n",
    "for xx in a2.T:\n",
    "    w = np.isfinite(xx).astype(np.float)\n",
    "    w = w * w[:, None]\n",
    "    _push_val_cov(data2, w, xx)"
   ]
  },
  {
   "cell_type": "code",
   "execution_count": 35,
   "metadata": {},
   "outputs": [],
   "source": [
    "data12 = np.zeros((n, n, 3))\n",
    "_push_stat_cov(data12, data1[..., 0], data1[..., 1], data1[..., 2])\n",
    "_push_stat_cov(data12, data2[..., 0], data2[..., 1], data2[..., 2])"
   ]
  },
  {
   "cell_type": "code",
   "execution_count": null,
   "metadata": {},
   "outputs": [],
   "source": []
  },
  {
   "cell_type": "code",
   "execution_count": 34,
   "metadata": {},
   "outputs": [],
   "source": [
    "np.testing.assert_allclose(data, data12)"
   ]
  },
  {
   "cell_type": "code",
   "execution_count": null,
   "metadata": {},
   "outputs": [],
   "source": []
  },
  {
   "cell_type": "code",
   "execution_count": null,
   "metadata": {},
   "outputs": [],
   "source": []
  },
  {
   "cell_type": "code",
   "execution_count": null,
   "metadata": {},
   "outputs": [],
   "source": []
  }
 ],
 "metadata": {
  "kernelspec": {
   "display_name": "Python [conda env:.conda-py37]",
   "language": "python",
   "name": "conda-env-.conda-py37-py"
  },
  "language_info": {
   "codemirror_mode": {
    "name": "ipython",
    "version": 3
   },
   "file_extension": ".py",
   "mimetype": "text/x-python",
   "name": "python",
   "nbconvert_exporter": "python",
   "pygments_lexer": "ipython3",
   "version": "3.7.9"
  },
  "toc": {
   "base_numbering": 1,
   "nav_menu": {},
   "number_sections": true,
   "sideBar": true,
   "skip_h1_title": false,
   "title_cell": "Table of Contents",
   "title_sidebar": "Contents",
   "toc_cell": false,
   "toc_position": {},
   "toc_section_display": "block",
   "toc_window_display": false
  }
 },
 "nbformat": 4,
 "nbformat_minor": 2
}
