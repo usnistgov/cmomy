{
 "cells": [
  {
   "cell_type": "code",
   "execution_count": 1,
   "metadata": {},
   "outputs": [],
   "source": [
    "%matplotlib inline\n",
    "import matplotlib.pyplot as plt\n",
    "import numpy as np\n",
    "from numba import njit"
   ]
  },
  {
   "cell_type": "code",
   "execution_count": 2,
   "metadata": {},
   "outputs": [],
   "source": [
    "index = np.random.choice(100, (100, 50))"
   ]
  },
  {
   "cell_type": "code",
   "execution_count": 3,
   "metadata": {},
   "outputs": [],
   "source": [
    "@njit\n",
    "def _random_sample_with_replacement(ndat, nrep):\n",
    "    out = np.empty((ndat, nrep), dtype=np.int64)\n",
    "    for i in range(ndat):\n",
    "        for j in range(nrep):\n",
    "            out[i, j] = np.random.randint(0, ndat)\n",
    "    return out"
   ]
  },
  {
   "cell_type": "code",
   "execution_count": 4,
   "metadata": {},
   "outputs": [],
   "source": [
    "@njit\n",
    "def _random_sample_with_replacement_freq_out(freq):\n",
    "    nrep = freq.shape[0]\n",
    "    ndat = freq.shape[1]\n",
    "    for i in range(nrep):\n",
    "        for j in range(ndat):\n",
    "            index = np.random.randint(0, ndat)\n",
    "            freq[i, index] += 1\n",
    "\n",
    "\n",
    "@njit\n",
    "def _random_sample_with_replacement_freq(ndat, nrep):\n",
    "    \"\"\"\n",
    "    instead of building an index for samples build a frequency table\n",
    "\n",
    "    freq[irep, jdat] = {# of sample of data at (j,..) for sample irep}\n",
    "\n",
    "    note that this is the transpose of np.random.choice.  but this is faster to construct\n",
    "    \"\"\"\n",
    "    freq = np.zeros((nrep, ndat), dtype=np.int64)\n",
    "    for i in range(nrep):\n",
    "        for j in range(ndat):\n",
    "            index = np.random.randint(0, ndat)\n",
    "            freq[i, index] += 1\n",
    "\n",
    "    return freq\n",
    "\n",
    "\n",
    "import threading\n",
    "\n",
    "\n",
    "def random_sample_with_replacement_freq_thread(ndat, nrep, nthread):\n",
    "    out = np.zeros((nrep, ndat), dtype=np.int64)\n",
    "\n",
    "    chunk_size = (nrep + nthread - 1) // nthread\n",
    "\n",
    "    # args_list = [(data,_freq) for _freq in np.split(freq, nthread, axis=1)]\n",
    "    args_list = [\n",
    "        (out[chunk_size * i : chunk_size * (i + 1), :],) for i in range(nthread)\n",
    "    ]\n",
    "\n",
    "    threads = [\n",
    "        threading.Thread(target=_random_sample_with_replacement_freq_out, args=args)\n",
    "        for args in args_list\n",
    "    ]\n",
    "\n",
    "    for thread in threads:\n",
    "        thread.start()\n",
    "\n",
    "    for thread in threads:\n",
    "        thread.join()\n",
    "\n",
    "    return out\n",
    "\n",
    "\n",
    "import multiprocessing\n",
    "\n",
    "\n",
    "def random_sample_with_replacement_freq_mult(ndat, nrep, nthread):\n",
    "    if nthread < 0:\n",
    "        nthread = multiprocessing.cpu_count()\n",
    "\n",
    "    chunk_size = (nrep + nthread - 1) // nthread\n",
    "\n",
    "    args_list = []\n",
    "    count = 0\n",
    "    for i in range(nthread):\n",
    "        count += chunk_size\n",
    "        if count > nrep:\n",
    "            args_list.append((ndat, count - nrep))\n",
    "        else:\n",
    "            args_list.append((ndat, chunk_size))\n",
    "\n",
    "    # args_list = [(data,_freq) for _freq in np.split(freq, nthread, axis=1)]\n",
    "    #     args_list = [(ndat, chunk_size)out[chunk_size*i : chunk_size*(i+1), :],)\n",
    "    #                  for i in range(nthread)]\n",
    "\n",
    "    pool = multiprocessing.Pool(processes=nthread)\n",
    "    pools = [\n",
    "        pool.apply_async(_random_sample_with_replacement_freq, args=args)\n",
    "        for args in args_list\n",
    "    ]\n",
    "\n",
    "    outputs = [p.get() for p in pools]\n",
    "    return np.concatenate(outputs, axis=0)"
   ]
  },
  {
   "cell_type": "code",
   "execution_count": 39,
   "metadata": {},
   "outputs": [],
   "source": [
    "ndat = 100\n",
    "nrep = ndat * 10"
   ]
  },
  {
   "cell_type": "code",
   "execution_count": 40,
   "metadata": {},
   "outputs": [
    {
     "data": {
      "text/plain": [
       "<module 'accumulator' from '/Users/wpk/Documents/python/projects/python_dropin_files/accumulator.py'>"
      ]
     },
     "execution_count": 40,
     "metadata": {},
     "output_type": "execute_result"
    }
   ],
   "source": [
    "from importlib import reload\n",
    "import accumulator as acc\n",
    "\n",
    "reload(acc)"
   ]
  },
  {
   "cell_type": "code",
   "execution_count": 41,
   "metadata": {},
   "outputs": [],
   "source": [
    "ndat = 300\n",
    "nrep = ndat * 100"
   ]
  },
  {
   "cell_type": "code",
   "execution_count": 42,
   "metadata": {},
   "outputs": [
    {
     "data": {
      "text/plain": [
       "<module 'accumulator' from '/Users/wpk/Documents/python/projects/python_dropin_files/accumulator.py'>"
      ]
     },
     "execution_count": 42,
     "metadata": {},
     "output_type": "execute_result"
    }
   ],
   "source": [
    "reload(acc)"
   ]
  },
  {
   "cell_type": "code",
   "execution_count": 43,
   "metadata": {},
   "outputs": [],
   "source": [
    "index, freq = acc.randsamp_numpy(ndat, nrep)"
   ]
  },
  {
   "cell_type": "code",
   "execution_count": 127,
   "metadata": {},
   "outputs": [],
   "source": [
    "# create synthetic data\n",
    "x = np.random.rand(10000, ndat, 1)"
   ]
  },
  {
   "cell_type": "code",
   "execution_count": 128,
   "metadata": {},
   "outputs": [],
   "source": [
    "s = acc.StatsAccumVec.from_vals(x)"
   ]
  },
  {
   "cell_type": "code",
   "execution_count": 129,
   "metadata": {},
   "outputs": [],
   "source": [
    "g = s.to_array()\n",
    "s2 = g.resample(index)"
   ]
  },
  {
   "cell_type": "code",
   "execution_count": 130,
   "metadata": {},
   "outputs": [
    {
     "data": {
      "text/plain": [
       "(300, 1, 3)"
      ]
     },
     "execution_count": 130,
     "metadata": {},
     "output_type": "execute_result"
    }
   ],
   "source": [
    "s.data.shape"
   ]
  },
  {
   "cell_type": "code",
   "execution_count": 132,
   "metadata": {},
   "outputs": [],
   "source": [
    "out = acc.resample_data(s.data, freq, parallel=True)"
   ]
  },
  {
   "cell_type": "code",
   "execution_count": 133,
   "metadata": {},
   "outputs": [],
   "source": [
    "np.testing.assert_allclose(s2.data, out)"
   ]
  },
  {
   "cell_type": "code",
   "execution_count": 134,
   "metadata": {},
   "outputs": [
    {
     "name": "stdout",
     "output_type": "stream",
     "text": [
      "176 ms ± 0 ns per loop (mean ± std. dev. of 1 run, 1 loop each)\n"
     ]
    }
   ],
   "source": [
    "%%timeit -n 1 -r 1\n",
    "out = acc.resample_data(s.data, freq, parallel=False)"
   ]
  },
  {
   "cell_type": "code",
   "execution_count": 135,
   "metadata": {},
   "outputs": [
    {
     "name": "stdout",
     "output_type": "stream",
     "text": [
      "12.7 ms ± 0 ns per loop (mean ± std. dev. of 1 run, 1 loop each)\n"
     ]
    }
   ],
   "source": [
    "%%timeit -n 1 -r 1\n",
    "out = acc.resample_data(s.data, freq, parallel=True)"
   ]
  },
  {
   "cell_type": "code",
   "execution_count": 136,
   "metadata": {},
   "outputs": [
    {
     "name": "stdout",
     "output_type": "stream",
     "text": [
      "135 ms ± 0 ns per loop (mean ± std. dev. of 1 run, 1 loop each)\n"
     ]
    }
   ],
   "source": [
    "%%timeit -n 1 -r 1\n",
    "out = acc.resample_data(s.data, freq, nthread=100, parallel=False)"
   ]
  },
  {
   "cell_type": "code",
   "execution_count": 137,
   "metadata": {},
   "outputs": [
    {
     "name": "stdout",
     "output_type": "stream",
     "text": [
      "277 ms ± 0 ns per loop (mean ± std. dev. of 1 run, 1 loop each)\n"
     ]
    }
   ],
   "source": [
    "%%timeit -n 1 -r 1\n",
    "out = acc.resample_data(s.data, freq, nproc=5, parallel=False)"
   ]
  },
  {
   "cell_type": "code",
   "execution_count": 138,
   "metadata": {},
   "outputs": [],
   "source": [
    "from numba import prange\n",
    "\n",
    "\n",
    "@njit(parallel=True)\n",
    "def _resample_2(data, freq):\n",
    "    ndata = data.shape[0]\n",
    "    nmeta = data.shape[1]\n",
    "\n",
    "    ndat = freq.shape[0]\n",
    "    nrep = freq.shape[1]\n",
    "    assert ndat == ndata\n",
    "\n",
    "    out = np.zeros((nrep, nmeta, 3))\n",
    "    for idat in range(ndat):\n",
    "        for imeta in range(nmeta):\n",
    "            _w = data[idat, imeta, 0]\n",
    "            if _w == 0.0:\n",
    "                continue\n",
    "            a = data[idat, imeta, 1]\n",
    "            v = data[idat, imeta, 2]\n",
    "            for irep in range(nrep):\n",
    "                f = freq[idat, irep]\n",
    "                if f == 0.0:\n",
    "                    continue\n",
    "                w = _w * f\n",
    "\n",
    "                weight = out[irep, imeta, 0] + w\n",
    "                ave = out[irep, imeta, 1]\n",
    "                var = out[irep, imeta, 2]\n",
    "\n",
    "                alpha = w / weight\n",
    "                delta = a - ave\n",
    "                incr = delta * alpha\n",
    "\n",
    "                out[irep, imeta, 0] += w\n",
    "                out[irep, imeta, 1] += incr\n",
    "                out[irep, imeta, 2] += (v - var) * alpha + (1.0 - alpha) * delta * incr\n",
    "\n",
    "    return out\n",
    "\n",
    "\n",
    "@njit\n",
    "def _push_stat(data, w, a, v):\n",
    "    if w == 0.0:\n",
    "        return\n",
    "    weight = data[0] + w\n",
    "    ave = data[1]\n",
    "    var = data[2]\n",
    "\n",
    "    alpha = w / weight\n",
    "    delta = a - ave\n",
    "    incr = delta * alpha\n",
    "\n",
    "    data[0] += w\n",
    "    data[1] += incr\n",
    "    data[2] += (v - var) * alpha + (1.0 - alpha) * (delta * incr)\n",
    "\n",
    "\n",
    "@njit(parallel=True)\n",
    "def _resample_3(data, freq, out):\n",
    "    ndata = data.shape[0]\n",
    "    nmeta = data.shape[1]\n",
    "\n",
    "    ndat = freq.shape[0]\n",
    "    nrep = freq.shape[1]\n",
    "    assert ndat == ndata\n",
    "\n",
    "    for idat in range(ndat):\n",
    "        for imeta in range(nmeta):\n",
    "            _w = data[idat, imeta, 0]\n",
    "            if _w == 0.0:\n",
    "                continue\n",
    "            a = data[idat, imeta, 1]\n",
    "            v = data[idat, imeta, 2]\n",
    "            for irep in prange(nrep):\n",
    "                f = freq[idat, irep]\n",
    "                if f == 0.0:\n",
    "                    continue\n",
    "                acc._push_stat(out[irep, imeta], _w * f, a, v)\n",
    "\n",
    "\n",
    "@njit(parallel=True)\n",
    "def _resample_4(data, freq, out):\n",
    "    ndata = data.shape[0]\n",
    "    nmeta = data.shape[1]\n",
    "\n",
    "    ndat = freq.shape[0]\n",
    "    nrep = freq.shape[1]\n",
    "    assert ndat == ndata\n",
    "\n",
    "    for irep in prange(nrep):\n",
    "        for idat in range(ndat):\n",
    "            f = freq[idat, irep]\n",
    "            if f == 0.0:\n",
    "                continue\n",
    "\n",
    "            for imeta in range(nmeta):\n",
    "                _w = data[idat, imeta, 0]\n",
    "                if _w == 0.0:\n",
    "                    continue\n",
    "                a = data[idat, imeta, 1]\n",
    "                v = data[idat, imeta, 2]\n",
    "\n",
    "                acc._push_stat(out[irep, imeta], _w * f, a, v)\n",
    "\n",
    "\n",
    "@njit(parallel=True)\n",
    "def _resample_4b(data, freq, out):\n",
    "    ndata = data.shape[0]\n",
    "    nmeta = data.shape[1]\n",
    "\n",
    "    ndat = freq.shape[0]\n",
    "    nrep = freq.shape[1]\n",
    "    assert ndat == ndata\n",
    "\n",
    "    for irep in prange(nrep):\n",
    "        for idat in range(ndat):\n",
    "            f = freq[idat, irep]\n",
    "            if f == 0.0:\n",
    "                continue\n",
    "\n",
    "            for imeta in range(nmeta):\n",
    "                _w = data[idat, imeta, 0]\n",
    "                if _w == 0.0:\n",
    "                    continue\n",
    "                a = data[idat, imeta, 1]\n",
    "                v = data[idat, imeta, 2]\n",
    "\n",
    "                _push_stat(out[irep, imeta], _w * f, a, v)\n",
    "\n",
    "\n",
    "# this seems to be the best one by far.\n",
    "@njit(parallel=True)\n",
    "def _resample_2b(data, freq):\n",
    "    ndata = data.shape[0]\n",
    "    nmeta = data.shape[1]\n",
    "\n",
    "    ndat = freq.shape[0]\n",
    "    nrep = freq.shape[1]\n",
    "    assert ndat == ndata\n",
    "\n",
    "    out = np.zeros((nrep, nmeta, 3))\n",
    "    for irep in prange(nrep):\n",
    "        for idat in range(ndat):\n",
    "            f = freq[idat, irep]\n",
    "            if f == 0.0:\n",
    "                continue\n",
    "            for imeta in range(nmeta):\n",
    "                _w = data[idat, imeta, 0]\n",
    "                if _w == 0.0:\n",
    "                    continue\n",
    "                a = data[idat, imeta, 1]\n",
    "                v = data[idat, imeta, 2]\n",
    "\n",
    "                w = _w * f\n",
    "\n",
    "                weight = out[irep, imeta, 0] + w\n",
    "                ave = out[irep, imeta, 1]\n",
    "                var = out[irep, imeta, 2]\n",
    "\n",
    "                alpha = w / weight\n",
    "                delta = a - ave\n",
    "                incr = delta * alpha\n",
    "\n",
    "                out[irep, imeta, 0] += w\n",
    "                out[irep, imeta, 1] += incr\n",
    "                out[irep, imeta, 2] += (v - var) * alpha + (1.0 - alpha) * delta * incr\n",
    "\n",
    "    return out\n",
    "\n",
    "\n",
    "# this seems to be the best one by far.\n",
    "@njit(parallel=True)\n",
    "def _resample_2b2(data, freq):\n",
    "    ndata = data.shape[0]\n",
    "    nmeta = data.shape[1]\n",
    "\n",
    "    ndat = freq.shape[0]\n",
    "    nrep = freq.shape[1]\n",
    "    assert ndat == ndata\n",
    "\n",
    "    out = np.zeros((nrep, nmeta, 3))\n",
    "    for irep in prange(nrep):\n",
    "        for idat in range(ndat):\n",
    "            f = freq[idat, irep]\n",
    "            if f == 0.0:\n",
    "                continue\n",
    "            for imeta in range(nmeta):\n",
    "                _w = data[idat, imeta, 0]\n",
    "                if _w == 0.0:\n",
    "                    continue\n",
    "                a = data[idat, imeta, 1]\n",
    "                v = data[idat, imeta, 2]\n",
    "\n",
    "                w = _w * f\n",
    "\n",
    "                weight = out[irep, imeta, 0] + w\n",
    "                ave = out[irep, imeta, 1]\n",
    "                var = out[irep, imeta, 2]\n",
    "\n",
    "                alpha = w / weight\n",
    "                delta = a - ave\n",
    "                incr = delta * alpha\n",
    "\n",
    "                out[irep, imeta, 0] += w\n",
    "                out[irep, imeta, 1] += incr\n",
    "                out[irep, imeta, 2] += (v - var) * alpha + (1.0 - alpha) * delta * incr\n",
    "\n",
    "    return out\n",
    "\n",
    "\n",
    "@njit(parallel=True)\n",
    "def _resample_2c(data, freq):\n",
    "    ndata = data.shape[0]\n",
    "    nmeta = data.shape[1]\n",
    "\n",
    "    ndat = freq.shape[0]\n",
    "    nrep = freq.shape[1]\n",
    "    assert ndat == ndata\n",
    "\n",
    "    out = np.zeros((nrep, nmeta, 3))\n",
    "    for irep in prange(nrep):\n",
    "        for idat in range(ndat):\n",
    "            f = freq[idat, irep]\n",
    "            if f == 0.0:\n",
    "                continue\n",
    "            for imeta in range(nmeta):\n",
    "                _w = data[idat, imeta, 0]\n",
    "                if _w == 0.0:\n",
    "                    continue\n",
    "                a = data[idat, imeta, 1]\n",
    "                v = data[idat, imeta, 2]\n",
    "                w = _w * f\n",
    "                _push_stat(out[irep, imeta], _w * f, a, v)\n",
    "\n",
    "    return out\n",
    "\n",
    "\n",
    "@njit(parallel=True)\n",
    "def _resample_2d(data, freq):\n",
    "    ndata = data.shape[0]\n",
    "    nmeta = data.shape[1]\n",
    "\n",
    "    ndat = freq.shape[0]\n",
    "    nrep = freq.shape[1]\n",
    "    assert ndat == ndata\n",
    "\n",
    "    out = np.zeros((nrep, nmeta, 3))\n",
    "    for irep in prange(nrep):\n",
    "        for idat in range(ndat):\n",
    "            f = freq[idat, irep]\n",
    "            if f == 0.0:\n",
    "                continue\n",
    "            for imeta in range(nmeta):\n",
    "                _w = data[idat, imeta, 0]\n",
    "                if _w == 0.0:\n",
    "                    continue\n",
    "                a = data[idat, imeta, 1]\n",
    "                v = data[idat, imeta, 2]\n",
    "                w = _w * f\n",
    "                acc._push_stat(out[irep, imeta], _w * f, a, v)\n",
    "\n",
    "    return out"
   ]
  },
  {
   "cell_type": "code",
   "execution_count": 165,
   "metadata": {},
   "outputs": [],
   "source": [
    "# this seems to be the best one by far.\n",
    "@njit(parallel=True)\n",
    "def _resample_2b(data, freq):\n",
    "    ndata = data.shape[0]\n",
    "    nmeta = data.shape[1]\n",
    "\n",
    "    ndat = freq.shape[0]\n",
    "    nrep = freq.shape[1]\n",
    "    assert ndat == ndata\n",
    "\n",
    "    out = np.zeros((nrep, nmeta, 3))\n",
    "    for irep in prange(nrep):\n",
    "        for idat in range(ndat):\n",
    "            f = freq[idat, irep]\n",
    "            if f == 0.0:\n",
    "                continue\n",
    "            for imeta in range(nmeta):\n",
    "                _w = data[idat, imeta, 0]\n",
    "                if _w == 0.0:\n",
    "                    continue\n",
    "                a = data[idat, imeta, 1]\n",
    "                v = data[idat, imeta, 2]\n",
    "\n",
    "                w = _w * f\n",
    "\n",
    "                weight = out[irep, imeta, 0] + w\n",
    "                ave = out[irep, imeta, 1]\n",
    "                var = out[irep, imeta, 2]\n",
    "\n",
    "                alpha = w / weight\n",
    "                delta = a - ave\n",
    "                incr = delta * alpha\n",
    "\n",
    "                out[irep, imeta, 0] += w\n",
    "                out[irep, imeta, 1] += incr\n",
    "                out[irep, imeta, 2] += (v - var) * alpha + (1.0 - alpha) * delta * incr\n",
    "\n",
    "    return out"
   ]
  },
  {
   "cell_type": "code",
   "execution_count": 168,
   "metadata": {},
   "outputs": [],
   "source": [
    "# out2 = np.zeros_like(out)\n",
    "\n",
    "out2 = _resample_2b(s.data, freq)\n",
    "\n",
    "np.testing.assert_allclose(out, out2)"
   ]
  },
  {
   "cell_type": "code",
   "execution_count": 169,
   "metadata": {},
   "outputs": [
    {
     "name": "stdout",
     "output_type": "stream",
     "text": [
      "11.4 ms ± 0 ns per loop (mean ± std. dev. of 1 run, 1 loop each)\n"
     ]
    }
   ],
   "source": [
    "%timeit -n 1 -r 1 out2 = _resample_2b(s.data, freq)"
   ]
  },
  {
   "cell_type": "code",
   "execution_count": 141,
   "metadata": {},
   "outputs": [],
   "source": [
    "out3 = np.zeros_like(out)\n",
    "\n",
    "_resample_3(s.data, freq, out3)\n",
    "\n",
    "np.testing.assert_allclose(out, out3)"
   ]
  },
  {
   "cell_type": "code",
   "execution_count": 142,
   "metadata": {},
   "outputs": [],
   "source": [
    "out4 = np.zeros_like(out)\n",
    "\n",
    "_resample_4(s.data, freq, out4)\n",
    "\n",
    "np.testing.assert_allclose(out, out4)"
   ]
  },
  {
   "cell_type": "code",
   "execution_count": 143,
   "metadata": {},
   "outputs": [],
   "source": [
    "out4b = np.zeros_like(out)\n",
    "\n",
    "_resample_4b(s.data, freq, out4b)\n",
    "\n",
    "np.testing.assert_allclose(out, out4b)"
   ]
  },
  {
   "cell_type": "code",
   "execution_count": 424,
   "metadata": {},
   "outputs": [
    {
     "name": "stdout",
     "output_type": "stream",
     "text": [
      "13.5 ms ± 1.03 ms per loop (mean ± std. dev. of 3 runs, 5 loops each)\n",
      "14.3 ms ± 1.84 ms per loop (mean ± std. dev. of 3 runs, 5 loops each)\n",
      "21.9 ms ± 827 µs per loop (mean ± std. dev. of 3 runs, 5 loops each)\n",
      "21.4 ms ± 628 µs per loop (mean ± std. dev. of 3 runs, 5 loops each)\n"
     ]
    }
   ],
   "source": [
    "for func in [_resample_2b, _resample_2b2, _resample_2c, _resample_2d]:\n",
    "    out2 = func(s.data, freq)\n",
    "    np.testing.assert_allclose(out, out2)\n",
    "    \n",
    "    %timeit -n 5 -r 3 func(s.data, freq)\n",
    "\n",
    "# out2 = _resample_2b(s.data, freq)\n",
    "# np.testing.assert_allclose(out, out2)\n",
    "\n",
    "# out2 = _resample_2b2(s.data, freq)\n",
    "# np.testing.assert_allclose(out, out2)\n",
    "\n",
    "# out2 = _resample_2c(s.data, freq)\n",
    "# np.testing.assert_allclose(out, out2)\n",
    "\n",
    "# out2 = _resample_2d(s.data, freq)\n",
    "# np.testing.assert_allclose(out, out2)\n",
    "\n"
   ]
  },
  {
   "cell_type": "code",
   "execution_count": 405,
   "metadata": {},
   "outputs": [
    {
     "name": "stdout",
     "output_type": "stream",
     "text": [
      "282 ms ± 0 ns per loop (mean ± std. dev. of 1 run, 1 loop each)\n"
     ]
    }
   ],
   "source": [
    "%%timeit -n 1 -r 1\n",
    "_resample_2(s.data, freq)  # , out2)"
   ]
  },
  {
   "cell_type": "code",
   "execution_count": 231,
   "metadata": {},
   "outputs": [
    {
     "name": "stdout",
     "output_type": "stream",
     "text": [
      "126 ms ± 0 ns per loop (mean ± std. dev. of 1 run, 1 loop each)\n"
     ]
    }
   ],
   "source": [
    "%%timeit -n 1 -r 1\n",
    "_resample_3(s.data, freq, out3)"
   ]
  },
  {
   "cell_type": "code",
   "execution_count": 232,
   "metadata": {},
   "outputs": [
    {
     "name": "stdout",
     "output_type": "stream",
     "text": [
      "28.3 ms ± 0 ns per loop (mean ± std. dev. of 1 run, 1 loop each)\n"
     ]
    }
   ],
   "source": [
    "%%timeit -n 1 -r 1\n",
    "_resample_4(s.data, freq, out3)"
   ]
  },
  {
   "cell_type": "code",
   "execution_count": 233,
   "metadata": {},
   "outputs": [
    {
     "name": "stdout",
     "output_type": "stream",
     "text": [
      "22.7 ms ± 0 ns per loop (mean ± std. dev. of 1 run, 5 loops each)\n"
     ]
    }
   ],
   "source": [
    "%%timeit -n 5 -r 1\n",
    "_resample_4b(s.data, freq, out3)"
   ]
  },
  {
   "cell_type": "code",
   "execution_count": 234,
   "metadata": {},
   "outputs": [
    {
     "name": "stdout",
     "output_type": "stream",
     "text": [
      "15 ms ± 0 ns per loop (mean ± std. dev. of 1 run, 5 loops each)\n"
     ]
    }
   ],
   "source": [
    "%%timeit -n 5 -r 1\n",
    "_resample_2b(s.data, freq)"
   ]
  },
  {
   "cell_type": "code",
   "execution_count": 235,
   "metadata": {},
   "outputs": [
    {
     "name": "stdout",
     "output_type": "stream",
     "text": [
      "23.7 ms ± 0 ns per loop (mean ± std. dev. of 1 run, 5 loops each)\n"
     ]
    }
   ],
   "source": [
    "%%timeit -n 5 -r 1\n",
    "_resample_2c(s.data, freq)"
   ]
  },
  {
   "cell_type": "code",
   "execution_count": 236,
   "metadata": {},
   "outputs": [
    {
     "name": "stdout",
     "output_type": "stream",
     "text": [
      "22.8 ms ± 0 ns per loop (mean ± std. dev. of 1 run, 5 loops each)\n"
     ]
    }
   ],
   "source": [
    "%%timeit -n 5 -r 1\n",
    "_resample_2d(s.data, freq)"
   ]
  },
  {
   "cell_type": "code",
   "execution_count": 23,
   "metadata": {},
   "outputs": [],
   "source": [
    "d = np.abs(out - out2)\n",
    "w = np.where(d > 1)"
   ]
  },
  {
   "cell_type": "code",
   "execution_count": 24,
   "metadata": {},
   "outputs": [
    {
     "data": {
      "text/plain": [
       "(array([   62,    66,   420, ..., 29961, 29994, 29997]),\n",
       " array([0, 0, 0, ..., 2, 2, 2]),\n",
       " array([0, 0, 0, ..., 0, 0, 0]))"
      ]
     },
     "execution_count": 24,
     "metadata": {},
     "output_type": "execute_result"
    }
   ],
   "source": [
    "w"
   ]
  },
  {
   "cell_type": "code",
   "execution_count": 596,
   "metadata": {},
   "outputs": [],
   "source": [
    "np.testing.assert_allclose(out, out2)"
   ]
  },
  {
   "cell_type": "code",
   "execution_count": 567,
   "metadata": {},
   "outputs": [
    {
     "name": "stdout",
     "output_type": "stream",
     "text": [
      "451 ms ± 0 ns per loop (mean ± std. dev. of 1 run, 1 loop each)\n"
     ]
    }
   ],
   "source": [
    "%%timeit -n 1 -r 1\n",
    "_resample_2(s.data, freq, out2)"
   ]
  },
  {
   "cell_type": "code",
   "execution_count": null,
   "metadata": {},
   "outputs": [],
   "source": []
  },
  {
   "cell_type": "code",
   "execution_count": 564,
   "metadata": {},
   "outputs": [],
   "source": [
    "np.testing.assert_allclose(out2, out)"
   ]
  },
  {
   "cell_type": "code",
   "execution_count": 534,
   "metadata": {},
   "outputs": [],
   "source": [
    "np.testing.assert_allclose(out, s2.data)"
   ]
  },
  {
   "cell_type": "code",
   "execution_count": 540,
   "metadata": {},
   "outputs": [
    {
     "name": "stdout",
     "output_type": "stream",
     "text": [
      "1.14 s ± 0 ns per loop (mean ± std. dev. of 1 run, 1 loop each)\n"
     ]
    }
   ],
   "source": [
    "%%timeit -n 1 -r 1\n",
    "s2 = g.resample(index)"
   ]
  },
  {
   "cell_type": "code",
   "execution_count": 542,
   "metadata": {},
   "outputs": [
    {
     "name": "stdout",
     "output_type": "stream",
     "text": [
      "328 ms ± 0 ns per loop (mean ± std. dev. of 1 run, 1 loop each)\n"
     ]
    }
   ],
   "source": [
    "%%timeit -n 1 -r 1\n",
    "g.resample_and_reduce(freq, nthread=100)"
   ]
  },
  {
   "cell_type": "code",
   "execution_count": 503,
   "metadata": {},
   "outputs": [],
   "source": [
    "np.testing.assert_allclose(g.resample_and_reduce(freq, nthread=100).data, s2.data)"
   ]
  },
  {
   "cell_type": "code",
   "execution_count": null,
   "metadata": {},
   "outputs": [],
   "source": [
    "%timeit -n 1 -r 1 out = acc.resample_data(s.data, freq)#, nproc=10)"
   ]
  },
  {
   "cell_type": "code",
   "execution_count": 467,
   "metadata": {},
   "outputs": [
    {
     "name": "stdout",
     "output_type": "stream",
     "text": [
      "773 ms ± 0 ns per loop (mean ± std. dev. of 1 run, 1 loop each)\n"
     ]
    }
   ],
   "source": [
    "%timeit -n 1 -r 1 out = acc.resample_data(s.data, freq, nthread=200)"
   ]
  },
  {
   "cell_type": "code",
   "execution_count": 463,
   "metadata": {
    "scrolled": false
   },
   "outputs": [
    {
     "name": "stdout",
     "output_type": "stream",
     "text": [
      "717 ms ± 0 ns per loop (mean ± std. dev. of 1 run, 1 loop each)\n"
     ]
    },
    {
     "name": "stderr",
     "output_type": "stream",
     "text": [
      "Process ForkPoolWorker-408:\n",
      "Process ForkPoolWorker-409:\n",
      "Process ForkPoolWorker-405:\n",
      "Process ForkPoolWorker-414:\n",
      "Process ForkPoolWorker-413:\n",
      "Process ForkPoolWorker-406:\n",
      "Process ForkPoolWorker-407:\n",
      "Process ForkPoolWorker-404:\n",
      "Process ForkPoolWorker-403:\n",
      "Process ForkPoolWorker-411:\n",
      "Process ForkPoolWorker-410:\n",
      "Process ForkPoolWorker-412:\n",
      "Traceback (most recent call last):\n",
      "Traceback (most recent call last):\n",
      "Traceback (most recent call last):\n",
      "Traceback (most recent call last):\n",
      "Traceback (most recent call last):\n",
      "  File \"/Users/wpk/.conda/envs/py37/lib/python3.7/multiprocessing/process.py\", line 297, in _bootstrap\n",
      "    self.run()\n",
      "Traceback (most recent call last):\n",
      "Traceback (most recent call last):\n",
      "Traceback (most recent call last):\n",
      "Traceback (most recent call last):\n",
      "Traceback (most recent call last):\n",
      "  File \"/Users/wpk/.conda/envs/py37/lib/python3.7/multiprocessing/process.py\", line 297, in _bootstrap\n",
      "    self.run()\n",
      "  File \"/Users/wpk/.conda/envs/py37/lib/python3.7/multiprocessing/process.py\", line 297, in _bootstrap\n",
      "    self.run()\n",
      "  File \"/Users/wpk/.conda/envs/py37/lib/python3.7/multiprocessing/process.py\", line 297, in _bootstrap\n",
      "    self.run()\n",
      "  File \"/Users/wpk/.conda/envs/py37/lib/python3.7/multiprocessing/process.py\", line 99, in run\n",
      "    self._target(*self._args, **self._kwargs)\n",
      "  File \"/Users/wpk/.conda/envs/py37/lib/python3.7/multiprocessing/process.py\", line 99, in run\n",
      "    self._target(*self._args, **self._kwargs)\n",
      "  File \"/Users/wpk/.conda/envs/py37/lib/python3.7/multiprocessing/process.py\", line 99, in run\n",
      "    self._target(*self._args, **self._kwargs)\n",
      "  File \"/Users/wpk/.conda/envs/py37/lib/python3.7/multiprocessing/pool.py\", line 110, in worker\n",
      "    task = get()\n",
      "  File \"/Users/wpk/.conda/envs/py37/lib/python3.7/multiprocessing/pool.py\", line 110, in worker\n",
      "    task = get()\n",
      "  File \"/Users/wpk/.conda/envs/py37/lib/python3.7/multiprocessing/pool.py\", line 110, in worker\n",
      "    task = get()\n",
      "  File \"/Users/wpk/.conda/envs/py37/lib/python3.7/multiprocessing/queues.py\", line 351, in get\n",
      "    with self._rlock:\n",
      "  File \"/Users/wpk/.conda/envs/py37/lib/python3.7/multiprocessing/queues.py\", line 352, in get\n",
      "    res = self._reader.recv_bytes()\n",
      "  File \"/Users/wpk/.conda/envs/py37/lib/python3.7/multiprocessing/queues.py\", line 351, in get\n",
      "    with self._rlock:\n",
      "  File \"/Users/wpk/.conda/envs/py37/lib/python3.7/multiprocessing/synchronize.py\", line 96, in __enter__\n",
      "    return self._semlock.__enter__()\n",
      "  File \"/Users/wpk/.conda/envs/py37/lib/python3.7/multiprocessing/connection.py\", line 216, in recv_bytes\n",
      "    buf = self._recv_bytes(maxlength)\n",
      "  File \"/Users/wpk/.conda/envs/py37/lib/python3.7/multiprocessing/synchronize.py\", line 96, in __enter__\n",
      "    return self._semlock.__enter__()\n",
      "KeyboardInterrupt\n",
      "  File \"/Users/wpk/.conda/envs/py37/lib/python3.7/multiprocessing/connection.py\", line 407, in _recv_bytes\n",
      "    buf = self._recv(4)\n",
      "KeyboardInterrupt\n",
      "  File \"/Users/wpk/.conda/envs/py37/lib/python3.7/multiprocessing/connection.py\", line 379, in _recv\n",
      "    chunk = read(handle, remaining)\n",
      "KeyboardInterrupt\n",
      "  File \"/Users/wpk/.conda/envs/py37/lib/python3.7/multiprocessing/process.py\", line 297, in _bootstrap\n",
      "    self.run()\n",
      "  File \"/Users/wpk/.conda/envs/py37/lib/python3.7/multiprocessing/process.py\", line 99, in run\n",
      "    self._target(*self._args, **self._kwargs)\n",
      "  File \"/Users/wpk/.conda/envs/py37/lib/python3.7/multiprocessing/pool.py\", line 110, in worker\n",
      "    task = get()\n",
      "  File \"/Users/wpk/.conda/envs/py37/lib/python3.7/multiprocessing/queues.py\", line 351, in get\n",
      "    with self._rlock:\n",
      "  File \"/Users/wpk/.conda/envs/py37/lib/python3.7/multiprocessing/synchronize.py\", line 96, in __enter__\n",
      "    return self._semlock.__enter__()\n",
      "KeyboardInterrupt\n",
      "  File \"/Users/wpk/.conda/envs/py37/lib/python3.7/multiprocessing/process.py\", line 297, in _bootstrap\n",
      "    self.run()\n",
      "  File \"/Users/wpk/.conda/envs/py37/lib/python3.7/multiprocessing/process.py\", line 99, in run\n",
      "    self._target(*self._args, **self._kwargs)\n",
      "  File \"/Users/wpk/.conda/envs/py37/lib/python3.7/multiprocessing/process.py\", line 99, in run\n",
      "    self._target(*self._args, **self._kwargs)\n",
      "  File \"/Users/wpk/.conda/envs/py37/lib/python3.7/multiprocessing/pool.py\", line 110, in worker\n",
      "    task = get()\n",
      "  File \"/Users/wpk/.conda/envs/py37/lib/python3.7/multiprocessing/process.py\", line 297, in _bootstrap\n",
      "    self.run()\n",
      "  File \"/Users/wpk/.conda/envs/py37/lib/python3.7/multiprocessing/process.py\", line 99, in run\n",
      "    self._target(*self._args, **self._kwargs)\n",
      "  File \"/Users/wpk/.conda/envs/py37/lib/python3.7/multiprocessing/queues.py\", line 351, in get\n",
      "    with self._rlock:\n",
      "  File \"/Users/wpk/.conda/envs/py37/lib/python3.7/multiprocessing/pool.py\", line 110, in worker\n",
      "    task = get()\n",
      "  File \"/Users/wpk/.conda/envs/py37/lib/python3.7/multiprocessing/process.py\", line 99, in run\n",
      "    self._target(*self._args, **self._kwargs)\n",
      "  File \"/Users/wpk/.conda/envs/py37/lib/python3.7/multiprocessing/pool.py\", line 110, in worker\n",
      "    task = get()\n",
      "  File \"/Users/wpk/.conda/envs/py37/lib/python3.7/multiprocessing/queues.py\", line 351, in get\n",
      "    with self._rlock:\n",
      "  File \"/Users/wpk/.conda/envs/py37/lib/python3.7/multiprocessing/pool.py\", line 110, in worker\n",
      "    task = get()\n",
      "  File \"/Users/wpk/.conda/envs/py37/lib/python3.7/multiprocessing/pool.py\", line 110, in worker\n",
      "    task = get()\n",
      "  File \"/Users/wpk/.conda/envs/py37/lib/python3.7/multiprocessing/queues.py\", line 351, in get\n",
      "    with self._rlock:\n",
      "  File \"/Users/wpk/.conda/envs/py37/lib/python3.7/multiprocessing/queues.py\", line 351, in get\n",
      "    with self._rlock:\n",
      "  File \"/Users/wpk/.conda/envs/py37/lib/python3.7/multiprocessing/queues.py\", line 351, in get\n",
      "    with self._rlock:\n",
      "  File \"/Users/wpk/.conda/envs/py37/lib/python3.7/multiprocessing/synchronize.py\", line 96, in __enter__\n",
      "    return self._semlock.__enter__()\n",
      "  File \"/Users/wpk/.conda/envs/py37/lib/python3.7/multiprocessing/synchronize.py\", line 96, in __enter__\n",
      "    return self._semlock.__enter__()\n",
      "  File \"/Users/wpk/.conda/envs/py37/lib/python3.7/multiprocessing/synchronize.py\", line 96, in __enter__\n",
      "    return self._semlock.__enter__()\n",
      "  File \"/Users/wpk/.conda/envs/py37/lib/python3.7/multiprocessing/synchronize.py\", line 96, in __enter__\n",
      "    return self._semlock.__enter__()\n",
      "KeyboardInterrupt\n",
      "KeyboardInterrupt\n",
      "KeyboardInterrupt\n",
      "KeyboardInterrupt\n"
     ]
    }
   ],
   "source": [
    "%timeit -n 1 -r 1 out = acc.resample_data(s.data, freq, nproc=-1)"
   ]
  },
  {
   "cell_type": "code",
   "execution_count": 459,
   "metadata": {},
   "outputs": [
    {
     "name": "stderr",
     "output_type": "stream",
     "text": [
      "Process ForkPoolWorker-398:\n",
      "Process ForkPoolWorker-391:\n",
      "Process ForkPoolWorker-393:\n",
      "Process ForkPoolWorker-397:\n",
      "Process ForkPoolWorker-402:\n",
      "Process ForkPoolWorker-396:\n",
      "Process ForkPoolWorker-395:\n",
      "Process ForkPoolWorker-392:\n",
      "Process ForkPoolWorker-394:\n",
      "Process ForkPoolWorker-399:\n",
      "Process ForkPoolWorker-400:\n",
      "Process ForkPoolWorker-401:\n",
      "Traceback (most recent call last):\n",
      "Traceback (most recent call last):\n",
      "Traceback (most recent call last):\n",
      "Traceback (most recent call last):\n",
      "Traceback (most recent call last):\n",
      "  File \"/Users/wpk/.conda/envs/py37/lib/python3.7/multiprocessing/process.py\", line 297, in _bootstrap\n",
      "    self.run()\n",
      "  File \"/Users/wpk/.conda/envs/py37/lib/python3.7/multiprocessing/process.py\", line 297, in _bootstrap\n",
      "    self.run()\n",
      "Traceback (most recent call last):\n",
      "Traceback (most recent call last):\n",
      "  File \"/Users/wpk/.conda/envs/py37/lib/python3.7/multiprocessing/process.py\", line 297, in _bootstrap\n",
      "    self.run()\n",
      "  File \"/Users/wpk/.conda/envs/py37/lib/python3.7/multiprocessing/process.py\", line 297, in _bootstrap\n",
      "    self.run()\n",
      "Traceback (most recent call last):\n",
      "  File \"/Users/wpk/.conda/envs/py37/lib/python3.7/multiprocessing/process.py\", line 297, in _bootstrap\n",
      "    self.run()\n",
      "  File \"/Users/wpk/.conda/envs/py37/lib/python3.7/multiprocessing/process.py\", line 99, in run\n",
      "    self._target(*self._args, **self._kwargs)\n",
      "  File \"/Users/wpk/.conda/envs/py37/lib/python3.7/multiprocessing/process.py\", line 297, in _bootstrap\n",
      "    self.run()\n",
      "  File \"/Users/wpk/.conda/envs/py37/lib/python3.7/multiprocessing/process.py\", line 99, in run\n",
      "    self._target(*self._args, **self._kwargs)\n",
      "  File \"/Users/wpk/.conda/envs/py37/lib/python3.7/multiprocessing/pool.py\", line 110, in worker\n",
      "    task = get()\n",
      "  File \"/Users/wpk/.conda/envs/py37/lib/python3.7/multiprocessing/process.py\", line 99, in run\n",
      "    self._target(*self._args, **self._kwargs)\n",
      "  File \"/Users/wpk/.conda/envs/py37/lib/python3.7/multiprocessing/pool.py\", line 110, in worker\n",
      "    task = get()\n",
      "  File \"/Users/wpk/.conda/envs/py37/lib/python3.7/multiprocessing/queues.py\", line 352, in get\n",
      "    res = self._reader.recv_bytes()\n",
      "  File \"/Users/wpk/.conda/envs/py37/lib/python3.7/multiprocessing/pool.py\", line 110, in worker\n",
      "    task = get()\n",
      "  File \"/Users/wpk/.conda/envs/py37/lib/python3.7/multiprocessing/queues.py\", line 351, in get\n",
      "    with self._rlock:\n",
      "  File \"/Users/wpk/.conda/envs/py37/lib/python3.7/multiprocessing/connection.py\", line 216, in recv_bytes\n",
      "    buf = self._recv_bytes(maxlength)\n",
      "  File \"/Users/wpk/.conda/envs/py37/lib/python3.7/multiprocessing/queues.py\", line 351, in get\n",
      "    with self._rlock:\n",
      "  File \"/Users/wpk/.conda/envs/py37/lib/python3.7/multiprocessing/synchronize.py\", line 96, in __enter__\n",
      "    return self._semlock.__enter__()\n",
      "  File \"/Users/wpk/.conda/envs/py37/lib/python3.7/multiprocessing/connection.py\", line 407, in _recv_bytes\n",
      "    buf = self._recv(4)\n",
      "  File \"/Users/wpk/.conda/envs/py37/lib/python3.7/multiprocessing/synchronize.py\", line 96, in __enter__\n",
      "    return self._semlock.__enter__()\n",
      "KeyboardInterrupt\n",
      "  File \"/Users/wpk/.conda/envs/py37/lib/python3.7/multiprocessing/connection.py\", line 379, in _recv\n",
      "    chunk = read(handle, remaining)\n",
      "KeyboardInterrupt\n",
      "KeyboardInterrupt\n",
      "  File \"/Users/wpk/.conda/envs/py37/lib/python3.7/multiprocessing/process.py\", line 297, in _bootstrap\n",
      "    self.run()\n",
      "  File \"/Users/wpk/.conda/envs/py37/lib/python3.7/multiprocessing/process.py\", line 99, in run\n",
      "    self._target(*self._args, **self._kwargs)\n",
      "  File \"/Users/wpk/.conda/envs/py37/lib/python3.7/multiprocessing/pool.py\", line 110, in worker\n",
      "    task = get()\n",
      "  File \"/Users/wpk/.conda/envs/py37/lib/python3.7/multiprocessing/queues.py\", line 351, in get\n",
      "    with self._rlock:\n",
      "  File \"/Users/wpk/.conda/envs/py37/lib/python3.7/multiprocessing/synchronize.py\", line 96, in __enter__\n",
      "    return self._semlock.__enter__()\n",
      "  File \"/Users/wpk/.conda/envs/py37/lib/python3.7/multiprocessing/process.py\", line 297, in _bootstrap\n",
      "    self.run()\n",
      "KeyboardInterrupt\n",
      "Traceback (most recent call last):\n",
      "  File \"/Users/wpk/.conda/envs/py37/lib/python3.7/multiprocessing/process.py\", line 99, in run\n",
      "    self._target(*self._args, **self._kwargs)\n",
      "  File \"/Users/wpk/.conda/envs/py37/lib/python3.7/multiprocessing/pool.py\", line 110, in worker\n",
      "    task = get()\n",
      "  File \"/Users/wpk/.conda/envs/py37/lib/python3.7/multiprocessing/process.py\", line 99, in run\n",
      "    self._target(*self._args, **self._kwargs)\n",
      "  File \"/Users/wpk/.conda/envs/py37/lib/python3.7/multiprocessing/queues.py\", line 351, in get\n",
      "    with self._rlock:\n",
      "  File \"/Users/wpk/.conda/envs/py37/lib/python3.7/multiprocessing/process.py\", line 297, in _bootstrap\n",
      "    self.run()\n",
      "  File \"/Users/wpk/.conda/envs/py37/lib/python3.7/multiprocessing/pool.py\", line 110, in worker\n",
      "    task = get()\n",
      "  File \"/Users/wpk/.conda/envs/py37/lib/python3.7/multiprocessing/synchronize.py\", line 96, in __enter__\n",
      "    return self._semlock.__enter__()\n",
      "  File \"/Users/wpk/.conda/envs/py37/lib/python3.7/multiprocessing/process.py\", line 99, in run\n",
      "    self._target(*self._args, **self._kwargs)\n",
      "  File \"/Users/wpk/.conda/envs/py37/lib/python3.7/multiprocessing/pool.py\", line 110, in worker\n",
      "    task = get()\n",
      "  File \"/Users/wpk/.conda/envs/py37/lib/python3.7/multiprocessing/queues.py\", line 351, in get\n",
      "    with self._rlock:\n",
      "  File \"/Users/wpk/.conda/envs/py37/lib/python3.7/multiprocessing/process.py\", line 99, in run\n",
      "    self._target(*self._args, **self._kwargs)\n",
      "  File \"/Users/wpk/.conda/envs/py37/lib/python3.7/multiprocessing/synchronize.py\", line 96, in __enter__\n",
      "    return self._semlock.__enter__()\n",
      "  File \"/Users/wpk/.conda/envs/py37/lib/python3.7/multiprocessing/pool.py\", line 110, in worker\n",
      "    task = get()\n",
      "  File \"/Users/wpk/.conda/envs/py37/lib/python3.7/multiprocessing/pool.py\", line 110, in worker\n",
      "    task = get()\n",
      "KeyboardInterrupt\n",
      "  File \"/Users/wpk/.conda/envs/py37/lib/python3.7/multiprocessing/queues.py\", line 351, in get\n",
      "    with self._rlock:\n",
      "  File \"/Users/wpk/.conda/envs/py37/lib/python3.7/multiprocessing/queues.py\", line 351, in get\n",
      "    with self._rlock:\n",
      "  File \"/Users/wpk/.conda/envs/py37/lib/python3.7/multiprocessing/synchronize.py\", line 96, in __enter__\n",
      "    return self._semlock.__enter__()\n",
      "  File \"/Users/wpk/.conda/envs/py37/lib/python3.7/multiprocessing/pool.py\", line 110, in worker\n",
      "    task = get()\n",
      "  File \"/Users/wpk/.conda/envs/py37/lib/python3.7/multiprocessing/synchronize.py\", line 96, in __enter__\n",
      "    return self._semlock.__enter__()\n",
      "KeyboardInterrupt\n",
      "  File \"/Users/wpk/.conda/envs/py37/lib/python3.7/multiprocessing/queues.py\", line 351, in get\n",
      "    with self._rlock:\n",
      "KeyboardInterrupt\n",
      "  File \"/Users/wpk/.conda/envs/py37/lib/python3.7/multiprocessing/synchronize.py\", line 96, in __enter__\n",
      "    return self._semlock.__enter__()\n",
      "KeyboardInterrupt\n"
     ]
    }
   ],
   "source": [
    "out = acc.resample_data(s.data, freq, nproc=-1)"
   ]
  },
  {
   "cell_type": "code",
   "execution_count": 476,
   "metadata": {},
   "outputs": [],
   "source": [
    "np.testing.assert_allclose(out, s2.data)"
   ]
  },
  {
   "cell_type": "code",
   "execution_count": 500,
   "metadata": {},
   "outputs": [
    {
     "name": "stdout",
     "output_type": "stream",
     "text": [
      "1.04 s ± 0 ns per loop (mean ± std. dev. of 1 run, 1 loop each)\n"
     ]
    }
   ],
   "source": [
    "%%timeit -n 1 -r 1\n",
    "# g = s.to_array()\n",
    "s2 = g.resample(index)"
   ]
  },
  {
   "cell_type": "code",
   "execution_count": 501,
   "metadata": {},
   "outputs": [
    {
     "name": "stdout",
     "output_type": "stream",
     "text": [
      "447 ms ± 0 ns per loop (mean ± std. dev. of 1 run, 1 loop each)\n"
     ]
    }
   ],
   "source": [
    "%%timeit -n 1 -r 1\n",
    "out = resample_data(s.data, freq)"
   ]
  },
  {
   "cell_type": "code",
   "execution_count": 356,
   "metadata": {},
   "outputs": [
    {
     "name": "stdout",
     "output_type": "stream",
     "text": [
      "985 ms ± 0 ns per loop (mean ± std. dev. of 1 run, 1 loop each)\n"
     ]
    }
   ],
   "source": [
    "%%timeit -n 1 -r 1\n",
    "out = resample_data_thread(s.data, freq, 10)"
   ]
  },
  {
   "cell_type": "code",
   "execution_count": 357,
   "metadata": {},
   "outputs": [
    {
     "name": "stdout",
     "output_type": "stream",
     "text": [
      "704 ms ± 0 ns per loop (mean ± std. dev. of 1 run, 1 loop each)\n"
     ]
    },
    {
     "name": "stderr",
     "output_type": "stream",
     "text": [
      "Process ForkPoolWorker-346:\n",
      "Process ForkPoolWorker-342:\n",
      "Process ForkPoolWorker-350:\n",
      "Process ForkPoolWorker-344:\n",
      "Process ForkPoolWorker-343:\n",
      "Process ForkPoolWorker-341:\n",
      "Process ForkPoolWorker-345:\n",
      "Process ForkPoolWorker-349:\n",
      "Process ForkPoolWorker-348:\n",
      "Process ForkPoolWorker-339:\n",
      "Process ForkPoolWorker-340:\n",
      "Process ForkPoolWorker-347:\n",
      "Traceback (most recent call last):\n",
      "Traceback (most recent call last):\n",
      "Traceback (most recent call last):\n",
      "Traceback (most recent call last):\n",
      "  File \"/Users/wpk/.conda/envs/py37/lib/python3.7/multiprocessing/process.py\", line 297, in _bootstrap\n",
      "    self.run()\n",
      "Traceback (most recent call last):\n",
      "Traceback (most recent call last):\n",
      "Traceback (most recent call last):\n",
      "Traceback (most recent call last):\n",
      "  File \"/Users/wpk/.conda/envs/py37/lib/python3.7/multiprocessing/process.py\", line 297, in _bootstrap\n",
      "    self.run()\n",
      "  File \"/Users/wpk/.conda/envs/py37/lib/python3.7/multiprocessing/process.py\", line 297, in _bootstrap\n",
      "    self.run()\n",
      "Traceback (most recent call last):\n",
      "  File \"/Users/wpk/.conda/envs/py37/lib/python3.7/multiprocessing/process.py\", line 297, in _bootstrap\n",
      "    self.run()\n",
      "  File \"/Users/wpk/.conda/envs/py37/lib/python3.7/multiprocessing/process.py\", line 99, in run\n",
      "    self._target(*self._args, **self._kwargs)\n",
      "  File \"/Users/wpk/.conda/envs/py37/lib/python3.7/multiprocessing/process.py\", line 99, in run\n",
      "    self._target(*self._args, **self._kwargs)\n",
      "  File \"/Users/wpk/.conda/envs/py37/lib/python3.7/multiprocessing/process.py\", line 297, in _bootstrap\n",
      "    self.run()\n",
      "  File \"/Users/wpk/.conda/envs/py37/lib/python3.7/multiprocessing/process.py\", line 297, in _bootstrap\n",
      "    self.run()\n",
      "  File \"/Users/wpk/.conda/envs/py37/lib/python3.7/multiprocessing/process.py\", line 99, in run\n",
      "    self._target(*self._args, **self._kwargs)\n",
      "  File \"/Users/wpk/.conda/envs/py37/lib/python3.7/multiprocessing/pool.py\", line 110, in worker\n",
      "    task = get()\n",
      "  File \"/Users/wpk/.conda/envs/py37/lib/python3.7/multiprocessing/pool.py\", line 110, in worker\n",
      "    task = get()\n",
      "  File \"/Users/wpk/.conda/envs/py37/lib/python3.7/multiprocessing/queues.py\", line 351, in get\n",
      "    with self._rlock:\n",
      "  File \"/Users/wpk/.conda/envs/py37/lib/python3.7/multiprocessing/queues.py\", line 351, in get\n",
      "    with self._rlock:\n",
      "  File \"/Users/wpk/.conda/envs/py37/lib/python3.7/multiprocessing/synchronize.py\", line 96, in __enter__\n",
      "    return self._semlock.__enter__()\n",
      "KeyboardInterrupt\n",
      "  File \"/Users/wpk/.conda/envs/py37/lib/python3.7/multiprocessing/queues.py\", line 351, in get\n",
      "    with self._rlock:\n",
      "  File \"/Users/wpk/.conda/envs/py37/lib/python3.7/multiprocessing/process.py\", line 297, in _bootstrap\n",
      "    self.run()\n",
      "  File \"/Users/wpk/.conda/envs/py37/lib/python3.7/multiprocessing/queues.py\", line 351, in get\n",
      "    with self._rlock:\n",
      "  File \"/Users/wpk/.conda/envs/py37/lib/python3.7/multiprocessing/process.py\", line 297, in _bootstrap\n",
      "    self.run()\n",
      "  File \"/Users/wpk/.conda/envs/py37/lib/python3.7/multiprocessing/process.py\", line 99, in run\n",
      "    self._target(*self._args, **self._kwargs)\n",
      "  File \"/Users/wpk/.conda/envs/py37/lib/python3.7/multiprocessing/process.py\", line 99, in run\n",
      "    self._target(*self._args, **self._kwargs)\n",
      "  File \"/Users/wpk/.conda/envs/py37/lib/python3.7/multiprocessing/process.py\", line 99, in run\n",
      "    self._target(*self._args, **self._kwargs)\n",
      "  File \"/Users/wpk/.conda/envs/py37/lib/python3.7/multiprocessing/pool.py\", line 110, in worker\n",
      "    task = get()\n",
      "  File \"/Users/wpk/.conda/envs/py37/lib/python3.7/multiprocessing/process.py\", line 297, in _bootstrap\n",
      "    self.run()\n",
      "  File \"/Users/wpk/.conda/envs/py37/lib/python3.7/multiprocessing/pool.py\", line 110, in worker\n",
      "    task = get()\n",
      "  File \"/Users/wpk/.conda/envs/py37/lib/python3.7/multiprocessing/queues.py\", line 351, in get\n",
      "    with self._rlock:\n",
      "  File \"/Users/wpk/.conda/envs/py37/lib/python3.7/multiprocessing/pool.py\", line 110, in worker\n",
      "    task = get()\n",
      "  File \"/Users/wpk/.conda/envs/py37/lib/python3.7/multiprocessing/pool.py\", line 110, in worker\n",
      "    task = get()\n",
      "KeyboardInterrupt\n",
      "  File \"/Users/wpk/.conda/envs/py37/lib/python3.7/multiprocessing/pool.py\", line 110, in worker\n",
      "    task = get()\n",
      "  File \"/Users/wpk/.conda/envs/py37/lib/python3.7/multiprocessing/process.py\", line 99, in run\n",
      "    self._target(*self._args, **self._kwargs)\n",
      "  File \"/Users/wpk/.conda/envs/py37/lib/python3.7/multiprocessing/pool.py\", line 110, in worker\n",
      "    task = get()\n",
      "  File \"/Users/wpk/.conda/envs/py37/lib/python3.7/multiprocessing/queues.py\", line 351, in get\n",
      "    with self._rlock:\n",
      "  File \"/Users/wpk/.conda/envs/py37/lib/python3.7/multiprocessing/queues.py\", line 351, in get\n",
      "    with self._rlock:\n",
      "  File \"/Users/wpk/.conda/envs/py37/lib/python3.7/multiprocessing/queues.py\", line 351, in get\n",
      "    with self._rlock:\n",
      "  File \"/Users/wpk/.conda/envs/py37/lib/python3.7/multiprocessing/pool.py\", line 110, in worker\n",
      "    task = get()\n",
      "  File \"/Users/wpk/.conda/envs/py37/lib/python3.7/multiprocessing/queues.py\", line 351, in get\n",
      "    with self._rlock:\n",
      "  File \"/Users/wpk/.conda/envs/py37/lib/python3.7/multiprocessing/synchronize.py\", line 96, in __enter__\n",
      "    return self._semlock.__enter__()\n",
      "  File \"/Users/wpk/.conda/envs/py37/lib/python3.7/multiprocessing/synchronize.py\", line 96, in __enter__\n",
      "    return self._semlock.__enter__()\n",
      "  File \"/Users/wpk/.conda/envs/py37/lib/python3.7/multiprocessing/synchronize.py\", line 96, in __enter__\n",
      "    return self._semlock.__enter__()\n",
      "  File \"/Users/wpk/.conda/envs/py37/lib/python3.7/multiprocessing/synchronize.py\", line 96, in __enter__\n",
      "    return self._semlock.__enter__()\n",
      "KeyboardInterrupt\n",
      "  File \"/Users/wpk/.conda/envs/py37/lib/python3.7/multiprocessing/queues.py\", line 351, in get\n",
      "    with self._rlock:\n",
      "KeyboardInterrupt\n",
      "KeyboardInterrupt\n",
      "  File \"/Users/wpk/.conda/envs/py37/lib/python3.7/multiprocessing/synchronize.py\", line 96, in __enter__\n",
      "    return self._semlock.__enter__()\n",
      "KeyboardInterrupt\n",
      "  File \"/Users/wpk/.conda/envs/py37/lib/python3.7/multiprocessing/synchronize.py\", line 96, in __enter__\n",
      "    return self._semlock.__enter__()\n",
      "KeyboardInterrupt\n",
      "KeyboardInterrupt\n"
     ]
    }
   ],
   "source": [
    "%%timeit -n 1 -r 1\n",
    "out = resample_data_mult(s.data, freq, -1)"
   ]
  },
  {
   "cell_type": "code",
   "execution_count": 228,
   "metadata": {},
   "outputs": [
    {
     "name": "stdout",
     "output_type": "stream",
     "text": [
      "3 (100, 10, 3) (100, 10, 3)\n",
      "3 (100, 10, 3) (100, 10, 3)\n",
      "3 (100, 10, 3) (100, 10, 3)\n",
      "114 ms ± 0 ns per loop (mean ± std. dev. of 1 run, 3 loops each)\n"
     ]
    }
   ],
   "source": [
    "%%timeit -n 3 -r 1\n",
    "resample_data(s.data, freqTT)"
   ]
  },
  {
   "cell_type": "code",
   "execution_count": 341,
   "metadata": {},
   "outputs": [],
   "source": [
    "g = s.to_array()\n",
    "s2 = g.resample(index)\n",
    "\n",
    "out = resample_data(s.data, freq)\n",
    "\n",
    "np.testing.assert_allclose(out, s2.data)"
   ]
  },
  {
   "cell_type": "code",
   "execution_count": 423,
   "metadata": {},
   "outputs": [],
   "source": [
    "import threading\n",
    "\n",
    "\n",
    "def resample_data_thread(data, freq, nthread):\n",
    "    nrep = freq.shape[1]\n",
    "    out = np.zeros((nrep,) + data.shape[1:], dtype=data.dtype)\n",
    "\n",
    "    chunk_size = (nrep + nthread - 1) // nthread\n",
    "\n",
    "    # args_list = [(data,_freq) for _freq in np.split(freq, nthread, axis=1)]\n",
    "    args_list = [\n",
    "        (\n",
    "            data,\n",
    "            freq[:, chunk_size * i : chunk_size * (i + 1)],\n",
    "            out[chunk_size * i : chunk_size * (i + 1), ...],\n",
    "        )\n",
    "        for i in range(nthread)\n",
    "    ]\n",
    "\n",
    "    threads = [threading.Thread(target=resample_data, args=args) for args in args_list]\n",
    "\n",
    "    for thread in threads:\n",
    "        thread.start()\n",
    "\n",
    "    for thread in threads:\n",
    "        thread.join()\n",
    "\n",
    "    return out"
   ]
  },
  {
   "cell_type": "code",
   "execution_count": 188,
   "metadata": {},
   "outputs": [
    {
     "name": "stdout",
     "output_type": "stream",
     "text": [
      "2.19 s ± 0 ns per loop (mean ± std. dev. of 1 run, 1 loop each)\n"
     ]
    }
   ],
   "source": [
    "%%timeit -n 1 -r 1\n",
    "out_thread = resample_data_thread(s.data, freq, nthread=400)"
   ]
  },
  {
   "cell_type": "code",
   "execution_count": 179,
   "metadata": {},
   "outputs": [],
   "source": [
    "import multiprocessing\n",
    "\n",
    "# multiprocessing\n",
    "nthread = 8\n",
    "\n",
    "nr = 1000\n",
    "fr = freq[:, :nr]\n",
    "\n",
    "\n",
    "def resample_data_mult(data, freq, nthread):\n",
    "    if nthread < 0:\n",
    "        nthread = multiprocessing.cpu_count()\n",
    "\n",
    "    nrep = freq.shape[1]\n",
    "    chunk_size = (nrep + nthread - 1) // nthread\n",
    "\n",
    "    # args_list = [(data,_freq) for _freq in np.split(freq, nthread, axis=1)]\n",
    "    args_list = [\n",
    "        (data, freq[:, chunk_size * i : chunk_size * (i + 1)]) for i in range(nthread)\n",
    "    ]\n",
    "\n",
    "    pool = multiprocessing.Pool(processes=nthread)\n",
    "    pools = [pool.apply_async(resample_data, args=args) for args in args_list]\n",
    "\n",
    "    outputs = [p.get() for p in pools]\n",
    "    return np.concatenate(outputs, axis=0)"
   ]
  },
  {
   "cell_type": "code",
   "execution_count": 190,
   "metadata": {},
   "outputs": [
    {
     "name": "stdout",
     "output_type": "stream",
     "text": [
      "1.52 s ± 0 ns per loop (mean ± std. dev. of 1 run, 1 loop each)\n"
     ]
    },
    {
     "name": "stderr",
     "output_type": "stream",
     "text": [
      "Process ForkPoolWorker-249:\n",
      "Process ForkPoolWorker-251:\n",
      "Process ForkPoolWorker-245:\n",
      "Process ForkPoolWorker-243:\n",
      "Process ForkPoolWorker-244:\n",
      "Process ForkPoolWorker-246:\n",
      "Process ForkPoolWorker-247:\n",
      "Process ForkPoolWorker-248:\n",
      "Process ForkPoolWorker-252:\n",
      "Process ForkPoolWorker-250:\n",
      "Process ForkPoolWorker-241:\n",
      "Process ForkPoolWorker-242:\n",
      "Traceback (most recent call last):\n",
      "  File \"/Users/wpk/.conda/envs/py37/lib/python3.7/multiprocessing/process.py\", line 297, in _bootstrap\n",
      "    self.run()\n",
      "Traceback (most recent call last):\n",
      "Traceback (most recent call last):\n",
      "Traceback (most recent call last):\n",
      "Traceback (most recent call last):\n",
      "  File \"/Users/wpk/.conda/envs/py37/lib/python3.7/multiprocessing/process.py\", line 297, in _bootstrap\n",
      "    self.run()\n",
      "Traceback (most recent call last):\n",
      "Traceback (most recent call last):\n",
      "  File \"/Users/wpk/.conda/envs/py37/lib/python3.7/multiprocessing/process.py\", line 297, in _bootstrap\n",
      "    self.run()\n",
      "Traceback (most recent call last):\n",
      "Traceback (most recent call last):\n",
      "  File \"/Users/wpk/.conda/envs/py37/lib/python3.7/multiprocessing/process.py\", line 297, in _bootstrap\n",
      "    self.run()\n",
      "  File \"/Users/wpk/.conda/envs/py37/lib/python3.7/multiprocessing/process.py\", line 297, in _bootstrap\n",
      "    self.run()\n",
      "  File \"/Users/wpk/.conda/envs/py37/lib/python3.7/multiprocessing/process.py\", line 99, in run\n",
      "    self._target(*self._args, **self._kwargs)\n",
      "  File \"/Users/wpk/.conda/envs/py37/lib/python3.7/multiprocessing/process.py\", line 297, in _bootstrap\n",
      "    self.run()\n",
      "  File \"/Users/wpk/.conda/envs/py37/lib/python3.7/multiprocessing/process.py\", line 297, in _bootstrap\n",
      "    self.run()\n",
      "  File \"/Users/wpk/.conda/envs/py37/lib/python3.7/multiprocessing/process.py\", line 99, in run\n",
      "    self._target(*self._args, **self._kwargs)\n",
      "  File \"/Users/wpk/.conda/envs/py37/lib/python3.7/multiprocessing/pool.py\", line 110, in worker\n",
      "    task = get()\n",
      "  File \"/Users/wpk/.conda/envs/py37/lib/python3.7/multiprocessing/process.py\", line 99, in run\n",
      "    self._target(*self._args, **self._kwargs)\n",
      "  File \"/Users/wpk/.conda/envs/py37/lib/python3.7/multiprocessing/process.py\", line 99, in run\n",
      "    self._target(*self._args, **self._kwargs)\n",
      "  File \"/Users/wpk/.conda/envs/py37/lib/python3.7/multiprocessing/process.py\", line 99, in run\n",
      "    self._target(*self._args, **self._kwargs)\n",
      "  File \"/Users/wpk/.conda/envs/py37/lib/python3.7/multiprocessing/pool.py\", line 110, in worker\n",
      "    task = get()\n",
      "  File \"/Users/wpk/.conda/envs/py37/lib/python3.7/multiprocessing/pool.py\", line 110, in worker\n",
      "    task = get()\n",
      "  File \"/Users/wpk/.conda/envs/py37/lib/python3.7/multiprocessing/queues.py\", line 351, in get\n",
      "    with self._rlock:\n",
      "  File \"/Users/wpk/.conda/envs/py37/lib/python3.7/multiprocessing/pool.py\", line 110, in worker\n",
      "    task = get()\n",
      "  File \"/Users/wpk/.conda/envs/py37/lib/python3.7/multiprocessing/pool.py\", line 110, in worker\n",
      "    task = get()\n",
      "  File \"/Users/wpk/.conda/envs/py37/lib/python3.7/multiprocessing/queues.py\", line 351, in get\n",
      "    with self._rlock:\n",
      "  File \"/Users/wpk/.conda/envs/py37/lib/python3.7/multiprocessing/queues.py\", line 351, in get\n",
      "    with self._rlock:\n",
      "  File \"/Users/wpk/.conda/envs/py37/lib/python3.7/multiprocessing/synchronize.py\", line 96, in __enter__\n",
      "    return self._semlock.__enter__()\n",
      "  File \"/Users/wpk/.conda/envs/py37/lib/python3.7/multiprocessing/queues.py\", line 351, in get\n",
      "    with self._rlock:\n",
      "  File \"/Users/wpk/.conda/envs/py37/lib/python3.7/multiprocessing/queues.py\", line 351, in get\n",
      "    with self._rlock:\n",
      "  File \"/Users/wpk/.conda/envs/py37/lib/python3.7/multiprocessing/synchronize.py\", line 96, in __enter__\n",
      "    return self._semlock.__enter__()\n",
      "  File \"/Users/wpk/.conda/envs/py37/lib/python3.7/multiprocessing/synchronize.py\", line 96, in __enter__\n",
      "    return self._semlock.__enter__()\n",
      "KeyboardInterrupt\n",
      "  File \"/Users/wpk/.conda/envs/py37/lib/python3.7/multiprocessing/synchronize.py\", line 96, in __enter__\n",
      "    return self._semlock.__enter__()\n",
      "  File \"/Users/wpk/.conda/envs/py37/lib/python3.7/multiprocessing/synchronize.py\", line 96, in __enter__\n",
      "    return self._semlock.__enter__()\n",
      "KeyboardInterrupt\n",
      "KeyboardInterrupt\n",
      "KeyboardInterrupt\n",
      "KeyboardInterrupt\n",
      "  File \"/Users/wpk/.conda/envs/py37/lib/python3.7/multiprocessing/process.py\", line 297, in _bootstrap\n",
      "    self.run()\n",
      "  File \"/Users/wpk/.conda/envs/py37/lib/python3.7/multiprocessing/process.py\", line 99, in run\n",
      "    self._target(*self._args, **self._kwargs)\n",
      "  File \"/Users/wpk/.conda/envs/py37/lib/python3.7/multiprocessing/pool.py\", line 110, in worker\n",
      "    task = get()\n",
      "Traceback (most recent call last):\n",
      "  File \"/Users/wpk/.conda/envs/py37/lib/python3.7/multiprocessing/queues.py\", line 351, in get\n",
      "    with self._rlock:\n",
      "KeyboardInterrupt\n",
      "  File \"/Users/wpk/.conda/envs/py37/lib/python3.7/multiprocessing/process.py\", line 297, in _bootstrap\n",
      "    self.run()\n",
      "  File \"/Users/wpk/.conda/envs/py37/lib/python3.7/multiprocessing/queues.py\", line 352, in get\n",
      "    res = self._reader.recv_bytes()\n",
      "KeyboardInterrupt\n",
      "  File \"/Users/wpk/.conda/envs/py37/lib/python3.7/multiprocessing/synchronize.py\", line 96, in __enter__\n",
      "    return self._semlock.__enter__()\n",
      "  File \"/Users/wpk/.conda/envs/py37/lib/python3.7/multiprocessing/process.py\", line 99, in run\n",
      "    self._target(*self._args, **self._kwargs)\n",
      "KeyboardInterrupt\n",
      "  File \"/Users/wpk/.conda/envs/py37/lib/python3.7/multiprocessing/pool.py\", line 110, in worker\n",
      "    task = get()\n",
      "  File \"/Users/wpk/.conda/envs/py37/lib/python3.7/multiprocessing/queues.py\", line 351, in get\n",
      "    with self._rlock:\n",
      "  File \"/Users/wpk/.conda/envs/py37/lib/python3.7/multiprocessing/pool.py\", line 110, in worker\n",
      "    task = get()\n",
      "  File \"/Users/wpk/.conda/envs/py37/lib/python3.7/multiprocessing/synchronize.py\", line 96, in __enter__\n",
      "    return self._semlock.__enter__()\n",
      "  File \"/Users/wpk/.conda/envs/py37/lib/python3.7/multiprocessing/pool.py\", line 110, in worker\n",
      "    task = get()\n",
      "  File \"/Users/wpk/.conda/envs/py37/lib/python3.7/multiprocessing/queues.py\", line 351, in get\n",
      "    with self._rlock:\n",
      "  File \"/Users/wpk/.conda/envs/py37/lib/python3.7/multiprocessing/process.py\", line 99, in run\n",
      "    self._target(*self._args, **self._kwargs)\n",
      "  File \"/Users/wpk/.conda/envs/py37/lib/python3.7/multiprocessing/process.py\", line 99, in run\n",
      "    self._target(*self._args, **self._kwargs)\n",
      "  File \"/Users/wpk/.conda/envs/py37/lib/python3.7/multiprocessing/synchronize.py\", line 96, in __enter__\n",
      "    return self._semlock.__enter__()\n",
      "  File \"/Users/wpk/.conda/envs/py37/lib/python3.7/multiprocessing/pool.py\", line 110, in worker\n",
      "    task = get()\n",
      "KeyboardInterrupt\n",
      "  File \"/Users/wpk/.conda/envs/py37/lib/python3.7/multiprocessing/connection.py\", line 216, in recv_bytes\n",
      "    buf = self._recv_bytes(maxlength)\n",
      "  File \"/Users/wpk/.conda/envs/py37/lib/python3.7/multiprocessing/connection.py\", line 407, in _recv_bytes\n",
      "    buf = self._recv(4)\n",
      "  File \"/Users/wpk/.conda/envs/py37/lib/python3.7/multiprocessing/connection.py\", line 379, in _recv\n",
      "    chunk = read(handle, remaining)\n"
     ]
    }
   ],
   "source": [
    "%%timeit -n 1 -r 1\n",
    "out_mult = resample_data_mult(s.data, freq, nthread=-1)"
   ]
  },
  {
   "cell_type": "code",
   "execution_count": 107,
   "metadata": {},
   "outputs": [],
   "source": [
    "out = np.zeros((nr,) + s.data.shape[1:], dtype=s.data.dtype)"
   ]
  },
  {
   "cell_type": "code",
   "execution_count": 108,
   "metadata": {},
   "outputs": [],
   "source": [
    "nthread = 2"
   ]
  },
  {
   "cell_type": "code",
   "execution_count": 109,
   "metadata": {},
   "outputs": [],
   "source": [
    "chunk_size = (nr + nthread - 1) // nthread"
   ]
  },
  {
   "cell_type": "code",
   "execution_count": 110,
   "metadata": {},
   "outputs": [],
   "source": [
    "args_list = [\n",
    "    (\n",
    "        s.data,\n",
    "        fr[:, chunk_size * i : chunk_size * (i + 1)],\n",
    "        out[chunk_size * i : chunk_size * (i + 1), ...],\n",
    "    )\n",
    "    for i in range(nthread)\n",
    "]"
   ]
  },
  {
   "cell_type": "code",
   "execution_count": 111,
   "metadata": {},
   "outputs": [
    {
     "data": {
      "text/plain": [
       "(525, 10, 3)"
      ]
     },
     "execution_count": 111,
     "metadata": {},
     "output_type": "execute_result"
    }
   ],
   "source": [
    "args_list[1][2].shape"
   ]
  },
  {
   "cell_type": "raw",
   "metadata": {},
   "source": [
    "for i in range(nthread):\n",
    "    _ = resample_data(*args_list[i])"
   ]
  },
  {
   "cell_type": "code",
   "execution_count": 112,
   "metadata": {},
   "outputs": [],
   "source": [
    "threads = [threading.Thread(target=resample_data, args=args) for args in args_list]"
   ]
  },
  {
   "cell_type": "code",
   "execution_count": 113,
   "metadata": {},
   "outputs": [],
   "source": [
    "for thread in threads:\n",
    "    thread.start()\n",
    "\n",
    "for thread in threads:\n",
    "    thread.join()"
   ]
  },
  {
   "cell_type": "code",
   "execution_count": 115,
   "metadata": {},
   "outputs": [
    {
     "data": {
      "text/plain": [
       "array([[[0., 0., 0.],\n",
       "        [0., 0., 0.],\n",
       "        [0., 0., 0.],\n",
       "        ...,\n",
       "        [0., 0., 0.],\n",
       "        [0., 0., 0.],\n",
       "        [0., 0., 0.]],\n",
       "\n",
       "       [[0., 0., 0.],\n",
       "        [0., 0., 0.],\n",
       "        [0., 0., 0.],\n",
       "        ...,\n",
       "        [0., 0., 0.],\n",
       "        [0., 0., 0.],\n",
       "        [0., 0., 0.]],\n",
       "\n",
       "       [[0., 0., 0.],\n",
       "        [0., 0., 0.],\n",
       "        [0., 0., 0.],\n",
       "        ...,\n",
       "        [0., 0., 0.],\n",
       "        [0., 0., 0.],\n",
       "        [0., 0., 0.]],\n",
       "\n",
       "       ...,\n",
       "\n",
       "       [[0., 0., 0.],\n",
       "        [0., 0., 0.],\n",
       "        [0., 0., 0.],\n",
       "        ...,\n",
       "        [0., 0., 0.],\n",
       "        [0., 0., 0.],\n",
       "        [0., 0., 0.]],\n",
       "\n",
       "       [[0., 0., 0.],\n",
       "        [0., 0., 0.],\n",
       "        [0., 0., 0.],\n",
       "        ...,\n",
       "        [0., 0., 0.],\n",
       "        [0., 0., 0.],\n",
       "        [0., 0., 0.]],\n",
       "\n",
       "       [[0., 0., 0.],\n",
       "        [0., 0., 0.],\n",
       "        [0., 0., 0.],\n",
       "        ...,\n",
       "        [0., 0., 0.],\n",
       "        [0., 0., 0.],\n",
       "        [0., 0., 0.]]])"
      ]
     },
     "execution_count": 115,
     "metadata": {},
     "output_type": "execute_result"
    }
   ],
   "source": [
    "out - resample_data(data, fr)"
   ]
  },
  {
   "cell_type": "code",
   "execution_count": 21,
   "metadata": {},
   "outputs": [],
   "source": [
    "def resample_data(data, freq, out=None):\n",
    "    \"\"\"\n",
    "    reduce data along axis=0 from freq table\n",
    "    \"\"\"\n",
    "    data_shape = data.shape\n",
    "    assert data_shape[-1] == 3\n",
    "\n",
    "    ndim = data.ndim\n",
    "    assert ndim > 1\n",
    "\n",
    "    assert data_shape[0] == freq.shape[0]\n",
    "    nrep = freq.shape[-1]\n",
    "\n",
    "    out_shape = (nrep,) + data_shape[1:]\n",
    "\n",
    "    if out is not None:\n",
    "        assert out.shape == out_shape\n",
    "    else:\n",
    "        out = np.zeros(out_shape)\n",
    "\n",
    "    if ndim == 2:\n",
    "        datar_shape = (data_shape[0], 1, data_shape[-1])\n",
    "    else:\n",
    "        datar_shape = (\n",
    "            data_shape[0],\n",
    "            np.prod(data_shape[1:-1], dtype=np.int),\n",
    "            data_shape[-1],\n",
    "        )\n",
    "\n",
    "    outr_shape = (nrep,) + datar_shape[1:]\n",
    "\n",
    "    # print(ndim, data.shape, datar_shape)\n",
    "\n",
    "    datar = data.reshape(datar_shape)\n",
    "    outr = out.reshape(outr_shape)\n",
    "\n",
    "    _resample(datar, freq, outr)\n",
    "\n",
    "    return out\n",
    "\n",
    "\n",
    "@njit\n",
    "def _resample(data, freq, out):\n",
    "    ndata = data.shape[0]\n",
    "    nmeta = data.shape[1]\n",
    "\n",
    "    ndat = freq.shape[0]\n",
    "    nrep = freq.shape[1]\n",
    "    assert ndat == ndata\n",
    "\n",
    "    for idat in range(ndat):\n",
    "        for imeta in range(nmeta):\n",
    "            w = data[idat, imeta, 0]\n",
    "            a = data[idat, imeta, 1]\n",
    "            v = data[idat, imeta, 2]\n",
    "            for irep in range(nrep):\n",
    "                f = freq[idat, irep]\n",
    "                if f > 0:\n",
    "                    acc._push_stat(out[irep, imeta], f * w, a, v)"
   ]
  },
  {
   "cell_type": "code",
   "execution_count": null,
   "metadata": {},
   "outputs": [],
   "source": []
  }
 ],
 "metadata": {
  "kernelspec": {
   "display_name": "Python [conda env:py37]",
   "language": "python",
   "name": "conda-env-py37-py"
  },
  "language_info": {
   "codemirror_mode": {
    "name": "ipython",
    "version": 3
   },
   "file_extension": ".py",
   "mimetype": "text/x-python",
   "name": "python",
   "nbconvert_exporter": "python",
   "pygments_lexer": "ipython3",
   "version": "3.7.0"
  },
  "toc": {
   "base_numbering": 1,
   "nav_menu": {},
   "number_sections": true,
   "sideBar": true,
   "skip_h1_title": false,
   "title_cell": "Table of Contents",
   "title_sidebar": "Contents",
   "toc_cell": false,
   "toc_position": {},
   "toc_section_display": true,
   "toc_window_display": false
  }
 },
 "nbformat": 4,
 "nbformat_minor": 2
}
