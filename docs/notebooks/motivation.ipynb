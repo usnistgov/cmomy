{
 "cells": [
  {
   "cell_type": "markdown",
   "id": "4e729b26",
   "metadata": {},
   "source": [
    "# Why `cmomy`?\n",
    "\n",
    "$$\\newcommand{\\ave}[1]{\\langle{#1}\\rangle}$$\n",
    "\n",
    "We wish to calculate moments of the form $\\ave{x}$ and $\\ave{(\\delta x)^k}$, $\\delta x = (x - \\ave{x})$, where, in general we define averages\n",
    "of the form.\n",
    "$$\n",
    "   \\ave{x} = \\frac{\\sum_i w_i x_i}{\\sum_i w_i}\n",
    "$$\n",
    "$$\n",
    "  \\ave{(\\delta x)^k} = \\frac{\\sum_i w_i (x_i - \\ave{x})^k}{\\sum_i w_i}\n",
    "$$\n",
    "where $w_i$ are weights associated with each sample $x_i$.  In the simple case, $w_i = 1$.  To calculate a central moment with $k > 1$, we have some choices.  \n",
    "\n",
    "1. First calculate $\\ave{x}$, then use the above formula.\n",
    "* Downside: requires two passes through the data.  \n",
    "* Upside: numerically stable.\n",
    "    \n",
    "2. Expand out the central moment to raw moments.  For example $\\ave{(x - \\ave{x})^2} = \\ave{x^n} - \\ave{x}^2$.  These raw moments can be calculated directly in one pass.  \n",
    "* Downside: numerically unstable ([see here for some info](https://en.wikipedia.org/wiki/Algorithms_for_calculating_variance)). \n",
    "* Upside: single pass for each of $\\ave{x^k}$.\n",
    "\n",
    "\n",
    "## An example\n",
    "\n",
    "    \n",
    "\n",
    "In what follows, we'll arrange data in the from `output[moment]` where `output[0] = {total weight}`, `output[1] = {average value}`, `output[k > 1] = {kth order central moment}`.  We can generate the central moments using the following functions"
   ]
  },
  {
   "cell_type": "code",
   "execution_count": 1,
   "id": "f3d00a97",
   "metadata": {},
   "outputs": [],
   "source": [
    "def cmom_1(x, axis=0, mom=3):\n",
    "    \"\"\"\n",
    "    create central moments using stable method\n",
    "    \"\"\"\n",
    "    # output shape\n",
    "    shape = x.shape[:axis] + x.shape[axis+1:] + (mom+1,)\n",
    "    output = np.zeros(shape, dtype=x.dtype)\n",
    "\n",
    "    output[..., 0] = x.shape[axis]\n",
    "    output[..., 1] = x.mean(axis=axis)\n",
    "    \n",
    "    # moments [2 -> mom]\n",
    "    output[..., 2:] = ((x - x.mean(axis=axis, keepdims=True))[..., None] ** np.arange(2, mom+1)).mean(axis=axis)\n",
    "    return output\n",
    "\n",
    "\n",
    "def cmom_2(x, axis=0, mom=3):\n",
    "    \n",
    "    if mom > 3:\n",
    "        raise ValueError\n",
    "        \n",
    "    shape = x.shape[:axis] + x.shape[axis+1:] + (mom+1,)\n",
    "    \n",
    "    output = np.zeros(shape, dtype=x.dtype)\n",
    "    \n",
    "    output[..., 0] = x.shape[axis]\n",
    "\n",
    "    # higher order raw moments\n",
    "    raws = (x[..., None]**np.arange(0, mom+1)).mean(axis=axis)\n",
    "    \n",
    "    output[..., 1] = raws[..., 1]\n",
    "    if mom > 1:\n",
    "        # <(x - <x>)**2> = <x**2> - <x>**2\n",
    "        output[..., 2] = raws[..., 2] - raws[..., 1] ** 2\n",
    "        \n",
    "    if mom > 2:\n",
    "        # <(x - <x>)**3> = <x**3> - 3<x**2><x> + 2<x>**3\n",
    "        output[..., 3] = raws[..., 3] - 3 * raws[..., 2] * raws[..., 1] + 2 * raws[..., 1]**3\n",
    "    \n",
    "    return output\n"
   ]
  },
  {
   "cell_type": "code",
   "execution_count": 2,
   "id": "17391a43",
   "metadata": {
    "execution": {
     "iopub.execute_input": "2022-08-31T16:56:52.391863Z",
     "iopub.status.busy": "2022-08-31T16:56:52.391441Z",
     "iopub.status.idle": "2022-08-31T16:56:53.631057Z",
     "shell.execute_reply": "2022-08-31T16:56:53.630442Z"
    }
   },
   "outputs": [],
   "source": [
    "import numpy as np\n",
    "np.random.seed(0)\n",
    "n = 1000\n",
    "x = np.random.rand(n)\n",
    "\n",
    "m1 = cmom_1(x)\n",
    "m2 = cmom_2(x)\n",
    "# same values\n",
    "np.testing.assert_allclose(m1, m2)"
   ]
  },
  {
   "cell_type": "markdown",
   "id": "924d488a",
   "metadata": {},
   "source": [
    "OK, great.  But what if we have unscaled data?  For example, setting $y = a x + b$ gives $\\ave{y} = a \\ave{x} + b$, but for central moments, $\\ave{(y - \\ave{y})^n} = \\ave{(a x - b - \\ave{a x - b})^n} = a^n \\ave{(\\delta x)^n}$"
   ]
  },
  {
   "cell_type": "code",
   "execution_count": 3,
   "id": "b2aad683",
   "metadata": {},
   "outputs": [
    {
     "name": "stdout",
     "output_type": "stream",
     "text": [
      "abs error using central moments: [0.00000000e+00 0.00000000e+00 3.98444298e-16 1.46035150e-15]\n",
      "rel error using central moments: [0.00000000e+00 0.00000000e+00 4.71823816e-13 9.33279122e-10]\n",
      "\n",
      "abs error using raw moments    : [ 0.00000000e+00  1.81898940e-12  4.64434976e-08 -2.68711163e-03]\n",
      "rel error using raw moments    : [ 0.00000000e+00  1.81898038e-16  5.49967672e-05 -1.71727503e+03]\n"
     ]
    }
   ],
   "source": [
    "# large value, small fluctuation\n",
    "a = 0.1\n",
    "b = 1e4\n",
    "y = a * x + b\n",
    "\n",
    "# expected value after shift\n",
    "expected = m1.copy()\n",
    "expected[..., 1] = a * expected[..., 1] + b\n",
    "expected[..., 2:] = expected[..., 2:] * (a ** np.arange(2, 4))\n",
    "\n",
    "\n",
    "m1_shift = cmom_1(y)\n",
    "m2_shift = cmom_2(y)\n",
    "\n",
    "m1_error = m1_shift - expected\n",
    "m2_error = m2_shift - expected\n",
    "\n",
    "print('abs error using central moments:', m1_error)\n",
    "print('rel error using central moments:', m1_error / expected)\n",
    "print()\n",
    "print('abs error using raw moments    :', m2_error)\n",
    "print('rel error using raw moments    :', m2_error / expected)\n"
   ]
  },
  {
   "cell_type": "markdown",
   "id": "f1bddbb6",
   "metadata": {},
   "source": [
    "## So what?\n",
    "\n",
    "OK, so central moments have some advantages.  But the two pass thing makes life difficult.  For example, what if we are running a slow experiment or simulation?  We could collect all the samples for `x`, then do the two pass algorithm at the end.  But it would be nice to calculate averages on the fly.  This is why we often turn to raw moments.  There easy to accumulate as data comes in, while central moments, at least as formulated above, are not.  \n",
    "\n",
    "Thankfully, smart people have figured out how to calculate central moments in a one-pass way.  Moreover, these methods allow central moments to be combined.  This makes resampling from central moments possible.  We don't go into detail on these formulas, but point the interested reader to the this [article](https://en.wikipedia.org/wiki/Algorithms_for_calculating_variance), and citations within.\n",
    "\n",
    "The `cmomy` package has a variety of routines to work with central moments.  This include\n",
    "\n",
    "* Create central moments accumulator object in a variety of ways\n",
    "* add data to object\n",
    "* resample data\n",
    "* extract central and raw moments\n"
   ]
  },
  {
   "cell_type": "code",
   "execution_count": 4,
   "id": "0a64afad",
   "metadata": {},
   "outputs": [
    {
     "name": "stdout",
     "output_type": "stream",
     "text": [
      "<CentralMoments(val_shape=(), mom=(3,))>\n",
      "array([1.00000000e+03, 4.95921534e-01, 8.44476867e-02, 1.56475321e-03])\n",
      "[1.00000000e+03 4.95921534e-01 8.44476867e-02 1.56475321e-03]\n"
     ]
    }
   ],
   "source": [
    "import cmomy\n",
    "\n",
    "cx = cmomy.CentralMoments.from_vals(x, axis=0, mom=3)\n",
    "cy = cmomy.CentralMoments.from_vals(y, axis=0, mom=3)\n",
    "\n",
    "\n",
    "print(cx)\n",
    "\n",
    "# access underlying data\n",
    "print(cx.values)"
   ]
  },
  {
   "cell_type": "markdown",
   "id": "a8b92e55",
   "metadata": {},
   "source": [
    "Basically, the `cmomy.CentralMoments` object is just a collection of routines around `data`, which is an array of central moments (with the convention that `data[..., 0]` is the total `weight`, `data[..., 1]` is the average, and `data[..., k > 1]` is the `kth` central moment).  It gives the same results as calculating central moments directly:"
   ]
  },
  {
   "cell_type": "code",
   "execution_count": 5,
   "id": "c68b5deb",
   "metadata": {},
   "outputs": [],
   "source": [
    "np.testing.assert_allclose(cx.values, m1)\n",
    "np.testing.assert_allclose(cy.values, m1_shift)"
   ]
  },
  {
   "cell_type": "markdown",
   "id": "be0e3c70",
   "metadata": {},
   "source": [
    "Nice!  But what can that's not all that special.  The real power comes in for multidimensional data.\n",
    "Suppose that we have separate samples of the data $\\{x_a, x_b, ... \\}$, and want to get there central moments.  We can do the following."
   ]
  },
  {
   "cell_type": "code",
   "execution_count": 6,
   "id": "d9db01aa",
   "metadata": {},
   "outputs": [
    {
     "data": {
      "text/plain": [
       "array([[ 1.00000000e+02,  4.74853227e-01,  8.47244951e-02,\n",
       "         2.76974293e-03,  1.34068030e-02],\n",
       "       [ 1.00000000e+02,  4.80722749e-01,  8.78818646e-02,\n",
       "         8.19341633e-04,  1.39987970e-02],\n",
       "       [ 1.00000000e+02,  4.90766371e-01,  9.23693311e-02,\n",
       "         5.53132226e-03,  1.52942205e-02],\n",
       "       [ 1.00000000e+02,  5.43783131e-01,  1.02492232e-01,\n",
       "        -5.35859195e-03,  1.63960397e-02],\n",
       "       [ 1.00000000e+02,  5.66765762e-01,  8.06207435e-02,\n",
       "        -8.46362454e-03,  1.33037607e-02]])"
      ]
     },
     "execution_count": 6,
     "metadata": {},
     "output_type": "execute_result"
    }
   ],
   "source": [
    "x = np.random.rand(100, 5)\n",
    "m1 = cmom_1(x, axis=0, mom=4)\n",
    "m1"
   ]
  },
  {
   "cell_type": "markdown",
   "id": "c9bd6f9f",
   "metadata": {},
   "source": [
    "Wrapping the data in a central moments object gives"
   ]
  },
  {
   "cell_type": "code",
   "execution_count": 7,
   "id": "8caf651b",
   "metadata": {},
   "outputs": [
    {
     "name": "stdout",
     "output_type": "stream",
     "text": [
      "[ 5.00000000e+02  5.11378248e-01  9.09810411e-02 -8.60371890e-04\n",
      "  1.44841954e-02]\n",
      "[ 5.00000000e+02  5.11378248e-01  9.09810411e-02 -8.60371890e-04\n",
      "  1.44841954e-02]\n"
     ]
    }
   ],
   "source": [
    "c = cmomy.CentralMoments.from_data(m1, mom_ndim=1)\n",
    "\n",
    "# reduce the data along a dimension to get\n",
    "\n",
    "print(c.reduce(axis=0).values)\n",
    "\n",
    "# verify that this is the same as just accumulating all the data\n",
    "print(cmom_1(x.reshape(-1), mom=4))"
   ]
  },
  {
   "cell_type": "markdown",
   "id": "d1d2da11",
   "metadata": {},
   "source": [
    "Excellent! We can use `cmomy.CentralMoments` to accumulate data on the go"
   ]
  },
  {
   "cell_type": "code",
   "execution_count": 8,
   "id": "e4857256",
   "metadata": {},
   "outputs": [
    {
     "name": "stdout",
     "output_type": "stream",
     "text": [
      "[ 5.00000000e+02  5.11378248e-01  9.09810411e-02 -8.60371890e-04\n",
      "  1.44841954e-02]\n",
      "[ 5.00000000e+02  5.11378248e-01  9.09810411e-02 -8.60371890e-04\n",
      "  1.44841954e-02]\n"
     ]
    }
   ],
   "source": [
    "c = cmomy.CentralMoments.zeros(mom=4)\n",
    "for i in range(5):\n",
    "    # note: pushing multiple values\n",
    "    c.push_vals(x[:, i])\n",
    "print(c.values)\n",
    "\n",
    "# or, you can push all the values one at a time!\n",
    "c.zero()\n",
    "for xx in x.reshape(-1):\n",
    "    # note: pushing single value\n",
    "    c.push_val(xx)\n",
    "    \n",
    "print(c.values)\n"
   ]
  },
  {
   "cell_type": "markdown",
   "id": "81c5d81b",
   "metadata": {},
   "source": [
    "The values can even be differently weighted."
   ]
  },
  {
   "cell_type": "code",
   "execution_count": 9,
   "id": "39a9d1c8",
   "metadata": {},
   "outputs": [
    {
     "name": "stdout",
     "output_type": "stream",
     "text": [
      "[ 5.00000000e+02  5.11378248e-01  9.09810411e-02 -8.60371890e-04\n",
      "  1.44841954e-02]\n",
      "[<CentralMoments(val_shape=(), mom=(4,))>\n",
      "array([5.00000000e+01, 4.83222666e-01, 8.91597412e-02, 1.70393418e-03,\n",
      "       1.49340794e-02]), <CentralMoments(val_shape=(), mom=(4,))>\n",
      "array([1.00000000e+02, 4.89588725e-01, 9.60199692e-02, 1.91605463e-03,\n",
      "       1.59749766e-02]), <CentralMoments(val_shape=(), mom=(4,))>\n",
      "array([ 1.50000000e+02,  5.22174233e-01,  9.16583598e-02, -1.91189645e-03,\n",
      "        1.45006794e-02]), <CentralMoments(val_shape=(), mom=(4,))>\n",
      "array([ 2.00000000e+02,  5.21214916e-01,  8.77891621e-02, -1.88818756e-03,\n",
      "        1.35395457e-02])]\n",
      "[ 5.00000000e+02  5.11378248e-01  9.09810411e-02 -8.60371890e-04\n",
      "  1.44841954e-02]\n",
      "[ 5.00000000e+02  5.11378248e-01  9.09810411e-02 -8.60371890e-04\n",
      "  1.44841954e-02]\n"
     ]
    }
   ],
   "source": [
    "xs = np.split(x.reshape(-1), [50, 150, 300])\n",
    "\n",
    "c.zero()\n",
    "for v in xs:\n",
    "    c.push_vals(v)\n",
    "    \n",
    "print(c.values)\n",
    "\n",
    "#Alternatively, you can add objects together\n",
    "cs = [cmomy.CentralMoments.from_vals(v, mom=4) for v in xs]\n",
    "print(cs)\n",
    "\n",
    "c_tot = cs[0] + cs[1] + cs[2] + cs[3]\n",
    "print(c_tot.values)\n",
    "\n",
    "# or more simply\n",
    "print(sum(cs, start=cs[0].zeros_like()).values)"
   ]
  },
  {
   "cell_type": "markdown",
   "id": "86964e2f",
   "metadata": {},
   "source": [
    "Very cool!"
   ]
  },
  {
   "cell_type": "markdown",
   "id": "b9eddbb0",
   "metadata": {},
   "source": [
    "## weighted averages\n",
    "\n",
    "cmomy is setup to work with arbitrary weights.  We saw this work above when we considered unequal sample sizes.  For example,"
   ]
  },
  {
   "cell_type": "code",
   "execution_count": 10,
   "id": "b2ed66e7",
   "metadata": {},
   "outputs": [],
   "source": [
    "def get_cmom_with_weights(x, w, axis=0, mom=3):\n",
    "    \"\"\"create central moments using stable method\"\"\"\n",
    "    # output shape\n",
    "    shape = x.shape[:axis] + x.shape[axis+1:] + (mom+1,)\n",
    "    output = np.zeros(shape, dtype=x.dtype)\n",
    "\n",
    "    w_sum = w.sum(axis=axis)\n",
    "    w_norm = 1. / w_sum\n",
    "    \n",
    "    output[..., 0] = w_sum\n",
    "    output[..., 1] = ((w*x).sum(axis=axis)) * w_norm\n",
    "    \n",
    "    \n",
    "    # moments [2 -> mom]\n",
    "    output[..., 2:] = (\n",
    "        w[..., None] * (x - (w * x).sum(axis=axis, keepdims=True) * w_norm)[..., None] ** np.arange(2, mom+1)\n",
    "    ).sum(axis=axis) * w_norm\n",
    "\n",
    "    return output"
   ]
  },
  {
   "cell_type": "code",
   "execution_count": 11,
   "id": "48a3fab7",
   "metadata": {},
   "outputs": [],
   "source": [
    "x = np.random.rand(100)\n",
    "w = np.random.rand(100)"
   ]
  },
  {
   "cell_type": "code",
   "execution_count": 12,
   "id": "a1576db7",
   "metadata": {},
   "outputs": [
    {
     "data": {
      "text/plain": [
       "array([ 5.13374609e+01,  5.44154373e-01,  8.92382985e-02, -6.97037369e-03])"
      ]
     },
     "execution_count": 12,
     "metadata": {},
     "output_type": "execute_result"
    }
   ],
   "source": [
    "moments = get_cmom_with_weights(x, w)\n",
    "moments"
   ]
  },
  {
   "cell_type": "code",
   "execution_count": 13,
   "id": "354fc7f7",
   "metadata": {},
   "outputs": [
    {
     "data": {
      "text/plain": [
       "<CentralMoments(val_shape=(), mom=(3,))>\n",
       "array([ 5.13374609e+01,  5.44154373e-01,  8.92382985e-02, -6.97037369e-03])"
      ]
     },
     "execution_count": 13,
     "metadata": {},
     "output_type": "execute_result"
    }
   ],
   "source": [
    "cmomy.CentralMoments.from_vals(x, w=w, mom=3)"
   ]
  },
  {
   "cell_type": "markdown",
   "id": "10b913f0",
   "metadata": {},
   "source": [
    "## comoments\n",
    "\n",
    "cmomy can alos handle comoments (covariance, etc), like the $\\ave{(\\delta x)^i (\\delta y)^j}$    \n",
    "For example"
   ]
  },
  {
   "cell_type": "code",
   "execution_count": 14,
   "id": "88bf86b5",
   "metadata": {},
   "outputs": [
    {
     "data": {
      "text/plain": [
       "<CentralMoments(val_shape=(), mom=(2, 2))>\n",
       "array([[ 5.13374609e+01,  4.71249550e-01,  9.15677703e-02],\n",
       "       [ 5.44154373e-01,  1.80645670e-02, -2.01103696e-03],\n",
       "       [ 8.92382985e-02, -3.58022115e-03,  7.03049577e-03]])"
      ]
     },
     "execution_count": 14,
     "metadata": {},
     "output_type": "execute_result"
    }
   ],
   "source": [
    "y = np.random.rand(100)\n",
    "\n",
    "cmomy.CentralMoments.from_vals(x=(x, y), w=w, mom=(2,2))"
   ]
  },
  {
   "cell_type": "markdown",
   "id": "bef2cea4",
   "metadata": {},
   "source": [
    "All the special sauce works for central moments or comoments.  "
   ]
  },
  {
   "cell_type": "markdown",
   "id": "eadaedc2",
   "metadata": {},
   "source": [
    "## xarray DataArray support\n",
    "\n",
    "cmomy also works with DataArray objects.  For example"
   ]
  },
  {
   "cell_type": "code",
   "execution_count": 15,
   "id": "cc5e273d",
   "metadata": {},
   "outputs": [
    {
     "data": {
      "text/html": [
       "<div><svg style=\"position: absolute; width: 0; height: 0; overflow: hidden\">\n",
       "<defs>\n",
       "<symbol id=\"icon-database\" viewBox=\"0 0 32 32\">\n",
       "<path d=\"M16 0c-8.837 0-16 2.239-16 5v4c0 2.761 7.163 5 16 5s16-2.239 16-5v-4c0-2.761-7.163-5-16-5z\"></path>\n",
       "<path d=\"M16 17c-8.837 0-16-2.239-16-5v6c0 2.761 7.163 5 16 5s16-2.239 16-5v-6c0 2.761-7.163 5-16 5z\"></path>\n",
       "<path d=\"M16 26c-8.837 0-16-2.239-16-5v6c0 2.761 7.163 5 16 5s16-2.239 16-5v-6c0 2.761-7.163 5-16 5z\"></path>\n",
       "</symbol>\n",
       "<symbol id=\"icon-file-text2\" viewBox=\"0 0 32 32\">\n",
       "<path d=\"M28.681 7.159c-0.694-0.947-1.662-2.053-2.724-3.116s-2.169-2.030-3.116-2.724c-1.612-1.182-2.393-1.319-2.841-1.319h-15.5c-1.378 0-2.5 1.121-2.5 2.5v27c0 1.378 1.122 2.5 2.5 2.5h23c1.378 0 2.5-1.122 2.5-2.5v-19.5c0-0.448-0.137-1.23-1.319-2.841zM24.543 5.457c0.959 0.959 1.712 1.825 2.268 2.543h-4.811v-4.811c0.718 0.556 1.584 1.309 2.543 2.268zM28 29.5c0 0.271-0.229 0.5-0.5 0.5h-23c-0.271 0-0.5-0.229-0.5-0.5v-27c0-0.271 0.229-0.5 0.5-0.5 0 0 15.499-0 15.5 0v7c0 0.552 0.448 1 1 1h7v19.5z\"></path>\n",
       "<path d=\"M23 26h-14c-0.552 0-1-0.448-1-1s0.448-1 1-1h14c0.552 0 1 0.448 1 1s-0.448 1-1 1z\"></path>\n",
       "<path d=\"M23 22h-14c-0.552 0-1-0.448-1-1s0.448-1 1-1h14c0.552 0 1 0.448 1 1s-0.448 1-1 1z\"></path>\n",
       "<path d=\"M23 18h-14c-0.552 0-1-0.448-1-1s0.448-1 1-1h14c0.552 0 1 0.448 1 1s-0.448 1-1 1z\"></path>\n",
       "</symbol>\n",
       "</defs>\n",
       "</svg>\n",
       "<style>/* CSS stylesheet for displaying xarray objects in jupyterlab.\n",
       " *\n",
       " */\n",
       "\n",
       ":root {\n",
       "  --xr-font-color0: var(--jp-content-font-color0, rgba(0, 0, 0, 1));\n",
       "  --xr-font-color2: var(--jp-content-font-color2, rgba(0, 0, 0, 0.54));\n",
       "  --xr-font-color3: var(--jp-content-font-color3, rgba(0, 0, 0, 0.38));\n",
       "  --xr-border-color: var(--jp-border-color2, #e0e0e0);\n",
       "  --xr-disabled-color: var(--jp-layout-color3, #bdbdbd);\n",
       "  --xr-background-color: var(--jp-layout-color0, white);\n",
       "  --xr-background-color-row-even: var(--jp-layout-color1, white);\n",
       "  --xr-background-color-row-odd: var(--jp-layout-color2, #eeeeee);\n",
       "}\n",
       "\n",
       "html[theme=dark],\n",
       "body[data-theme=dark],\n",
       "body.vscode-dark {\n",
       "  --xr-font-color0: rgba(255, 255, 255, 1);\n",
       "  --xr-font-color2: rgba(255, 255, 255, 0.54);\n",
       "  --xr-font-color3: rgba(255, 255, 255, 0.38);\n",
       "  --xr-border-color: #1F1F1F;\n",
       "  --xr-disabled-color: #515151;\n",
       "  --xr-background-color: #111111;\n",
       "  --xr-background-color-row-even: #111111;\n",
       "  --xr-background-color-row-odd: #313131;\n",
       "}\n",
       "\n",
       ".xr-wrap {\n",
       "  display: block !important;\n",
       "  min-width: 300px;\n",
       "  max-width: 700px;\n",
       "}\n",
       "\n",
       ".xr-text-repr-fallback {\n",
       "  /* fallback to plain text repr when CSS is not injected (untrusted notebook) */\n",
       "  display: none;\n",
       "}\n",
       "\n",
       ".xr-header {\n",
       "  padding-top: 6px;\n",
       "  padding-bottom: 6px;\n",
       "  margin-bottom: 4px;\n",
       "  border-bottom: solid 1px var(--xr-border-color);\n",
       "}\n",
       "\n",
       ".xr-header > div,\n",
       ".xr-header > ul {\n",
       "  display: inline;\n",
       "  margin-top: 0;\n",
       "  margin-bottom: 0;\n",
       "}\n",
       "\n",
       ".xr-obj-type,\n",
       ".xr-array-name {\n",
       "  margin-left: 2px;\n",
       "  margin-right: 10px;\n",
       "}\n",
       "\n",
       ".xr-obj-type {\n",
       "  color: var(--xr-font-color2);\n",
       "}\n",
       "\n",
       ".xr-sections {\n",
       "  padding-left: 0 !important;\n",
       "  display: grid;\n",
       "  grid-template-columns: 150px auto auto 1fr 20px 20px;\n",
       "}\n",
       "\n",
       ".xr-section-item {\n",
       "  display: contents;\n",
       "}\n",
       "\n",
       ".xr-section-item input {\n",
       "  display: none;\n",
       "}\n",
       "\n",
       ".xr-section-item input + label {\n",
       "  color: var(--xr-disabled-color);\n",
       "}\n",
       "\n",
       ".xr-section-item input:enabled + label {\n",
       "  cursor: pointer;\n",
       "  color: var(--xr-font-color2);\n",
       "}\n",
       "\n",
       ".xr-section-item input:enabled + label:hover {\n",
       "  color: var(--xr-font-color0);\n",
       "}\n",
       "\n",
       ".xr-section-summary {\n",
       "  grid-column: 1;\n",
       "  color: var(--xr-font-color2);\n",
       "  font-weight: 500;\n",
       "}\n",
       "\n",
       ".xr-section-summary > span {\n",
       "  display: inline-block;\n",
       "  padding-left: 0.5em;\n",
       "}\n",
       "\n",
       ".xr-section-summary-in:disabled + label {\n",
       "  color: var(--xr-font-color2);\n",
       "}\n",
       "\n",
       ".xr-section-summary-in + label:before {\n",
       "  display: inline-block;\n",
       "  content: '►';\n",
       "  font-size: 11px;\n",
       "  width: 15px;\n",
       "  text-align: center;\n",
       "}\n",
       "\n",
       ".xr-section-summary-in:disabled + label:before {\n",
       "  color: var(--xr-disabled-color);\n",
       "}\n",
       "\n",
       ".xr-section-summary-in:checked + label:before {\n",
       "  content: '▼';\n",
       "}\n",
       "\n",
       ".xr-section-summary-in:checked + label > span {\n",
       "  display: none;\n",
       "}\n",
       "\n",
       ".xr-section-summary,\n",
       ".xr-section-inline-details {\n",
       "  padding-top: 4px;\n",
       "  padding-bottom: 4px;\n",
       "}\n",
       "\n",
       ".xr-section-inline-details {\n",
       "  grid-column: 2 / -1;\n",
       "}\n",
       "\n",
       ".xr-section-details {\n",
       "  display: none;\n",
       "  grid-column: 1 / -1;\n",
       "  margin-bottom: 5px;\n",
       "}\n",
       "\n",
       ".xr-section-summary-in:checked ~ .xr-section-details {\n",
       "  display: contents;\n",
       "}\n",
       "\n",
       ".xr-array-wrap {\n",
       "  grid-column: 1 / -1;\n",
       "  display: grid;\n",
       "  grid-template-columns: 20px auto;\n",
       "}\n",
       "\n",
       ".xr-array-wrap > label {\n",
       "  grid-column: 1;\n",
       "  vertical-align: top;\n",
       "}\n",
       "\n",
       ".xr-preview {\n",
       "  color: var(--xr-font-color3);\n",
       "}\n",
       "\n",
       ".xr-array-preview,\n",
       ".xr-array-data {\n",
       "  padding: 0 5px !important;\n",
       "  grid-column: 2;\n",
       "}\n",
       "\n",
       ".xr-array-data,\n",
       ".xr-array-in:checked ~ .xr-array-preview {\n",
       "  display: none;\n",
       "}\n",
       "\n",
       ".xr-array-in:checked ~ .xr-array-data,\n",
       ".xr-array-preview {\n",
       "  display: inline-block;\n",
       "}\n",
       "\n",
       ".xr-dim-list {\n",
       "  display: inline-block !important;\n",
       "  list-style: none;\n",
       "  padding: 0 !important;\n",
       "  margin: 0;\n",
       "}\n",
       "\n",
       ".xr-dim-list li {\n",
       "  display: inline-block;\n",
       "  padding: 0;\n",
       "  margin: 0;\n",
       "}\n",
       "\n",
       ".xr-dim-list:before {\n",
       "  content: '(';\n",
       "}\n",
       "\n",
       ".xr-dim-list:after {\n",
       "  content: ')';\n",
       "}\n",
       "\n",
       ".xr-dim-list li:not(:last-child):after {\n",
       "  content: ',';\n",
       "  padding-right: 5px;\n",
       "}\n",
       "\n",
       ".xr-has-index {\n",
       "  font-weight: bold;\n",
       "}\n",
       "\n",
       ".xr-var-list,\n",
       ".xr-var-item {\n",
       "  display: contents;\n",
       "}\n",
       "\n",
       ".xr-var-item > div,\n",
       ".xr-var-item label,\n",
       ".xr-var-item > .xr-var-name span {\n",
       "  background-color: var(--xr-background-color-row-even);\n",
       "  margin-bottom: 0;\n",
       "}\n",
       "\n",
       ".xr-var-item > .xr-var-name:hover span {\n",
       "  padding-right: 5px;\n",
       "}\n",
       "\n",
       ".xr-var-list > li:nth-child(odd) > div,\n",
       ".xr-var-list > li:nth-child(odd) > label,\n",
       ".xr-var-list > li:nth-child(odd) > .xr-var-name span {\n",
       "  background-color: var(--xr-background-color-row-odd);\n",
       "}\n",
       "\n",
       ".xr-var-name {\n",
       "  grid-column: 1;\n",
       "}\n",
       "\n",
       ".xr-var-dims {\n",
       "  grid-column: 2;\n",
       "}\n",
       "\n",
       ".xr-var-dtype {\n",
       "  grid-column: 3;\n",
       "  text-align: right;\n",
       "  color: var(--xr-font-color2);\n",
       "}\n",
       "\n",
       ".xr-var-preview {\n",
       "  grid-column: 4;\n",
       "}\n",
       "\n",
       ".xr-var-name,\n",
       ".xr-var-dims,\n",
       ".xr-var-dtype,\n",
       ".xr-preview,\n",
       ".xr-attrs dt {\n",
       "  white-space: nowrap;\n",
       "  overflow: hidden;\n",
       "  text-overflow: ellipsis;\n",
       "  padding-right: 10px;\n",
       "}\n",
       "\n",
       ".xr-var-name:hover,\n",
       ".xr-var-dims:hover,\n",
       ".xr-var-dtype:hover,\n",
       ".xr-attrs dt:hover {\n",
       "  overflow: visible;\n",
       "  width: auto;\n",
       "  z-index: 1;\n",
       "}\n",
       "\n",
       ".xr-var-attrs,\n",
       ".xr-var-data {\n",
       "  display: none;\n",
       "  background-color: var(--xr-background-color) !important;\n",
       "  padding-bottom: 5px !important;\n",
       "}\n",
       "\n",
       ".xr-var-attrs-in:checked ~ .xr-var-attrs,\n",
       ".xr-var-data-in:checked ~ .xr-var-data {\n",
       "  display: block;\n",
       "}\n",
       "\n",
       ".xr-var-data > table {\n",
       "  float: right;\n",
       "}\n",
       "\n",
       ".xr-var-name span,\n",
       ".xr-var-data,\n",
       ".xr-attrs {\n",
       "  padding-left: 25px !important;\n",
       "}\n",
       "\n",
       ".xr-attrs,\n",
       ".xr-var-attrs,\n",
       ".xr-var-data {\n",
       "  grid-column: 1 / -1;\n",
       "}\n",
       "\n",
       "dl.xr-attrs {\n",
       "  padding: 0;\n",
       "  margin: 0;\n",
       "  display: grid;\n",
       "  grid-template-columns: 125px auto;\n",
       "}\n",
       "\n",
       ".xr-attrs dt,\n",
       ".xr-attrs dd {\n",
       "  padding: 0;\n",
       "  margin: 0;\n",
       "  float: left;\n",
       "  padding-right: 10px;\n",
       "  width: auto;\n",
       "}\n",
       "\n",
       ".xr-attrs dt {\n",
       "  font-weight: normal;\n",
       "  grid-column: 1;\n",
       "}\n",
       "\n",
       ".xr-attrs dt:hover span {\n",
       "  display: inline-block;\n",
       "  background: var(--xr-background-color);\n",
       "  padding-right: 10px;\n",
       "}\n",
       "\n",
       ".xr-attrs dd {\n",
       "  grid-column: 2;\n",
       "  white-space: pre-wrap;\n",
       "  word-break: break-all;\n",
       "}\n",
       "\n",
       ".xr-icon-database,\n",
       ".xr-icon-file-text2 {\n",
       "  display: inline-block;\n",
       "  vertical-align: middle;\n",
       "  width: 1em;\n",
       "  height: 1.5em !important;\n",
       "  stroke-width: 0;\n",
       "  stroke: currentColor;\n",
       "  fill: currentColor;\n",
       "}\n",
       "</style><pre class='xr-text-repr-fallback'>&lt;xarray.DataArray (rec: 3, a: 2, b: 3)&gt;\n",
       "array([[[0.54695006, 0.29361682, 0.96820439],\n",
       "        [0.2261963 , 0.01573824, 0.32585484]],\n",
       "\n",
       "       [[0.5025094 , 0.02836293, 0.5592483 ],\n",
       "        [0.87428277, 0.70473219, 0.62296832]],\n",
       "\n",
       "       [[0.95596175, 0.95827933, 0.82426647],\n",
       "        [0.60774185, 0.48776456, 0.01331611]]])\n",
       "Dimensions without coordinates: rec, a, b</pre><div class='xr-wrap' style='display:none'><div class='xr-header'><div class='xr-obj-type'>xarray.DataArray</div><div class='xr-array-name'></div><ul class='xr-dim-list'><li><span>rec</span>: 3</li><li><span>a</span>: 2</li><li><span>b</span>: 3</li></ul></div><ul class='xr-sections'><li class='xr-section-item'><div class='xr-array-wrap'><input id='section-db441143-5606-4e23-a3b6-8060c7cdbb1f' class='xr-array-in' type='checkbox' checked><label for='section-db441143-5606-4e23-a3b6-8060c7cdbb1f' title='Show/hide data repr'><svg class='icon xr-icon-database'><use xlink:href='#icon-database'></use></svg></label><div class='xr-array-preview xr-preview'><span>0.547 0.2936 0.9682 0.2262 0.01574 ... 0.8243 0.6077 0.4878 0.01332</span></div><div class='xr-array-data'><pre>array([[[0.54695006, 0.29361682, 0.96820439],\n",
       "        [0.2261963 , 0.01573824, 0.32585484]],\n",
       "\n",
       "       [[0.5025094 , 0.02836293, 0.5592483 ],\n",
       "        [0.87428277, 0.70473219, 0.62296832]],\n",
       "\n",
       "       [[0.95596175, 0.95827933, 0.82426647],\n",
       "        [0.60774185, 0.48776456, 0.01331611]]])</pre></div></div></li><li class='xr-section-item'><input id='section-80e79e6a-57f7-4e64-9bcc-2bcbb5b5745b' class='xr-section-summary-in' type='checkbox' disabled ><label for='section-80e79e6a-57f7-4e64-9bcc-2bcbb5b5745b' class='xr-section-summary'  title='Expand/collapse section'>Coordinates: <span>(0)</span></label><div class='xr-section-inline-details'></div><div class='xr-section-details'><ul class='xr-var-list'></ul></div></li><li class='xr-section-item'><input id='section-ec60685a-6675-4ffc-aa02-93f338f14da8' class='xr-section-summary-in' type='checkbox' disabled ><label for='section-ec60685a-6675-4ffc-aa02-93f338f14da8' class='xr-section-summary'  title='Expand/collapse section'>Attributes: <span>(0)</span></label><div class='xr-section-inline-details'></div><div class='xr-section-details'><dl class='xr-attrs'></dl></div></li></ul></div></div>"
      ],
      "text/plain": [
       "<xarray.DataArray (rec: 3, a: 2, b: 3)>\n",
       "array([[[0.54695006, 0.29361682, 0.96820439],\n",
       "        [0.2261963 , 0.01573824, 0.32585484]],\n",
       "\n",
       "       [[0.5025094 , 0.02836293, 0.5592483 ],\n",
       "        [0.87428277, 0.70473219, 0.62296832]],\n",
       "\n",
       "       [[0.95596175, 0.95827933, 0.82426647],\n",
       "        [0.60774185, 0.48776456, 0.01331611]]])\n",
       "Dimensions without coordinates: rec, a, b"
      ]
     },
     "execution_count": 15,
     "metadata": {},
     "output_type": "execute_result"
    }
   ],
   "source": [
    "import xarray as xr\n",
    "\n",
    "x = xr.DataArray(np.random.rand(100, 2, 3), dims=['rec','a','b'])\n",
    "x.head(3)"
   ]
  },
  {
   "cell_type": "markdown",
   "id": "9f50accd",
   "metadata": {},
   "source": [
    "To create a cmomy object wrapping a DataArray, use `cmomy.xCentralMoments`"
   ]
  },
  {
   "cell_type": "code",
   "execution_count": 16,
   "id": "38a244b6",
   "metadata": {},
   "outputs": [
    {
     "data": {
      "text/plain": [
       "<xCentralMoments(val_shape=(2, 3), mom=(3,))>\n",
       "<xarray.DataArray (a: 2, b: 3, mom_0: 4)>\n",
       "array([[[ 1.00000000e+02,  5.36721173e-01,  8.32281081e-02,\n",
       "         -2.27158777e-03],\n",
       "        [ 1.00000000e+02,  4.94492143e-01,  7.06976276e-02,\n",
       "          2.51295615e-03],\n",
       "        [ 1.00000000e+02,  5.47831197e-01,  7.45661739e-02,\n",
       "         -6.10210425e-03]],\n",
       "\n",
       "       [[ 1.00000000e+02,  5.07077442e-01,  8.76007027e-02,\n",
       "         -8.65285379e-04],\n",
       "        [ 1.00000000e+02,  4.60226078e-01,  9.39251917e-02,\n",
       "          5.82696382e-03],\n",
       "        [ 1.00000000e+02,  4.76483437e-01,  7.99380896e-02,\n",
       "          5.50961784e-03]]])\n",
       "Dimensions without coordinates: a, b, mom_0"
      ]
     },
     "execution_count": 16,
     "metadata": {},
     "output_type": "execute_result"
    }
   ],
   "source": [
    "c = cmomy.xCentralMoments.from_vals(x, dim='rec', mom=3)\n",
    "c"
   ]
  },
  {
   "cell_type": "markdown",
   "id": "f38b8581",
   "metadata": {},
   "source": [
    "Everything that `CentralMoments` can do, `xCentralMoments` can do."
   ]
  }
 ],
 "metadata": {
  "celltoolbar": "Raw Cell Format",
  "kernelspec": {
   "display_name": "Python [conda env:cmomy-env]",
   "language": "python",
   "name": "conda-env-cmomy-env-py"
  },
  "language_info": {
   "codemirror_mode": {
    "name": "ipython",
    "version": 3
   },
   "file_extension": ".py",
   "mimetype": "text/x-python",
   "name": "python",
   "nbconvert_exporter": "python",
   "pygments_lexer": "ipython3",
   "version": "3.8.13"
  },
  "toc": {
   "base_numbering": 1,
   "nav_menu": {},
   "number_sections": true,
   "sideBar": true,
   "skip_h1_title": false,
   "title_cell": "Table of Contents",
   "title_sidebar": "Contents",
   "toc_cell": false,
   "toc_position": {},
   "toc_section_display": true,
   "toc_window_display": false
  }
 },
 "nbformat": 4,
 "nbformat_minor": 5
}
